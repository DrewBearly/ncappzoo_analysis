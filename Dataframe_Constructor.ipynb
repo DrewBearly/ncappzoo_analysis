{
 "cells": [
  {
   "cell_type": "code",
   "execution_count": null,
   "metadata": {},
   "outputs": [],
   "source": [
    "import requests\n",
    "import pandas as pd\n",
    "import datetime as dt\n",
    "import subprocess\n",
    "import json\n",
    "import os\n",
    "import re\n",
    "import seaborn as sns\n",
    "import numpy as np\n",
    "import matplotlib.pyplot as plt"
   ]
  },
  {
   "cell_type": "code",
   "execution_count": null,
   "metadata": {},
   "outputs": [],
   "source": [
    "def grabNewDataAndStoreCSV(kind):\n",
    "    keys = open('keys.txt')\n",
    "    read_list = keys.readlines()\n",
    "    for i in range(len(read_list)):\n",
    "        text = read_list[i]\n",
    "        read_list[i] = text.rstrip()\n",
    "    user, token = read_list\n",
    "    auth = user + ':' + token\n",
    "    url = 'https://api.github.com/repos/movidius/ncappzoo/traffic/' + kind\n",
    "    today_dt = dt.datetime.today()\n",
    "    today = '_'.join(str(today_dt).split(' '))\n",
    "    today = '-'.join(str(today.split('.')[0]).split(':'))\n",
    "    folder_name = 'ncappzoo_' + kind + '_' + today\n",
    "    file_name = folder_name + '/' + 'ncappzoo_' + kind + '_' + today\n",
    "\n",
    "    os.mkdir(folder_name)\n",
    "    test = subprocess.Popen([\"curl\", \"-u\", auth, url, \">\", file_name], stdout=subprocess.PIPE)\n",
    "    out, err = test.communicate()\n",
    "    decoded_string = out.decode(\"utf-8\").replace(\"'\", '\"\"').replace('\\n', '')\n",
    "    data = json.loads(decoded_string)\n",
    "    \n",
    "    counts = data['count']\n",
    "    uniques = data['uniques']\n",
    "    timestamp_data = data[kind]\n",
    "    df = pd.DataFrame(timestamp_data)\n",
    "    \n",
    "    timestamps = [x.split('T')[0] for x in df['timestamp'].values]\n",
    "    df['day'] = [x.split('-')[2] for x in timestamps]\n",
    "    df['mo'] = [x.split('-')[1] for x in timestamps]\n",
    "    df['yr'] = [x.split('-')[0] for x in timestamps]\n",
    "    df['collection_timestamp'] = [today_dt for x in range(len(timestamps))]\n",
    "    \n",
    "    json_string = json.dumps(data, indent=4, sort_keys=True)\n",
    "    f = open(file_name + '.json', 'a')\n",
    "    f.write(json_string)\n",
    "    f.close()\n",
    "    csv_string = df.to_csv(file_name + '.csv', index=False)\n",
    "    return file_name + '.csv'"
   ]
  },
  {
   "cell_type": "code",
   "execution_count": null,
   "metadata": {},
   "outputs": [],
   "source": [
    "def construct_new_ref(old_file_path, new_file_path, kind):\n",
    "    old_master_df = pd.read_csv(old_file_path)\n",
    "    new_df = pd.read_csv(new_file_path)\n",
    "    yrs = [x for x in new_df['yr'].values]\n",
    "    mos = [x for x in new_df['mo'].values]\n",
    "    dys = [x for x in new_df['day'].values]\n",
    "    new_df['yr_mo_day'] = [dt.datetime(yrs[i], mos[i], dys[i]) for i in range(len(yrs))]\n",
    "    \n",
    "    # Construction of new ref\n",
    "    new_master = old_master_df.append(new_df).groupby('timestamp').max().reset_index()\n",
    "    yrs = [x for x in new_master['yr'].values]\n",
    "    mos = [x for x in new_master['mo'].values]\n",
    "    dys = [x for x in new_master['day'].values]\n",
    "    new_master['yr_mo_day'] = [dt.datetime(yrs[i], mos[i], dys[i]) for i in range(len(yrs))]\n",
    "    \n",
    "    today_dt = dt.datetime.today()\n",
    "    today = '_'.join(str(today_dt).split(' '))\n",
    "    today = '-'.join(str(today.split('.')[0]).split(':'))\n",
    "    file_name = 'temp/updated_' + kind + '_' + today\n",
    "    csv_string = new_master.to_csv(file_name + '.csv', index=False)\n",
    "    return file_name + '.csv'"
   ]
  },
  {
   "cell_type": "code",
   "execution_count": null,
   "metadata": {},
   "outputs": [],
   "source": [
    "# New\n",
    "new_file = grabNewDataAndStoreCSV('views')\n",
    "old_ref = 'temp/updated_views_2019-10-19_18-41-24.csv'\n",
    "new_ref = construct_new_ref(old_ref, new_file, 'views')"
   ]
  }
 ],
 "metadata": {
  "kernelspec": {
   "display_name": "Python 3",
   "language": "python",
   "name": "python3"
  },
  "language_info": {
   "codemirror_mode": {
    "name": "ipython",
    "version": 3
   },
   "file_extension": ".py",
   "mimetype": "text/x-python",
   "name": "python",
   "nbconvert_exporter": "python",
   "pygments_lexer": "ipython3",
   "version": "3.6.8"
  }
 },
 "nbformat": 4,
 "nbformat_minor": 2
}
