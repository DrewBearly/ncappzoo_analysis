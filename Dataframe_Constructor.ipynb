{
 "cells": [
  {
   "cell_type": "code",
   "execution_count": 1,
   "metadata": {},
   "outputs": [],
   "source": [
    "import requests\n",
    "import pandas as pd\n",
    "import datetime as dt\n",
    "import subprocess\n",
    "import json\n",
    "import os\n",
    "import re\n",
    "import seaborn as sns\n",
    "import numpy as np\n",
    "import matplotlib.pyplot as plt"
   ]
  },
  {
   "cell_type": "code",
   "execution_count": 10,
   "metadata": {},
   "outputs": [],
   "source": [
    "def construct_new_ref(old_file_path, new_file_path, kind):\n",
    "    old_master_df = pd.read_csv(old_file_path)\n",
    "    new_df = pd.read_csv(new_file_path)\n",
    "    yrs = [x for x in new_df['yr'].values]\n",
    "    mos = [x for x in new_df['mo'].values]\n",
    "    dys = [x for x in new_df['day'].values]\n",
    "    new_df['yr_mo_day'] = [dt.datetime(yrs[i], mos[i], dys[i]) for i in range(len(yrs))]\n",
    "    \n",
    "    # Construction of new ref\n",
    "    new_master = old_master_df.append(new_df).groupby('timestamp').max().reset_index()\n",
    "    yrs = [x for x in new_master['yr'].values]\n",
    "    mos = [x for x in new_master['mo'].values]\n",
    "    dys = [x for x in new_master['day'].values]\n",
    "    new_master['yr_mo_day'] = [dt.datetime(yrs[i], mos[i], dys[i]) for i in range(len(yrs))]\n",
    "    \n",
    "    today_dt = dt.datetime.today()\n",
    "    today = '_'.join(str(today_dt).split(' '))\n",
    "    today = '-'.join(str(today.split('.')[0]).split(':'))\n",
    "    file_name = 'temp/updated_' + kind + '_' + today\n",
    "    csv_string = new_master.to_csv(file_name + '.csv', index=False)"
   ]
  },
  {
   "cell_type": "code",
   "execution_count": 11,
   "metadata": {},
   "outputs": [],
   "source": [
    "# Clones\n",
    "old_clones = 'temp/updated_clones.csv'\n",
    "new_clones = 'ncappzoo_clones_2019-10-19_18-13-53/ncappzoo_clones_2019-10-19_18-13-53.csv'\n",
    "construct_new_ref(old_clones, new_clones, 'clones')\n",
    "\n",
    "# Views\n",
    "old_views = '...'\n",
    "new_views = '...'\n",
    "construct_new_ref(old_views, new_views, 'views')"
   ]
  }
 ],
 "metadata": {
  "kernelspec": {
   "display_name": "Python 3",
   "language": "python",
   "name": "python3"
  },
  "language_info": {
   "codemirror_mode": {
    "name": "ipython",
    "version": 3
   },
   "file_extension": ".py",
   "mimetype": "text/x-python",
   "name": "python",
   "nbconvert_exporter": "python",
   "pygments_lexer": "ipython3",
   "version": "3.6.8"
  }
 },
 "nbformat": 4,
 "nbformat_minor": 2
}
