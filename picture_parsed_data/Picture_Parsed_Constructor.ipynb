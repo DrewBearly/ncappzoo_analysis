{
 "cells": [
  {
   "cell_type": "code",
   "execution_count": 19,
   "metadata": {},
   "outputs": [],
   "source": [
    "import requests\n",
    "import pandas as pd\n",
    "import datetime as dt\n",
    "import subprocess\n",
    "import json\n",
    "import os\n",
    "import re\n",
    "import seaborn as sns\n",
    "import numpy as np\n",
    "import matplotlib.pyplot as plt\n",
    "import dateutil.parser"
   ]
  },
  {
   "cell_type": "code",
   "execution_count": 76,
   "metadata": {},
   "outputs": [
    {
     "data": {
      "text/plain": [
       "datetime.datetime(2019, 10, 26, 23, 31, 3, 990125)"
      ]
     },
     "execution_count": 76,
     "metadata": {},
     "output_type": "execute_result"
    }
   ],
   "source": [
    "today = dt.datetime.today()\n",
    "today"
   ]
  },
  {
   "cell_type": "markdown",
   "metadata": {},
   "source": [
    "# Views"
   ]
  },
  {
   "cell_type": "code",
   "execution_count": 82,
   "metadata": {},
   "outputs": [],
   "source": [
    "# Views\n",
    "pd_views = pd.read_csv('old_views.csv')\n",
    "pd_ref_views = pd.read_csv('../temp/updated_views_2019-10-25_17-54-54.csv')"
   ]
  },
  {
   "cell_type": "markdown",
   "metadata": {},
   "source": [
    "timestamp\tcount\tuniques\tday\tmo\tyr\tcollection_timestamp\tyr_mo_day"
   ]
  },
  {
   "cell_type": "code",
   "execution_count": 83,
   "metadata": {},
   "outputs": [],
   "source": [
    "pd_views['collection_timestamp'] = [str(today) for x in range(len(pd_views))]\n",
    "timestamps = [dateutil.parser.parse(d) for d in pd_views['timestamp'].values]\n",
    "timestamps_sep = [(d.day, d.month, d.year) for d in timestamps]\n",
    "col_arr = ['day', 'mo', 'yr']\n",
    "for i in range(3):\n",
    "    pd_views[col_arr[i]] = [t[i] for t in timestamps_sep]\n",
    "pd_views['yr_mo_day'] = [str(t.date()) for t in timestamps]\n",
    "pd_views = pd_views[pd_ref_views.columns.values]"
   ]
  },
  {
   "cell_type": "code",
   "execution_count": 85,
   "metadata": {},
   "outputs": [
    {
     "data": {
      "text/html": [
       "<div>\n",
       "<style scoped>\n",
       "    .dataframe tbody tr th:only-of-type {\n",
       "        vertical-align: middle;\n",
       "    }\n",
       "\n",
       "    .dataframe tbody tr th {\n",
       "        vertical-align: top;\n",
       "    }\n",
       "\n",
       "    .dataframe thead th {\n",
       "        text-align: right;\n",
       "    }\n",
       "</style>\n",
       "<table border=\"1\" class=\"dataframe\">\n",
       "  <thead>\n",
       "    <tr style=\"text-align: right;\">\n",
       "      <th></th>\n",
       "      <th>timestamp</th>\n",
       "      <th>count</th>\n",
       "      <th>uniques</th>\n",
       "      <th>day</th>\n",
       "      <th>mo</th>\n",
       "      <th>yr</th>\n",
       "      <th>collection_timestamp</th>\n",
       "      <th>yr_mo_day</th>\n",
       "    </tr>\n",
       "  </thead>\n",
       "  <tbody>\n",
       "    <tr>\n",
       "      <th>0</th>\n",
       "      <td>2019-07-27T00:00:00Z</td>\n",
       "      <td>80</td>\n",
       "      <td>25</td>\n",
       "      <td>27</td>\n",
       "      <td>7</td>\n",
       "      <td>2019</td>\n",
       "      <td>2019-10-26 23:31:03.990125</td>\n",
       "      <td>2019-07-27</td>\n",
       "    </tr>\n",
       "    <tr>\n",
       "      <th>1</th>\n",
       "      <td>2019-07-28T00:00:00Z</td>\n",
       "      <td>80</td>\n",
       "      <td>35</td>\n",
       "      <td>28</td>\n",
       "      <td>7</td>\n",
       "      <td>2019</td>\n",
       "      <td>2019-10-26 23:31:03.990125</td>\n",
       "      <td>2019-07-28</td>\n",
       "    </tr>\n",
       "    <tr>\n",
       "      <th>2</th>\n",
       "      <td>2019-07-29T00:00:00Z</td>\n",
       "      <td>170</td>\n",
       "      <td>56</td>\n",
       "      <td>29</td>\n",
       "      <td>7</td>\n",
       "      <td>2019</td>\n",
       "      <td>2019-10-26 23:31:03.990125</td>\n",
       "      <td>2019-07-29</td>\n",
       "    </tr>\n",
       "    <tr>\n",
       "      <th>3</th>\n",
       "      <td>2019-07-30T00:00:00Z</td>\n",
       "      <td>260</td>\n",
       "      <td>70</td>\n",
       "      <td>30</td>\n",
       "      <td>7</td>\n",
       "      <td>2019</td>\n",
       "      <td>2019-10-26 23:31:03.990125</td>\n",
       "      <td>2019-07-30</td>\n",
       "    </tr>\n",
       "    <tr>\n",
       "      <th>4</th>\n",
       "      <td>2019-07-31T00:00:00Z</td>\n",
       "      <td>270</td>\n",
       "      <td>50</td>\n",
       "      <td>31</td>\n",
       "      <td>7</td>\n",
       "      <td>2019</td>\n",
       "      <td>2019-10-26 23:31:03.990125</td>\n",
       "      <td>2019-07-31</td>\n",
       "    </tr>\n",
       "  </tbody>\n",
       "</table>\n",
       "</div>"
      ],
      "text/plain": [
       "              timestamp  count  uniques  day  mo    yr  \\\n",
       "0  2019-07-27T00:00:00Z     80       25   27   7  2019   \n",
       "1  2019-07-28T00:00:00Z     80       35   28   7  2019   \n",
       "2  2019-07-29T00:00:00Z    170       56   29   7  2019   \n",
       "3  2019-07-30T00:00:00Z    260       70   30   7  2019   \n",
       "4  2019-07-31T00:00:00Z    270       50   31   7  2019   \n",
       "\n",
       "         collection_timestamp   yr_mo_day  \n",
       "0  2019-10-26 23:31:03.990125  2019-07-27  \n",
       "1  2019-10-26 23:31:03.990125  2019-07-28  \n",
       "2  2019-10-26 23:31:03.990125  2019-07-29  \n",
       "3  2019-10-26 23:31:03.990125  2019-07-30  \n",
       "4  2019-10-26 23:31:03.990125  2019-07-31  "
      ]
     },
     "execution_count": 85,
     "metadata": {},
     "output_type": "execute_result"
    }
   ],
   "source": [
    "pd_new_views = pd_views.append(pd_ref_views).groupby('timestamp').max().reset_index()\n",
    "pd_new_views.head()"
   ]
  },
  {
   "cell_type": "markdown",
   "metadata": {},
   "source": [
    "# Clones"
   ]
  },
  {
   "cell_type": "code",
   "execution_count": 86,
   "metadata": {},
   "outputs": [],
   "source": [
    "pd_clones = pd.read_csv('clones/old_clones.csv')\n",
    "pd_ref_clones = pd.read_csv('../temp/updated_clones_2019-10-25_17-54-54.csv')"
   ]
  },
  {
   "cell_type": "code",
   "execution_count": 87,
   "metadata": {},
   "outputs": [],
   "source": [
    "pd_clones['collection_timestamp'] = [str(today) for x in range(len(pd_views))]\n",
    "timestamps = [dateutil.parser.parse(d) for d in pd_views['timestamp'].values]\n",
    "timestamps_sep = [(d.day, d.month, d.year) for d in timestamps]\n",
    "col_arr = ['day', 'mo', 'yr']\n",
    "for i in range(3):\n",
    "    pd_clones[col_arr[i]] = [t[i] for t in timestamps_sep]\n",
    "pd_clones['yr_mo_day'] = [str(t.date()) for t in timestamps]\n",
    "pd_clones = pd_clones[pd_ref_clones.columns.values]"
   ]
  },
  {
   "cell_type": "code",
   "execution_count": 88,
   "metadata": {},
   "outputs": [
    {
     "data": {
      "text/html": [
       "<div>\n",
       "<style scoped>\n",
       "    .dataframe tbody tr th:only-of-type {\n",
       "        vertical-align: middle;\n",
       "    }\n",
       "\n",
       "    .dataframe tbody tr th {\n",
       "        vertical-align: top;\n",
       "    }\n",
       "\n",
       "    .dataframe thead th {\n",
       "        text-align: right;\n",
       "    }\n",
       "</style>\n",
       "<table border=\"1\" class=\"dataframe\">\n",
       "  <thead>\n",
       "    <tr style=\"text-align: right;\">\n",
       "      <th></th>\n",
       "      <th>timestamp</th>\n",
       "      <th>count</th>\n",
       "      <th>uniques</th>\n",
       "      <th>day</th>\n",
       "      <th>mo</th>\n",
       "      <th>yr</th>\n",
       "      <th>collection_timestamp</th>\n",
       "      <th>yr_mo_day</th>\n",
       "    </tr>\n",
       "  </thead>\n",
       "  <tbody>\n",
       "    <tr>\n",
       "      <th>0</th>\n",
       "      <td>2019-07-27T00:00:00Z</td>\n",
       "      <td>11</td>\n",
       "      <td>7</td>\n",
       "      <td>27</td>\n",
       "      <td>7</td>\n",
       "      <td>2019</td>\n",
       "      <td>2019-10-26 23:31:03.990125</td>\n",
       "      <td>2019-07-27</td>\n",
       "    </tr>\n",
       "    <tr>\n",
       "      <th>1</th>\n",
       "      <td>2019-07-28T00:00:00Z</td>\n",
       "      <td>4</td>\n",
       "      <td>4</td>\n",
       "      <td>28</td>\n",
       "      <td>7</td>\n",
       "      <td>2019</td>\n",
       "      <td>2019-10-26 23:31:03.990125</td>\n",
       "      <td>2019-07-28</td>\n",
       "    </tr>\n",
       "    <tr>\n",
       "      <th>2</th>\n",
       "      <td>2019-07-29T00:00:00Z</td>\n",
       "      <td>17</td>\n",
       "      <td>10</td>\n",
       "      <td>29</td>\n",
       "      <td>7</td>\n",
       "      <td>2019</td>\n",
       "      <td>2019-10-26 23:31:03.990125</td>\n",
       "      <td>2019-07-29</td>\n",
       "    </tr>\n",
       "    <tr>\n",
       "      <th>3</th>\n",
       "      <td>2019-07-30T00:00:00Z</td>\n",
       "      <td>28</td>\n",
       "      <td>16</td>\n",
       "      <td>30</td>\n",
       "      <td>7</td>\n",
       "      <td>2019</td>\n",
       "      <td>2019-10-26 23:31:03.990125</td>\n",
       "      <td>2019-07-30</td>\n",
       "    </tr>\n",
       "    <tr>\n",
       "      <th>4</th>\n",
       "      <td>2019-07-31T00:00:00Z</td>\n",
       "      <td>16</td>\n",
       "      <td>10</td>\n",
       "      <td>31</td>\n",
       "      <td>7</td>\n",
       "      <td>2019</td>\n",
       "      <td>2019-10-26 23:31:03.990125</td>\n",
       "      <td>2019-07-31</td>\n",
       "    </tr>\n",
       "  </tbody>\n",
       "</table>\n",
       "</div>"
      ],
      "text/plain": [
       "              timestamp  count  uniques  day  mo    yr  \\\n",
       "0  2019-07-27T00:00:00Z     11        7   27   7  2019   \n",
       "1  2019-07-28T00:00:00Z      4        4   28   7  2019   \n",
       "2  2019-07-29T00:00:00Z     17       10   29   7  2019   \n",
       "3  2019-07-30T00:00:00Z     28       16   30   7  2019   \n",
       "4  2019-07-31T00:00:00Z     16       10   31   7  2019   \n",
       "\n",
       "         collection_timestamp   yr_mo_day  \n",
       "0  2019-10-26 23:31:03.990125  2019-07-27  \n",
       "1  2019-10-26 23:31:03.990125  2019-07-28  \n",
       "2  2019-10-26 23:31:03.990125  2019-07-29  \n",
       "3  2019-10-26 23:31:03.990125  2019-07-30  \n",
       "4  2019-10-26 23:31:03.990125  2019-07-31  "
      ]
     },
     "execution_count": 88,
     "metadata": {},
     "output_type": "execute_result"
    }
   ],
   "source": [
    "pd_new_clones = pd_clones.append(pd_ref_clones).groupby('timestamp').max().reset_index()\n",
    "pd_new_clones.head()"
   ]
  },
  {
   "cell_type": "code",
   "execution_count": 89,
   "metadata": {},
   "outputs": [
    {
     "data": {
      "text/plain": [
       "(91, 91)"
      ]
     },
     "execution_count": 89,
     "metadata": {},
     "output_type": "execute_result"
    }
   ],
   "source": [
    "len(pd_new_clones), len(pd_new_views)"
   ]
  },
  {
   "cell_type": "code",
   "execution_count": 90,
   "metadata": {},
   "outputs": [],
   "source": [
    "pd_new_clones.to_csv('ref_clones_' + str(today.date()) + '.csv', index=False)"
   ]
  },
  {
   "cell_type": "code",
   "execution_count": 91,
   "metadata": {},
   "outputs": [],
   "source": [
    "pd_new_views.to_csv('ref_views_' + str(today.date()) + '.csv', index=False)"
   ]
  },
  {
   "cell_type": "code",
   "execution_count": null,
   "metadata": {},
   "outputs": [],
   "source": []
  }
 ],
 "metadata": {
  "kernelspec": {
   "display_name": "Python 3",
   "language": "python",
   "name": "python3"
  },
  "language_info": {
   "codemirror_mode": {
    "name": "ipython",
    "version": 3
   },
   "file_extension": ".py",
   "mimetype": "text/x-python",
   "name": "python",
   "nbconvert_exporter": "python",
   "pygments_lexer": "ipython3",
   "version": "3.6.8"
  }
 },
 "nbformat": 4,
 "nbformat_minor": 2
}
