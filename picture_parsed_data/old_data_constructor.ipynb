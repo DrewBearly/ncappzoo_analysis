{
 "cells": [
  {
   "cell_type": "code",
   "execution_count": 48,
   "metadata": {},
   "outputs": [],
   "source": [
    "import requests\n",
    "import pandas as pd\n",
    "import datetime as dt\n",
    "from datetime import timedelta\n",
    "import subprocess\n",
    "import json\n",
    "import os\n",
    "import re\n",
    "import seaborn as sns\n",
    "import numpy as np\n",
    "import matplotlib.pyplot as plt\n",
    "import dateutil.parser"
   ]
  },
  {
   "cell_type": "markdown",
   "metadata": {},
   "source": [
    "columns: <br/>\n",
    "timestamp\tcount\tuniques\tday\tmo\tyr\tcollection_timestamp yr_mo_day"
   ]
  },
  {
   "cell_type": "markdown",
   "metadata": {},
   "source": [
    "Example data: <br/>\n",
    "'timestamp': '2019-10-07T00:00:00Z', 'count': 18, 'uniques': 1"
   ]
  },
  {
   "cell_type": "code",
   "execution_count": 101,
   "metadata": {},
   "outputs": [],
   "source": [
    "def string_date(month, day, year):\n",
    "    return year + '-' + month + '-' + day + 'T00:00:00Z'\n",
    "\n",
    "def generate_14_days(month, day, year):\n",
    "    start_date = string_date(month, day, year)\n",
    "    start = dateutil.parser.parse(start_date)\n",
    "    return [start + timedelta(hours=24*i) for i in range(14)]\n",
    "\n",
    "def generate_data(start, part1, part2):\n",
    "    mo, dy, yr = start\n",
    "    days = generate_14_days(mo, dy, yr)\n",
    "    ret_arr = []\n",
    "    for i in range(14):\n",
    "        ret_arr.append({\n",
    "            'timestamp': days[i].isoformat()[:10] + 'T00:00:00Z', \n",
    "            'count': part1[i],\n",
    "            'uniques': part2[i]\n",
    "        })\n",
    "    return ret_arr\n",
    "\n",
    "def data_json_maker(kind, count, unique, data):\n",
    "    return {\n",
    "        'count': str(count),\n",
    "        'uniques': str(unique),\n",
    "        kind: data\n",
    "    }\n",
    "\n",
    "def generate_json_file(start, part1, part2, kind, count, unique):\n",
    "    data = generate_data(start, part1, part2)\n",
    "    json_format = data_json_maker(kind, count, unique, data)\n",
    "    yr, mo, dy = start\n",
    "    file_name = yr + '-' + mo + '-' + dy + '_' + kind + '-json.json'\n",
    "    print(json_format)\n",
    "    with open(file_name, 'w') as outfile:\n",
    "        json.dump(json_format, outfile, indent=4)\n",
    "    return json_format"
   ]
  },
  {
   "cell_type": "code",
   "execution_count": 127,
   "metadata": {},
   "outputs": [
    {
     "name": "stdout",
     "output_type": "stream",
     "text": [
      "{'count': '238', 'uniques': '133', 'clones': [{'timestamp': '2019-07-27T00:00:00Z', 'count': 11, 'uniques': 7}, {'timestamp': '2019-07-28T00:00:00Z', 'count': 4, 'uniques': 4}, {'timestamp': '2019-07-29T00:00:00Z', 'count': 17, 'uniques': 10}, {'timestamp': '2019-07-30T00:00:00Z', 'count': 28, 'uniques': 16}, {'timestamp': '2019-07-31T00:00:00Z', 'count': 16, 'uniques': 10}, {'timestamp': '2019-08-01T00:00:00Z', 'count': 28, 'uniques': 14}, {'timestamp': '2019-08-02T00:00:00Z', 'count': 10, 'uniques': 7}, {'timestamp': '2019-08-03T00:00:00Z', 'count': 16, 'uniques': 8}, {'timestamp': '2019-08-04T00:00:00Z', 'count': 10, 'uniques': 7}, {'timestamp': '2019-08-05T00:00:00Z', 'count': 30, 'uniques': 14}, {'timestamp': '2019-08-06T00:00:00Z', 'count': 29, 'uniques': 15}, {'timestamp': '2019-08-07T00:00:00Z', 'count': 32, 'uniques': 17}, {'timestamp': '2019-08-08T00:00:00Z', 'count': 21, 'uniques': 15}, {'timestamp': '2019-08-09T00:00:00Z', 'count': 0, 'uniques': 0}]}\n"
     ]
    }
   ],
   "source": [
    "# generate_data(('07', '27', '2019'), part1_08_08, part2_08_08)\n",
    "start_date = ('07', '27', '2019')\n",
    "part1_08_08 = [\n",
    "    11, 4, 17, 28, 16, 28, 10, 16, 10, 30, 29, 32, 21, 0\n",
    "]\n",
    "part2_08_08 = [\n",
    "    7, 4, 10, 16, 10, 14, 7, 8, 7, 14, 15, 17, 15, 0\n",
    "]\n",
    "\n",
    "# August 27th 2019\n",
    "json_obj_1 = generate_json_file(start_date, part1_08_08, part2_08_08, \n",
    "                   'clones', 238, 133)"
   ]
  },
  {
   "cell_type": "code",
   "execution_count": 128,
   "metadata": {},
   "outputs": [
    {
     "name": "stdout",
     "output_type": "stream",
     "text": [
      "{'count': '332', 'uniques': '168', 'clones': [{'timestamp': '2019-07-30T00:00:00Z', 'count': 28, 'uniques': 16}, {'timestamp': '2019-07-31T00:00:00Z', 'count': 16, 'uniques': 10}, {'timestamp': '2019-08-01T00:00:00Z', 'count': 28, 'uniques': 14}, {'timestamp': '2019-08-02T00:00:00Z', 'count': 10, 'uniques': 7}, {'timestamp': '2019-08-03T00:00:00Z', 'count': 16, 'uniques': 8}, {'timestamp': '2019-08-04T00:00:00Z', 'count': 10, 'uniques': 7}, {'timestamp': '2019-08-05T00:00:00Z', 'count': 30, 'uniques': 14}, {'timestamp': '2019-08-06T00:00:00Z', 'count': 29, 'uniques': 15}, {'timestamp': '2019-08-07T00:00:00Z', 'count': 32, 'uniques': 17}, {'timestamp': '2019-08-08T00:00:00Z', 'count': 21, 'uniques': 15}, {'timestamp': '2019-08-09T00:00:00Z', 'count': 34, 'uniques': 17}, {'timestamp': '2019-08-10T00:00:00Z', 'count': 34, 'uniques': 18}, {'timestamp': '2019-08-11T00:00:00Z', 'count': 33, 'uniques': 19}, {'timestamp': '2019-08-12T00:00:00Z', 'count': 25, 'uniques': 15}]}\n"
     ]
    }
   ],
   "source": [
    "start_date = ('07', '30', '2019')\n",
    "\n",
    "part1_08_12 = [\n",
    "    28, 16, 28, 10, 16, 10, 30, 29, 32, 21, 34, 34, 33, 25\n",
    "]\n",
    "part2_08_12 = [\n",
    "    16, 10, 14, 7, 8, 7, 14, 15, 17, 15, 17, 18, 19, 15\n",
    "]\n",
    "\n",
    "json_obj_2 = generate_json_file(start_date, part1_08_12, part2_08_12, 'clones', \n",
    "                  332, 168)"
   ]
  },
  {
   "cell_type": "code",
   "execution_count": 129,
   "metadata": {},
   "outputs": [
    {
     "name": "stdout",
     "output_type": "stream",
     "text": [
      "{'count': '409', 'uniques': '193', 'clones': [{'timestamp': '2019-08-02T00:00:00Z', 'count': 10, 'uniques': 7}, {'timestamp': '2019-08-03T00:00:00Z', 'count': 16, 'uniques': 8}, {'timestamp': '2019-08-04T00:00:00Z', 'count': 10, 'uniques': 7}, {'timestamp': '2019-08-05T00:00:00Z', 'count': 30, 'uniques': 14}, {'timestamp': '2019-08-06T00:00:00Z', 'count': 29, 'uniques': 15}, {'timestamp': '2019-08-07T00:00:00Z', 'count': 32, 'uniques': 17}, {'timestamp': '2019-08-08T00:00:00Z', 'count': 21, 'uniques': 15}, {'timestamp': '2019-08-09T00:00:00Z', 'count': 34, 'uniques': 17}, {'timestamp': '2019-08-10T00:00:00Z', 'count': 34, 'uniques': 18}, {'timestamp': '2019-08-11T00:00:00Z', 'count': 33, 'uniques': 19}, {'timestamp': '2019-08-12T00:00:00Z', 'count': 44, 'uniques': 22}, {'timestamp': '2019-08-13T00:00:00Z', 'count': 48, 'uniques': 20}, {'timestamp': '2019-08-14T00:00:00Z', 'count': 48, 'uniques': 23}, {'timestamp': '2019-08-15T00:00:00Z', 'count': 42, 'uniques': 22}]}\n"
     ]
    }
   ],
   "source": [
    "start_date = ('08', '02', '2019')\n",
    "\n",
    "part1_08_15 = [\n",
    "    10, 16, 10, 30, 29, 32, 21, 34, 34, 33, 44, 48, 48, 42\n",
    "]\n",
    "part2_08_15 = [\n",
    "    7, 8, 7, 14, 15, 17, 15, 17, 18, 19, 22, 20, 23, 22\n",
    "]\n",
    "\n",
    "json_obj_3 = generate_json_file(start_date, part1_08_15, part2_08_15, 'clones', \n",
    "                  409, 193)"
   ]
  },
  {
   "cell_type": "code",
   "execution_count": 130,
   "metadata": {},
   "outputs": [
    {
     "name": "stdout",
     "output_type": "stream",
     "text": [
      "{'count': '427', 'uniques': '210', 'clones': [{'timestamp': '2019-08-06T00:00:00Z', 'count': 29, 'uniques': 15}, {'timestamp': '2019-08-07T00:00:00Z', 'count': 32, 'uniques': 17}, {'timestamp': '2019-08-08T00:00:00Z', 'count': 21, 'uniques': 15}, {'timestamp': '2019-08-09T00:00:00Z', 'count': 34, 'uniques': 17}, {'timestamp': '2019-08-10T00:00:00Z', 'count': 34, 'uniques': 18}, {'timestamp': '2019-08-11T00:00:00Z', 'count': 33, 'uniques': 19}, {'timestamp': '2019-08-12T00:00:00Z', 'count': 44, 'uniques': 22}, {'timestamp': '2019-08-13T00:00:00Z', 'count': 46, 'uniques': 20}, {'timestamp': '2019-08-14T00:00:00Z', 'count': 46, 'uniques': 23}, {'timestamp': '2019-08-15T00:00:00Z', 'count': 42, 'uniques': 22}, {'timestamp': '2019-08-16T00:00:00Z', 'count': 33, 'uniques': 20}, {'timestamp': '2019-08-17T00:00:00Z', 'count': 24, 'uniques': 18}, {'timestamp': '2019-08-18T00:00:00Z', 'count': 20, 'uniques': 13}, {'timestamp': '2019-08-19T00:00:00Z', 'count': 13, 'uniques': 10}]}\n"
     ]
    }
   ],
   "source": [
    "start_date = ('08', '06', '2019')\n",
    "\n",
    "part1_08_19 = [\n",
    "    29, 32, 21, 34, 34, 33, 44, 46, 46, 42, 33, 24, 20, 13\n",
    "]\n",
    "part2_08_19 = [\n",
    "    15, 17, 15, 17, 18, 19, 22, 20, 23, 22, 20, 18, 13, 10\n",
    "]\n",
    "\n",
    "json_obj_4 = generate_json_file(start_date, part1_08_19, part2_08_19, 'clones', \n",
    "                  427, 210)"
   ]
  },
  {
   "cell_type": "code",
   "execution_count": 131,
   "metadata": {},
   "outputs": [
    {
     "name": "stdout",
     "output_type": "stream",
     "text": [
      "{'count': '241', 'uniques': '137', 'clones': [{'timestamp': '2019-08-13T00:00:00Z', 'count': 48, 'uniques': 20}, {'timestamp': '2019-08-14T00:00:00Z', 'count': 48, 'uniques': 23}, {'timestamp': '2019-08-15T00:00:00Z', 'count': 42, 'uniques': 22}, {'timestamp': '2019-08-16T00:00:00Z', 'count': 33, 'uniques': 20}, {'timestamp': '2019-08-17T00:00:00Z', 'count': 24, 'uniques': 18}, {'timestamp': '2019-08-18T00:00:00Z', 'count': 19, 'uniques': 13}, {'timestamp': '2019-08-19T00:00:00Z', 'count': 20, 'uniques': 17}, {'timestamp': '2019-08-20T00:00:00Z', 'count': 16, 'uniques': 16}, {'timestamp': '2019-08-21T00:00:00Z', 'count': 0, 'uniques': 0}, {'timestamp': '2019-08-22T00:00:00Z', 'count': 0, 'uniques': 0}, {'timestamp': '2019-08-23T00:00:00Z', 'count': 0, 'uniques': 0}, {'timestamp': '2019-08-24T00:00:00Z', 'count': 0, 'uniques': 0}, {'timestamp': '2019-08-25T00:00:00Z', 'count': 0, 'uniques': 0}, {'timestamp': '2019-08-26T00:00:00Z', 'count': 11, 'uniques': 5}]}\n"
     ]
    }
   ],
   "source": [
    "start_date = ('08', '13', '2019')\n",
    "\n",
    "part1_08_26 = [\n",
    "    48, 48, 42, 33, 24, 19, 20, 16, 0, 0, 0, 0, 0, 11\n",
    "]\n",
    "part2_08_26 = [\n",
    "    20, 23, 22, 20, 18, 13, 17, 16, 0, 0, 0, 0, 0, 5 \n",
    "]\n",
    "\n",
    "json_obj_5 = generate_json_file(start_date, part1_08_26, part2_08_26, \n",
    "                                'clones', 241, 137)"
   ]
  },
  {
   "cell_type": "code",
   "execution_count": 132,
   "metadata": {},
   "outputs": [
    {
     "name": "stdout",
     "output_type": "stream",
     "text": [
      "{'count': '304', 'uniques': '198', 'clones': [{'timestamp': '2019-08-18T00:00:00Z', 'count': 19, 'uniques': 13}, {'timestamp': '2019-08-19T00:00:00Z', 'count': 20, 'uniques': 17}, {'timestamp': '2019-08-20T00:00:00Z', 'count': 20, 'uniques': 17}, {'timestamp': '2019-08-21T00:00:00Z', 'count': 30, 'uniques': 24}, {'timestamp': '2019-08-22T00:00:00Z', 'count': 23, 'uniques': 21}, {'timestamp': '2019-08-23T00:00:00Z', 'count': 17, 'uniques': 16}, {'timestamp': '2019-08-24T00:00:00Z', 'count': 16, 'uniques': 17}, {'timestamp': '2019-08-25T00:00:00Z', 'count': 14, 'uniques': 13}, {'timestamp': '2019-08-26T00:00:00Z', 'count': 44, 'uniques': 27}, {'timestamp': '2019-08-27T00:00:00Z', 'count': 24, 'uniques': 20}, {'timestamp': '2019-08-28T00:00:00Z', 'count': 27, 'uniques': 19}, {'timestamp': '2019-08-29T00:00:00Z', 'count': 30, 'uniques': 24}, {'timestamp': '2019-08-30T00:00:00Z', 'count': 20, 'uniques': 19}, {'timestamp': '2019-08-31T00:00:00Z', 'count': 8, 'uniques': 8}]}\n"
     ]
    }
   ],
   "source": [
    "start_date = ('08', '18', '2019')\n",
    "\n",
    "part1_08_31 = [\n",
    "    19, 20, 20, 30, 23, 17, 16, 14, 44, 24, 27, 30, 20, 8\n",
    "]\n",
    "part2_08_31 = [\n",
    "    13, 17, 17, 24, 21, 16, 17, 13, 27, 20, 19, 24, 19, 8 \n",
    "]\n",
    "\n",
    "json_obj_6 = generate_json_file(start_date, part1_08_31, part2_08_31, \n",
    "                                'clones', 304, 198)"
   ]
  },
  {
   "cell_type": "code",
   "execution_count": 133,
   "metadata": {},
   "outputs": [
    {
     "name": "stdout",
     "output_type": "stream",
     "text": [
      "{'count': '313', 'uniques': '207', 'clones': [{'timestamp': '2019-08-21T00:00:00Z', 'count': 30, 'uniques': 24}, {'timestamp': '2019-08-22T00:00:00Z', 'count': 23, 'uniques': 21}, {'timestamp': '2019-08-23T00:00:00Z', 'count': 17, 'uniques': 16}, {'timestamp': '2019-08-24T00:00:00Z', 'count': 16, 'uniques': 17}, {'timestamp': '2019-08-25T00:00:00Z', 'count': 14, 'uniques': 13}, {'timestamp': '2019-08-26T00:00:00Z', 'count': 44, 'uniques': 27}, {'timestamp': '2019-08-27T00:00:00Z', 'count': 24, 'uniques': 20}, {'timestamp': '2019-08-28T00:00:00Z', 'count': 27, 'uniques': 19}, {'timestamp': '2019-08-29T00:00:00Z', 'count': 30, 'uniques': 24}, {'timestamp': '2019-08-30T00:00:00Z', 'count': 20, 'uniques': 19}, {'timestamp': '2019-08-31T00:00:00Z', 'count': 16, 'uniques': 13}, {'timestamp': '2019-09-01T00:00:00Z', 'count': 15, 'uniques': 15}, {'timestamp': '2019-09-02T00:00:00Z', 'count': 32, 'uniques': 23}, {'timestamp': '2019-09-03T00:00:00Z', 'count': 20, 'uniques': 17}]}\n"
     ]
    }
   ],
   "source": [
    "start_date = ('08', '21', '2019')\n",
    "\n",
    "part1_09_03 = [\n",
    "    30, 23, 17, 16, 14, 44, 24, 27, 30, 20, 16, 15, 32, 20\n",
    "]\n",
    "part2_09_03 = [\n",
    "    24, 21, 16, 17, 13, 27, 20, 19, 24, 19, 13, 15, 23, 17 \n",
    "]\n",
    "\n",
    "json_obj_7 = generate_json_file(start_date, part1_09_03, part2_09_03, \n",
    "                                'clones', 313, 207)"
   ]
  },
  {
   "cell_type": "code",
   "execution_count": 134,
   "metadata": {},
   "outputs": [
    {
     "name": "stdout",
     "output_type": "stream",
     "text": [
      "{'count': '317', 'uniques': '206', 'clones': [{'timestamp': '2019-08-23T00:00:00Z', 'count': 17, 'uniques': 16}, {'timestamp': '2019-08-24T00:00:00Z', 'count': 16, 'uniques': 17}, {'timestamp': '2019-08-25T00:00:00Z', 'count': 14, 'uniques': 13}, {'timestamp': '2019-08-26T00:00:00Z', 'count': 44, 'uniques': 27}, {'timestamp': '2019-08-27T00:00:00Z', 'count': 24, 'uniques': 20}, {'timestamp': '2019-08-28T00:00:00Z', 'count': 27, 'uniques': 19}, {'timestamp': '2019-08-29T00:00:00Z', 'count': 30, 'uniques': 24}, {'timestamp': '2019-08-30T00:00:00Z', 'count': 20, 'uniques': 19}, {'timestamp': '2019-08-31T00:00:00Z', 'count': 16, 'uniques': 13}, {'timestamp': '2019-09-01T00:00:00Z', 'count': 15, 'uniques': 15}, {'timestamp': '2019-09-02T00:00:00Z', 'count': 32, 'uniques': 23}, {'timestamp': '2019-09-03T00:00:00Z', 'count': 24, 'uniques': 20}, {'timestamp': '2019-09-04T00:00:00Z', 'count': 23, 'uniques': 18}, {'timestamp': '2019-09-05T00:00:00Z', 'count': 22, 'uniques': 19}]}\n"
     ]
    }
   ],
   "source": [
    "start_date = ('08', '23', '2019')\n",
    "\n",
    "part1_09_05 = [\n",
    "    17, 16, 14, 44, 24, 27, 30, 20, 16, 15, 32, 24, 23, 22\n",
    "]\n",
    "part2_09_05 = [\n",
    "    16, 17, 13, 27, 20, 19, 24, 19, 13, 15, 23, 20, 18, 19 \n",
    "]\n",
    "\n",
    "json_obj_8 = generate_json_file(start_date, part1_09_05, part2_09_05, \n",
    "                                'clones', 317, 206)"
   ]
  },
  {
   "cell_type": "code",
   "execution_count": 135,
   "metadata": {},
   "outputs": [
    {
     "name": "stdout",
     "output_type": "stream",
     "text": [
      "{'count': '296', 'uniques': '197', 'clones': [{'timestamp': '2019-08-27T00:00:00Z', 'count': 24, 'uniques': 20}, {'timestamp': '2019-08-28T00:00:00Z', 'count': 27, 'uniques': 19}, {'timestamp': '2019-08-29T00:00:00Z', 'count': 30, 'uniques': 24}, {'timestamp': '2019-08-30T00:00:00Z', 'count': 20, 'uniques': 19}, {'timestamp': '2019-08-31T00:00:00Z', 'count': 16, 'uniques': 13}, {'timestamp': '2019-09-01T00:00:00Z', 'count': 15, 'uniques': 15}, {'timestamp': '2019-09-02T00:00:00Z', 'count': 32, 'uniques': 23}, {'timestamp': '2019-09-03T00:00:00Z', 'count': 24, 'uniques': 20}, {'timestamp': '2019-09-04T00:00:00Z', 'count': 23, 'uniques': 18}, {'timestamp': '2019-09-05T00:00:00Z', 'count': 30, 'uniques': 19}, {'timestamp': '2019-09-06T00:00:00Z', 'count': 22, 'uniques': 10}, {'timestamp': '2019-09-07T00:00:00Z', 'count': 15, 'uniques': 11}, {'timestamp': '2019-09-08T00:00:00Z', 'count': 13, 'uniques': 10}, {'timestamp': '2019-09-09T00:00:00Z', 'count': 20, 'uniques': 15}]}\n"
     ]
    }
   ],
   "source": [
    "start_date = ('08', '27', '2019')\n",
    "\n",
    "part1_09_09 = [\n",
    "    24, 27, 30, 20, 16, 15, 32, 24, 23, 30, 22, 15, 13, 20\n",
    "]\n",
    "part2_09_09 = [\n",
    "    20, 19, 24, 19, 13, 15, 23, 20, 18, 19, 10, 11, 10, 15  \n",
    "]\n",
    "\n",
    "json_obj_9 = generate_json_file(start_date, part1_09_09, part2_09_09, \n",
    "                                'clones', 296, 197)"
   ]
  },
  {
   "cell_type": "code",
   "execution_count": 136,
   "metadata": {},
   "outputs": [
    {
     "name": "stdout",
     "output_type": "stream",
     "text": [
      "{'count': '325', 'uniques': '212', 'clones': [{'timestamp': '2019-08-31T00:00:00Z', 'count': 16, 'uniques': 13}, {'timestamp': '2019-09-01T00:00:00Z', 'count': 15, 'uniques': 15}, {'timestamp': '2019-09-02T00:00:00Z', 'count': 32, 'uniques': 23}, {'timestamp': '2019-09-03T00:00:00Z', 'count': 24, 'uniques': 20}, {'timestamp': '2019-09-04T00:00:00Z', 'count': 23, 'uniques': 18}, {'timestamp': '2019-09-05T00:00:00Z', 'count': 30, 'uniques': 19}, {'timestamp': '2019-09-06T00:00:00Z', 'count': 22, 'uniques': 10}, {'timestamp': '2019-09-07T00:00:00Z', 'count': 15, 'uniques': 11}, {'timestamp': '2019-09-08T00:00:00Z', 'count': 13, 'uniques': 10}, {'timestamp': '2019-09-09T00:00:00Z', 'count': 26, 'uniques': 17}, {'timestamp': '2019-09-10T00:00:00Z', 'count': 20, 'uniques': 15}, {'timestamp': '2019-09-11T00:00:00Z', 'count': 24, 'uniques': 20}, {'timestamp': '2019-09-12T00:00:00Z', 'count': 43, 'uniques': 32}, {'timestamp': '2019-09-13T00:00:00Z', 'count': 40, 'uniques': 28}]}\n"
     ]
    }
   ],
   "source": [
    "start_date = ('08', '31', '2019')\n",
    "\n",
    "part1_09_13 = [\n",
    "    16, 15, 32, 24, 23, 30, 22, 15, 13, 26, 20, 24, 43, 40\n",
    "]\n",
    "part2_09_13 = [\n",
    "    13, 15, 23, 20, 18, 19, 10, 11, 10, 17, 15, 20, 32, 28   \n",
    "]\n",
    "\n",
    "json_obj_10 = generate_json_file(start_date, part1_09_13, part2_09_13, \n",
    "                                'clones', 325, 212)"
   ]
  },
  {
   "cell_type": "code",
   "execution_count": 137,
   "metadata": {},
   "outputs": [
    {
     "name": "stdout",
     "output_type": "stream",
     "text": [
      "{'count': '323', 'uniques': '207', 'clones': [{'timestamp': '2019-09-07T00:00:00Z', 'count': 22, 'uniques': 10}, {'timestamp': '2019-09-08T00:00:00Z', 'count': 15, 'uniques': 11}, {'timestamp': '2019-09-09T00:00:00Z', 'count': 13, 'uniques': 10}, {'timestamp': '2019-09-10T00:00:00Z', 'count': 26, 'uniques': 17}, {'timestamp': '2019-09-11T00:00:00Z', 'count': 20, 'uniques': 15}, {'timestamp': '2019-09-12T00:00:00Z', 'count': 24, 'uniques': 20}, {'timestamp': '2019-09-13T00:00:00Z', 'count': 43, 'uniques': 32}, {'timestamp': '2019-09-14T00:00:00Z', 'count': 40, 'uniques': 28}, {'timestamp': '2019-09-15T00:00:00Z', 'count': 20, 'uniques': 12}, {'timestamp': '2019-09-16T00:00:00Z', 'count': 19, 'uniques': 11}, {'timestamp': '2019-09-17T00:00:00Z', 'count': 20, 'uniques': 12}, {'timestamp': '2019-09-18T00:00:00Z', 'count': 33, 'uniques': 24}, {'timestamp': '2019-09-19T00:00:00Z', 'count': 23, 'uniques': 17}, {'timestamp': '2019-09-20T00:00:00Z', 'count': 26, 'uniques': 21}]}\n"
     ]
    }
   ],
   "source": [
    "start_date = ('09', '07', '2019')\n",
    "\n",
    "part1_09_20 = [\n",
    "    22, 15, 13, 26, 20, 24, 43, 40, 20, 19, 20, 33, 23, 26, 30\n",
    "]\n",
    "part2_09_20 = [\n",
    "    10, 11, 10, 17, 15, 20, 32, 28, 12, 11, 12, 24, 17, 21, 19\n",
    "]\n",
    "\n",
    "json_obj_11 = generate_json_file(start_date, part1_09_20, part2_09_20, \n",
    "                                'clones', 323, 207)"
   ]
  },
  {
   "cell_type": "code",
   "execution_count": null,
   "metadata": {},
   "outputs": [],
   "source": []
  },
  {
   "cell_type": "code",
   "execution_count": null,
   "metadata": {},
   "outputs": [],
   "source": []
  },
  {
   "cell_type": "code",
   "execution_count": null,
   "metadata": {},
   "outputs": [],
   "source": []
  },
  {
   "cell_type": "code",
   "execution_count": 138,
   "metadata": {},
   "outputs": [],
   "source": [
    "pd1 = pd.DataFrame(json_obj_1['clones'])\n",
    "pd2 = pd.DataFrame(json_obj_2['clones'])\n",
    "pd3 = pd.DataFrame(json_obj_3['clones'])\n",
    "pd4 = pd.DataFrame(json_obj_4['clones'])\n",
    "pd5 = pd.DataFrame(json_obj_5['clones'])\n",
    "pd6 = pd.DataFrame(json_obj_6['clones'])\n",
    "pd7 = pd.DataFrame(json_obj_7['clones'])\n",
    "pd8 = pd.DataFrame(json_obj_8['clones'])\n",
    "pd9 = pd.DataFrame(json_obj_9['clones'])\n",
    "pd10 = pd.DataFrame(json_obj_10['clones'])\n",
    "pd11 = pd.DataFrame(json_obj_11['clones'])\n",
    "\n",
    "pds_arr = [pd1, pd2, pd3, pd4, pd5, pd6, pd7, pd8, pd9, pd10, pd11]\n",
    "\n",
    "pd_main = pd1.copy(deep=True)\n",
    "for k in pds_arr:\n",
    "    pd_main = pd_main.append(k)\n",
    "             \n",
    "pd_main = pd_main.groupby('timestamp').max().reset_index()"
   ]
  },
  {
   "cell_type": "code",
   "execution_count": 142,
   "metadata": {},
   "outputs": [],
   "source": [
    "pd_main.to_csv('old_clones.csv', index=False)"
   ]
  },
  {
   "cell_type": "code",
   "execution_count": 139,
   "metadata": {},
   "outputs": [
    {
     "data": {
      "text/html": [
       "<div>\n",
       "<style scoped>\n",
       "    .dataframe tbody tr th:only-of-type {\n",
       "        vertical-align: middle;\n",
       "    }\n",
       "\n",
       "    .dataframe tbody tr th {\n",
       "        vertical-align: top;\n",
       "    }\n",
       "\n",
       "    .dataframe thead th {\n",
       "        text-align: right;\n",
       "    }\n",
       "</style>\n",
       "<table border=\"1\" class=\"dataframe\">\n",
       "  <thead>\n",
       "    <tr style=\"text-align: right;\">\n",
       "      <th></th>\n",
       "      <th>timestamp</th>\n",
       "      <th>count</th>\n",
       "      <th>uniques</th>\n",
       "    </tr>\n",
       "  </thead>\n",
       "  <tbody>\n",
       "    <tr>\n",
       "      <th>0</th>\n",
       "      <td>2019-07-27T00:00:00Z</td>\n",
       "      <td>11</td>\n",
       "      <td>7</td>\n",
       "    </tr>\n",
       "    <tr>\n",
       "      <th>1</th>\n",
       "      <td>2019-07-28T00:00:00Z</td>\n",
       "      <td>4</td>\n",
       "      <td>4</td>\n",
       "    </tr>\n",
       "    <tr>\n",
       "      <th>2</th>\n",
       "      <td>2019-07-29T00:00:00Z</td>\n",
       "      <td>17</td>\n",
       "      <td>10</td>\n",
       "    </tr>\n",
       "    <tr>\n",
       "      <th>3</th>\n",
       "      <td>2019-07-30T00:00:00Z</td>\n",
       "      <td>28</td>\n",
       "      <td>16</td>\n",
       "    </tr>\n",
       "    <tr>\n",
       "      <th>4</th>\n",
       "      <td>2019-07-31T00:00:00Z</td>\n",
       "      <td>16</td>\n",
       "      <td>10</td>\n",
       "    </tr>\n",
       "    <tr>\n",
       "      <th>5</th>\n",
       "      <td>2019-08-01T00:00:00Z</td>\n",
       "      <td>28</td>\n",
       "      <td>14</td>\n",
       "    </tr>\n",
       "    <tr>\n",
       "      <th>6</th>\n",
       "      <td>2019-08-02T00:00:00Z</td>\n",
       "      <td>10</td>\n",
       "      <td>7</td>\n",
       "    </tr>\n",
       "    <tr>\n",
       "      <th>7</th>\n",
       "      <td>2019-08-03T00:00:00Z</td>\n",
       "      <td>16</td>\n",
       "      <td>8</td>\n",
       "    </tr>\n",
       "    <tr>\n",
       "      <th>8</th>\n",
       "      <td>2019-08-04T00:00:00Z</td>\n",
       "      <td>10</td>\n",
       "      <td>7</td>\n",
       "    </tr>\n",
       "    <tr>\n",
       "      <th>9</th>\n",
       "      <td>2019-08-05T00:00:00Z</td>\n",
       "      <td>30</td>\n",
       "      <td>14</td>\n",
       "    </tr>\n",
       "    <tr>\n",
       "      <th>10</th>\n",
       "      <td>2019-08-06T00:00:00Z</td>\n",
       "      <td>29</td>\n",
       "      <td>15</td>\n",
       "    </tr>\n",
       "    <tr>\n",
       "      <th>11</th>\n",
       "      <td>2019-08-07T00:00:00Z</td>\n",
       "      <td>32</td>\n",
       "      <td>17</td>\n",
       "    </tr>\n",
       "    <tr>\n",
       "      <th>12</th>\n",
       "      <td>2019-08-08T00:00:00Z</td>\n",
       "      <td>21</td>\n",
       "      <td>15</td>\n",
       "    </tr>\n",
       "    <tr>\n",
       "      <th>13</th>\n",
       "      <td>2019-08-09T00:00:00Z</td>\n",
       "      <td>34</td>\n",
       "      <td>17</td>\n",
       "    </tr>\n",
       "    <tr>\n",
       "      <th>14</th>\n",
       "      <td>2019-08-10T00:00:00Z</td>\n",
       "      <td>34</td>\n",
       "      <td>18</td>\n",
       "    </tr>\n",
       "    <tr>\n",
       "      <th>15</th>\n",
       "      <td>2019-08-11T00:00:00Z</td>\n",
       "      <td>33</td>\n",
       "      <td>19</td>\n",
       "    </tr>\n",
       "    <tr>\n",
       "      <th>16</th>\n",
       "      <td>2019-08-12T00:00:00Z</td>\n",
       "      <td>44</td>\n",
       "      <td>22</td>\n",
       "    </tr>\n",
       "    <tr>\n",
       "      <th>17</th>\n",
       "      <td>2019-08-13T00:00:00Z</td>\n",
       "      <td>48</td>\n",
       "      <td>20</td>\n",
       "    </tr>\n",
       "    <tr>\n",
       "      <th>18</th>\n",
       "      <td>2019-08-14T00:00:00Z</td>\n",
       "      <td>48</td>\n",
       "      <td>23</td>\n",
       "    </tr>\n",
       "    <tr>\n",
       "      <th>19</th>\n",
       "      <td>2019-08-15T00:00:00Z</td>\n",
       "      <td>42</td>\n",
       "      <td>22</td>\n",
       "    </tr>\n",
       "    <tr>\n",
       "      <th>20</th>\n",
       "      <td>2019-08-16T00:00:00Z</td>\n",
       "      <td>33</td>\n",
       "      <td>20</td>\n",
       "    </tr>\n",
       "    <tr>\n",
       "      <th>21</th>\n",
       "      <td>2019-08-17T00:00:00Z</td>\n",
       "      <td>24</td>\n",
       "      <td>18</td>\n",
       "    </tr>\n",
       "    <tr>\n",
       "      <th>22</th>\n",
       "      <td>2019-08-18T00:00:00Z</td>\n",
       "      <td>20</td>\n",
       "      <td>13</td>\n",
       "    </tr>\n",
       "    <tr>\n",
       "      <th>23</th>\n",
       "      <td>2019-08-19T00:00:00Z</td>\n",
       "      <td>20</td>\n",
       "      <td>17</td>\n",
       "    </tr>\n",
       "    <tr>\n",
       "      <th>24</th>\n",
       "      <td>2019-08-20T00:00:00Z</td>\n",
       "      <td>20</td>\n",
       "      <td>17</td>\n",
       "    </tr>\n",
       "    <tr>\n",
       "      <th>25</th>\n",
       "      <td>2019-08-21T00:00:00Z</td>\n",
       "      <td>30</td>\n",
       "      <td>24</td>\n",
       "    </tr>\n",
       "    <tr>\n",
       "      <th>26</th>\n",
       "      <td>2019-08-22T00:00:00Z</td>\n",
       "      <td>23</td>\n",
       "      <td>21</td>\n",
       "    </tr>\n",
       "    <tr>\n",
       "      <th>27</th>\n",
       "      <td>2019-08-23T00:00:00Z</td>\n",
       "      <td>17</td>\n",
       "      <td>16</td>\n",
       "    </tr>\n",
       "    <tr>\n",
       "      <th>28</th>\n",
       "      <td>2019-08-24T00:00:00Z</td>\n",
       "      <td>16</td>\n",
       "      <td>17</td>\n",
       "    </tr>\n",
       "    <tr>\n",
       "      <th>29</th>\n",
       "      <td>2019-08-25T00:00:00Z</td>\n",
       "      <td>14</td>\n",
       "      <td>13</td>\n",
       "    </tr>\n",
       "    <tr>\n",
       "      <th>30</th>\n",
       "      <td>2019-08-26T00:00:00Z</td>\n",
       "      <td>44</td>\n",
       "      <td>27</td>\n",
       "    </tr>\n",
       "    <tr>\n",
       "      <th>31</th>\n",
       "      <td>2019-08-27T00:00:00Z</td>\n",
       "      <td>24</td>\n",
       "      <td>20</td>\n",
       "    </tr>\n",
       "    <tr>\n",
       "      <th>32</th>\n",
       "      <td>2019-08-28T00:00:00Z</td>\n",
       "      <td>27</td>\n",
       "      <td>19</td>\n",
       "    </tr>\n",
       "    <tr>\n",
       "      <th>33</th>\n",
       "      <td>2019-08-29T00:00:00Z</td>\n",
       "      <td>30</td>\n",
       "      <td>24</td>\n",
       "    </tr>\n",
       "    <tr>\n",
       "      <th>34</th>\n",
       "      <td>2019-08-30T00:00:00Z</td>\n",
       "      <td>20</td>\n",
       "      <td>19</td>\n",
       "    </tr>\n",
       "    <tr>\n",
       "      <th>35</th>\n",
       "      <td>2019-08-31T00:00:00Z</td>\n",
       "      <td>16</td>\n",
       "      <td>13</td>\n",
       "    </tr>\n",
       "    <tr>\n",
       "      <th>36</th>\n",
       "      <td>2019-09-01T00:00:00Z</td>\n",
       "      <td>15</td>\n",
       "      <td>15</td>\n",
       "    </tr>\n",
       "    <tr>\n",
       "      <th>37</th>\n",
       "      <td>2019-09-02T00:00:00Z</td>\n",
       "      <td>32</td>\n",
       "      <td>23</td>\n",
       "    </tr>\n",
       "    <tr>\n",
       "      <th>38</th>\n",
       "      <td>2019-09-03T00:00:00Z</td>\n",
       "      <td>24</td>\n",
       "      <td>20</td>\n",
       "    </tr>\n",
       "    <tr>\n",
       "      <th>39</th>\n",
       "      <td>2019-09-04T00:00:00Z</td>\n",
       "      <td>23</td>\n",
       "      <td>18</td>\n",
       "    </tr>\n",
       "    <tr>\n",
       "      <th>40</th>\n",
       "      <td>2019-09-05T00:00:00Z</td>\n",
       "      <td>30</td>\n",
       "      <td>19</td>\n",
       "    </tr>\n",
       "    <tr>\n",
       "      <th>41</th>\n",
       "      <td>2019-09-06T00:00:00Z</td>\n",
       "      <td>22</td>\n",
       "      <td>10</td>\n",
       "    </tr>\n",
       "    <tr>\n",
       "      <th>42</th>\n",
       "      <td>2019-09-07T00:00:00Z</td>\n",
       "      <td>22</td>\n",
       "      <td>11</td>\n",
       "    </tr>\n",
       "    <tr>\n",
       "      <th>43</th>\n",
       "      <td>2019-09-08T00:00:00Z</td>\n",
       "      <td>15</td>\n",
       "      <td>11</td>\n",
       "    </tr>\n",
       "    <tr>\n",
       "      <th>44</th>\n",
       "      <td>2019-09-09T00:00:00Z</td>\n",
       "      <td>26</td>\n",
       "      <td>17</td>\n",
       "    </tr>\n",
       "    <tr>\n",
       "      <th>45</th>\n",
       "      <td>2019-09-10T00:00:00Z</td>\n",
       "      <td>26</td>\n",
       "      <td>17</td>\n",
       "    </tr>\n",
       "    <tr>\n",
       "      <th>46</th>\n",
       "      <td>2019-09-11T00:00:00Z</td>\n",
       "      <td>24</td>\n",
       "      <td>20</td>\n",
       "    </tr>\n",
       "    <tr>\n",
       "      <th>47</th>\n",
       "      <td>2019-09-12T00:00:00Z</td>\n",
       "      <td>43</td>\n",
       "      <td>32</td>\n",
       "    </tr>\n",
       "    <tr>\n",
       "      <th>48</th>\n",
       "      <td>2019-09-13T00:00:00Z</td>\n",
       "      <td>43</td>\n",
       "      <td>32</td>\n",
       "    </tr>\n",
       "    <tr>\n",
       "      <th>49</th>\n",
       "      <td>2019-09-14T00:00:00Z</td>\n",
       "      <td>40</td>\n",
       "      <td>28</td>\n",
       "    </tr>\n",
       "    <tr>\n",
       "      <th>50</th>\n",
       "      <td>2019-09-15T00:00:00Z</td>\n",
       "      <td>20</td>\n",
       "      <td>12</td>\n",
       "    </tr>\n",
       "    <tr>\n",
       "      <th>51</th>\n",
       "      <td>2019-09-16T00:00:00Z</td>\n",
       "      <td>19</td>\n",
       "      <td>11</td>\n",
       "    </tr>\n",
       "    <tr>\n",
       "      <th>52</th>\n",
       "      <td>2019-09-17T00:00:00Z</td>\n",
       "      <td>20</td>\n",
       "      <td>12</td>\n",
       "    </tr>\n",
       "    <tr>\n",
       "      <th>53</th>\n",
       "      <td>2019-09-18T00:00:00Z</td>\n",
       "      <td>33</td>\n",
       "      <td>24</td>\n",
       "    </tr>\n",
       "    <tr>\n",
       "      <th>54</th>\n",
       "      <td>2019-09-19T00:00:00Z</td>\n",
       "      <td>23</td>\n",
       "      <td>17</td>\n",
       "    </tr>\n",
       "    <tr>\n",
       "      <th>55</th>\n",
       "      <td>2019-09-20T00:00:00Z</td>\n",
       "      <td>26</td>\n",
       "      <td>21</td>\n",
       "    </tr>\n",
       "  </tbody>\n",
       "</table>\n",
       "</div>"
      ],
      "text/plain": [
       "               timestamp  count  uniques\n",
       "0   2019-07-27T00:00:00Z     11        7\n",
       "1   2019-07-28T00:00:00Z      4        4\n",
       "2   2019-07-29T00:00:00Z     17       10\n",
       "3   2019-07-30T00:00:00Z     28       16\n",
       "4   2019-07-31T00:00:00Z     16       10\n",
       "5   2019-08-01T00:00:00Z     28       14\n",
       "6   2019-08-02T00:00:00Z     10        7\n",
       "7   2019-08-03T00:00:00Z     16        8\n",
       "8   2019-08-04T00:00:00Z     10        7\n",
       "9   2019-08-05T00:00:00Z     30       14\n",
       "10  2019-08-06T00:00:00Z     29       15\n",
       "11  2019-08-07T00:00:00Z     32       17\n",
       "12  2019-08-08T00:00:00Z     21       15\n",
       "13  2019-08-09T00:00:00Z     34       17\n",
       "14  2019-08-10T00:00:00Z     34       18\n",
       "15  2019-08-11T00:00:00Z     33       19\n",
       "16  2019-08-12T00:00:00Z     44       22\n",
       "17  2019-08-13T00:00:00Z     48       20\n",
       "18  2019-08-14T00:00:00Z     48       23\n",
       "19  2019-08-15T00:00:00Z     42       22\n",
       "20  2019-08-16T00:00:00Z     33       20\n",
       "21  2019-08-17T00:00:00Z     24       18\n",
       "22  2019-08-18T00:00:00Z     20       13\n",
       "23  2019-08-19T00:00:00Z     20       17\n",
       "24  2019-08-20T00:00:00Z     20       17\n",
       "25  2019-08-21T00:00:00Z     30       24\n",
       "26  2019-08-22T00:00:00Z     23       21\n",
       "27  2019-08-23T00:00:00Z     17       16\n",
       "28  2019-08-24T00:00:00Z     16       17\n",
       "29  2019-08-25T00:00:00Z     14       13\n",
       "30  2019-08-26T00:00:00Z     44       27\n",
       "31  2019-08-27T00:00:00Z     24       20\n",
       "32  2019-08-28T00:00:00Z     27       19\n",
       "33  2019-08-29T00:00:00Z     30       24\n",
       "34  2019-08-30T00:00:00Z     20       19\n",
       "35  2019-08-31T00:00:00Z     16       13\n",
       "36  2019-09-01T00:00:00Z     15       15\n",
       "37  2019-09-02T00:00:00Z     32       23\n",
       "38  2019-09-03T00:00:00Z     24       20\n",
       "39  2019-09-04T00:00:00Z     23       18\n",
       "40  2019-09-05T00:00:00Z     30       19\n",
       "41  2019-09-06T00:00:00Z     22       10\n",
       "42  2019-09-07T00:00:00Z     22       11\n",
       "43  2019-09-08T00:00:00Z     15       11\n",
       "44  2019-09-09T00:00:00Z     26       17\n",
       "45  2019-09-10T00:00:00Z     26       17\n",
       "46  2019-09-11T00:00:00Z     24       20\n",
       "47  2019-09-12T00:00:00Z     43       32\n",
       "48  2019-09-13T00:00:00Z     43       32\n",
       "49  2019-09-14T00:00:00Z     40       28\n",
       "50  2019-09-15T00:00:00Z     20       12\n",
       "51  2019-09-16T00:00:00Z     19       11\n",
       "52  2019-09-17T00:00:00Z     20       12\n",
       "53  2019-09-18T00:00:00Z     33       24\n",
       "54  2019-09-19T00:00:00Z     23       17\n",
       "55  2019-09-20T00:00:00Z     26       21"
      ]
     },
     "execution_count": 139,
     "metadata": {},
     "output_type": "execute_result"
    }
   ],
   "source": [
    "pd_main"
   ]
  },
  {
   "cell_type": "code",
   "execution_count": 140,
   "metadata": {},
   "outputs": [
    {
     "data": {
      "text/plain": [
       "<matplotlib.axes._subplots.AxesSubplot at 0x7fb1f0287860>"
      ]
     },
     "execution_count": 140,
     "metadata": {},
     "output_type": "execute_result"
    },
    {
     "data": {
      "image/png": "[encoded data removed]",
      "text/plain": [
       "<Figure size 432x288 with 1 Axes>"
      ]
     },
     "metadata": {
      "needs_background": "light"
     },
     "output_type": "display_data"
    }
   ],
   "source": [
    "sns.scatterplot(data=pd_main, x=range(0, len(pd_main)), y='count')"
   ]
  },
  {
   "cell_type": "code",
   "execution_count": 141,
   "metadata": {},
   "outputs": [
    {
     "data": {
      "text/plain": [
       "<matplotlib.axes._subplots.AxesSubplot at 0x7fb1f025bfd0>"
      ]
     },
     "execution_count": 141,
     "metadata": {},
     "output_type": "execute_result"
    },
    {
     "data": {
      "image/png": "[encoded data removed]",
      "text/plain": [
       "<Figure size 432x288 with 1 Axes>"
      ]
     },
     "metadata": {
      "needs_background": "light"
     },
     "output_type": "display_data"
    }
   ],
   "source": [
    "sns.scatterplot(data=pd_main, x=range(0, len(pd_main)), y='uniques')"
   ]
  },
  {
   "cell_type": "code",
   "execution_count": 23,
   "metadata": {},
   "outputs": [],
   "source": [
    "# Check\n",
    "# data = json.loads('07-27-2019_json.json')\n",
    "# counts = data['count']\n",
    "# uniques = data['uniques']\n",
    "# timestamp_data = data['clones']\n",
    "# df = pd.DataFrame(timestamp_data)\n",
    "# df"
   ]
  },
  {
   "cell_type": "code",
   "execution_count": 24,
   "metadata": {},
   "outputs": [
    {
     "name": "stdout",
     "output_type": "stream",
     "text": [
      "07-27-2019_json.json  08-02-2019_json.json\r\n",
      "07-30-2019_json.json  old_data_constructor.ipynb\r\n"
     ]
    }
   ],
   "source": [
    "!ls"
   ]
  },
  {
   "cell_type": "code",
   "execution_count": null,
   "metadata": {},
   "outputs": [],
   "source": []
  }
 ],
 "metadata": {
  "kernelspec": {
   "display_name": "Python 3",
   "language": "python",
   "name": "python3"
  },
  "language_info": {
   "codemirror_mode": {
    "name": "ipython",
    "version": 3
   },
   "file_extension": ".py",
   "mimetype": "text/x-python",
   "name": "python",
   "nbconvert_exporter": "python",
   "pygments_lexer": "ipython3",
   "version": "3.6.8"
  }
 },
 "nbformat": 4,
 "nbformat_minor": 2
}
