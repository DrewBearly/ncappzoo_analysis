{
 "cells": [
  {
   "cell_type": "code",
   "execution_count": 1,
   "metadata": {},
   "outputs": [],
   "source": [
    "import requests\n",
    "import pandas as pd\n",
    "import datetime as dt\n",
    "from datetime import timedelta\n",
    "import subprocess\n",
    "import json\n",
    "import os\n",
    "import re\n",
    "import seaborn as sns\n",
    "import numpy as np\n",
    "import matplotlib.pyplot as plt\n",
    "import dateutil.parser"
   ]
  },
  {
   "cell_type": "markdown",
   "metadata": {},
   "source": [
    "columns: <br/>\n",
    "timestamp\tcount\tuniques\tday\tmo\tyr\tcollection_timestamp yr_mo_day"
   ]
  },
  {
   "cell_type": "markdown",
   "metadata": {},
   "source": [
    "Example data: <br/>\n",
    "'timestamp': '2019-10-07T00:00:00Z', 'count': 18, 'uniques': 1"
   ]
  },
  {
   "cell_type": "code",
   "execution_count": 2,
   "metadata": {},
   "outputs": [],
   "source": [
    "def string_date(month, day, year):\n",
    "    return year + '-' + month + '-' + day + 'T00:00:00Z'\n",
    "\n",
    "def generate_14_days(month, day, year):\n",
    "    start_date = string_date(month, day, year)\n",
    "    start = dateutil.parser.parse(start_date)\n",
    "    return [start + timedelta(hours=24*i) for i in range(14)]\n",
    "\n",
    "def generate_data(start, part1, part2):\n",
    "    mo, dy, yr = start\n",
    "    days = generate_14_days(mo, dy, yr)\n",
    "    ret_arr = []\n",
    "    for i in range(14):\n",
    "        ret_arr.append({\n",
    "            'timestamp': days[i].isoformat()[:10] + 'T00:00:00Z', \n",
    "            'count': part1[i],\n",
    "            'uniques': part2[i]\n",
    "        })\n",
    "    return ret_arr\n",
    "\n",
    "def data_json_maker(kind, count, unique, data):\n",
    "    return {\n",
    "        'count': str(count),\n",
    "        'uniques': str(unique),\n",
    "        kind: data\n",
    "    }\n",
    "\n",
    "def generate_json_file(start, part1, part2, kind, count, unique):\n",
    "    data = generate_data(start, part1, part2)\n",
    "    json_format = data_json_maker(kind, count, unique, data)\n",
    "    yr, mo, dy = start\n",
    "    file_name = yr + '-' + mo + '-' + dy + '_' + kind + '-json.json'\n",
    "    print(json_format)\n",
    "    with open(file_name, 'w') as outfile:\n",
    "        json.dump(json_format, outfile, indent=4)\n",
    "    return json_format"
   ]
  },
  {
   "cell_type": "code",
   "execution_count": 3,
   "metadata": {},
   "outputs": [
    {
     "name": "stdout",
     "output_type": "stream",
     "text": [
      "{'count': '3398', 'uniques': '501', 'views': [{'timestamp': '2019-07-27T00:00:00Z', 'count': 80, 'uniques': 25}, {'timestamp': '2019-07-28T00:00:00Z', 'count': 80, 'uniques': 35}, {'timestamp': '2019-07-29T00:00:00Z', 'count': 170, 'uniques': 56}, {'timestamp': '2019-07-30T00:00:00Z', 'count': 260, 'uniques': 70}, {'timestamp': '2019-07-31T00:00:00Z', 'count': 270, 'uniques': 50}, {'timestamp': '2019-08-01T00:00:00Z', 'count': 370, 'uniques': 70}, {'timestamp': '2019-08-02T00:00:00Z', 'count': 260, 'uniques': 48}, {'timestamp': '2019-08-03T00:00:00Z', 'count': 80, 'uniques': 20}, {'timestamp': '2019-08-04T00:00:00Z', 'count': 70, 'uniques': 19}, {'timestamp': '2019-08-05T00:00:00Z', 'count': 340, 'uniques': 57}, {'timestamp': '2019-08-06T00:00:00Z', 'count': 450, 'uniques': 58}, {'timestamp': '2019-08-07T00:00:00Z', 'count': 500, 'uniques': 63}, {'timestamp': '2019-08-08T00:00:00Z', 'count': 450, 'uniques': 72}, {'timestamp': '2019-08-09T00:00:00Z', 'count': 0, 'uniques': 0}]}\n"
     ]
    }
   ],
   "source": [
    "# generate_data(('07', '27', '2019'), part1_08_08, part2_08_08)\n",
    "start_date = ('07', '27', '2019')\n",
    "part1_08_08 = [\n",
    "    80, 80, 170, 260, 270, 370, 260, 80, 70, 340, 450, 500, 450, 0\n",
    "]\n",
    "part2_08_08 = [\n",
    "    25, 35, 56, 70, 50, 70, 48, 20, 19, 57, 58, 63, 72, 0\n",
    "]\n",
    "\n",
    "# August 27th 2019\n",
    "json_obj_1 = generate_json_file(start_date, part1_08_08, part2_08_08, \n",
    "                                'views', 3398, 501)"
   ]
  },
  {
   "cell_type": "code",
   "execution_count": 4,
   "metadata": {},
   "outputs": [
    {
     "name": "stdout",
     "output_type": "stream",
     "text": [
      "{'count': '3977', 'uniques': '535', 'views': [{'timestamp': '2019-07-30T00:00:00Z', 'count': 260, 'uniques': 60}, {'timestamp': '2019-07-31T00:00:00Z', 'count': 265, 'uniques': 50}, {'timestamp': '2019-08-01T00:00:00Z', 'count': 400, 'uniques': 60}, {'timestamp': '2019-08-02T00:00:00Z', 'count': 255, 'uniques': 50}, {'timestamp': '2019-08-03T00:00:00Z', 'count': 78, 'uniques': 20}, {'timestamp': '2019-08-04T00:00:00Z', 'count': 68, 'uniques': 19}, {'timestamp': '2019-08-05T00:00:00Z', 'count': 370, 'uniques': 50}, {'timestamp': '2019-08-06T00:00:00Z', 'count': 450, 'uniques': 55}, {'timestamp': '2019-08-07T00:00:00Z', 'count': 500, 'uniques': 60}, {'timestamp': '2019-08-08T00:00:00Z', 'count': 450, 'uniques': 70}, {'timestamp': '2019-08-09T00:00:00Z', 'count': 300, 'uniques': 50}, {'timestamp': '2019-08-10T00:00:00Z', 'count': 240, 'uniques': 40}, {'timestamp': '2019-08-11T00:00:00Z', 'count': 240, 'uniques': 27}, {'timestamp': '2019-08-12T00:00:00Z', 'count': 180, 'uniques': 43}]}\n"
     ]
    }
   ],
   "source": [
    "start_date = ('07', '30', '2019')\n",
    "\n",
    "part1_08_12 = [\n",
    "    260, 265, 400, 255, 78, 68, 370, 450, 500, 450, 300, 240, 240, 180\n",
    "]\n",
    "part2_08_12 = [\n",
    "    60, 50, 60, 50, 20, 19, 50, 55, 60, 70, 50, 40, 27, 43\n",
    "]\n",
    "\n",
    "json_obj_2 = generate_json_file(start_date, part1_08_12, part2_08_12, \n",
    "                                'views', 3977, 535)"
   ]
  },
  {
   "cell_type": "code",
   "execution_count": 5,
   "metadata": {},
   "outputs": [
    {
     "name": "stdout",
     "output_type": "stream",
     "text": [
      "{'count': '4674', 'uniques': '1571', 'views': [{'timestamp': '2019-08-02T00:00:00Z', 'count': 255, 'uniques': 50}, {'timestamp': '2019-08-03T00:00:00Z', 'count': 78, 'uniques': 20}, {'timestamp': '2019-08-04T00:00:00Z', 'count': 68, 'uniques': 19}, {'timestamp': '2019-08-05T00:00:00Z', 'count': 370, 'uniques': 50}, {'timestamp': '2019-08-06T00:00:00Z', 'count': 450, 'uniques': 55}, {'timestamp': '2019-08-07T00:00:00Z', 'count': 500, 'uniques': 60}, {'timestamp': '2019-08-08T00:00:00Z', 'count': 450, 'uniques': 70}, {'timestamp': '2019-08-09T00:00:00Z', 'count': 300, 'uniques': 50}, {'timestamp': '2019-08-10T00:00:00Z', 'count': 240, 'uniques': 40}, {'timestamp': '2019-08-11T00:00:00Z', 'count': 240, 'uniques': 27}, {'timestamp': '2019-08-12T00:00:00Z', 'count': 350, 'uniques': 63}, {'timestamp': '2019-08-13T00:00:00Z', 'count': 430, 'uniques': 85}, {'timestamp': '2019-08-14T00:00:00Z', 'count': 330, 'uniques': 57}, {'timestamp': '2019-08-15T00:00:00Z', 'count': 520, 'uniques': 53}]}\n"
     ]
    }
   ],
   "source": [
    "start_date = ('08', '02', '2019')\n",
    "\n",
    "part1_08_15 = [\n",
    "    255, 78, 68, 370, 450, 500, 450, 300, 240, 240, 350, 430, 330, 520 \n",
    "]\n",
    "part2_08_15 = [\n",
    "    50, 20, 19, 50, 55, 60, 70, 50, 40, 27, 63, 85, 57, 53\n",
    "]\n",
    "\n",
    "json_obj_3 = generate_json_file(start_date, part1_08_15, part2_08_15, 'views', \n",
    "                  4674, 1571)"
   ]
  },
  {
   "cell_type": "code",
   "execution_count": 6,
   "metadata": {},
   "outputs": [
    {
     "name": "stdout",
     "output_type": "stream",
     "text": [
      "{'count': '4947', 'uniques': '617', 'views': [{'timestamp': '2019-08-06T00:00:00Z', 'count': 450, 'uniques': 55}, {'timestamp': '2019-08-07T00:00:00Z', 'count': 500, 'uniques': 60}, {'timestamp': '2019-08-08T00:00:00Z', 'count': 450, 'uniques': 70}, {'timestamp': '2019-08-09T00:00:00Z', 'count': 300, 'uniques': 50}, {'timestamp': '2019-08-10T00:00:00Z', 'count': 240, 'uniques': 40}, {'timestamp': '2019-08-11T00:00:00Z', 'count': 240, 'uniques': 27}, {'timestamp': '2019-08-12T00:00:00Z', 'count': 350, 'uniques': 63}, {'timestamp': '2019-08-13T00:00:00Z', 'count': 430, 'uniques': 85}, {'timestamp': '2019-08-14T00:00:00Z', 'count': 330, 'uniques': 57}, {'timestamp': '2019-08-15T00:00:00Z', 'count': 600, 'uniques': 60}, {'timestamp': '2019-08-16T00:00:00Z', 'count': 400, 'uniques': 72}, {'timestamp': '2019-08-17T00:00:00Z', 'count': 230, 'uniques': 48}, {'timestamp': '2019-08-18T00:00:00Z', 'count': 180, 'uniques': 32}, {'timestamp': '2019-08-19T00:00:00Z', 'count': 180, 'uniques': 48}]}\n"
     ]
    }
   ],
   "source": [
    "start_date = ('08', '06', '2019')\n",
    "\n",
    "part1_08_19 = [\n",
    "    450, 500, 450, 300, 240, 240, 350, 430, 330, 600, 400, 230, 180, 180 \n",
    "]\n",
    "part2_08_19 = [\n",
    "    55, 60, 70, 50, 40, 27, 63, 85, 57, 60, 72, 48, 32, 48\n",
    "]\n",
    "\n",
    "json_obj_4 = generate_json_file(start_date, part1_08_19, part2_08_19, 'views', \n",
    "                  4947, 617)"
   ]
  },
  {
   "cell_type": "code",
   "execution_count": 7,
   "metadata": {},
   "outputs": [
    {
     "name": "stdout",
     "output_type": "stream",
     "text": [
      "{'count': '2772', 'uniques': '393', 'views': [{'timestamp': '2019-08-13T00:00:00Z', 'count': 470, 'uniques': 85}, {'timestamp': '2019-08-14T00:00:00Z', 'count': 350, 'uniques': 57}, {'timestamp': '2019-08-15T00:00:00Z', 'count': 610, 'uniques': 60}, {'timestamp': '2019-08-16T00:00:00Z', 'count': 400, 'uniques': 72}, {'timestamp': '2019-08-17T00:00:00Z', 'count': 230, 'uniques': 48}, {'timestamp': '2019-08-18T00:00:00Z', 'count': 180, 'uniques': 32}, {'timestamp': '2019-08-19T00:00:00Z', 'count': 320, 'uniques': 70}, {'timestamp': '2019-08-20T00:00:00Z', 'count': 230, 'uniques': 50}, {'timestamp': '2019-08-21T00:00:00Z', 'count': 0, 'uniques': 0}, {'timestamp': '2019-08-22T00:00:00Z', 'count': 0, 'uniques': 0}, {'timestamp': '2019-08-23T00:00:00Z', 'count': 0, 'uniques': 0}, {'timestamp': '2019-08-24T00:00:00Z', 'count': 0, 'uniques': 0}, {'timestamp': '2019-08-25T00:00:00Z', 'count': 0, 'uniques': 0}, {'timestamp': '2019-08-26T00:00:00Z', 'count': 70, 'uniques': 17}]}\n"
     ]
    }
   ],
   "source": [
    "start_date = ('08', '13', '2019')\n",
    "\n",
    "part1_08_26 = [\n",
    "    470, 350, 610, 400, 230, 180, 320, 230, 0, 0, 0, 0, 0, 70\n",
    "]\n",
    "part2_08_26 = [\n",
    "    85, 57, 60, 72, 48, 32, 70, 50, 0, 0, 0, 0, 0, 17\n",
    "]\n",
    "\n",
    "json_obj_5 = generate_json_file(start_date, part1_08_26, part2_08_26, \n",
    "                                'views', 2772, 393)"
   ]
  },
  {
   "cell_type": "code",
   "execution_count": 8,
   "metadata": {},
   "outputs": [
    {
     "name": "stdout",
     "output_type": "stream",
     "text": [
      "{'count': '3884', 'uniques': '614', 'views': [{'timestamp': '2019-08-18T00:00:00Z', 'count': 180, 'uniques': 32}, {'timestamp': '2019-08-19T00:00:00Z', 'count': 320, 'uniques': 70}, {'timestamp': '2019-08-20T00:00:00Z', 'count': 340, 'uniques': 65}, {'timestamp': '2019-08-21T00:00:00Z', 'count': 400, 'uniques': 80}, {'timestamp': '2019-08-22T00:00:00Z', 'count': 320, 'uniques': 65}, {'timestamp': '2019-08-23T00:00:00Z', 'count': 250, 'uniques': 50}, {'timestamp': '2019-08-24T00:00:00Z', 'count': 160, 'uniques': 35}, {'timestamp': '2019-08-25T00:00:00Z', 'count': 100, 'uniques': 30}, {'timestamp': '2019-08-26T00:00:00Z', 'count': 410, 'uniques': 65}, {'timestamp': '2019-08-27T00:00:00Z', 'count': 230, 'uniques': 55}, {'timestamp': '2019-08-28T00:00:00Z', 'count': 500, 'uniques': 70}, {'timestamp': '2019-08-29T00:00:00Z', 'count': 360, 'uniques': 60}, {'timestamp': '2019-08-30T00:00:00Z', 'count': 270, 'uniques': 56}, {'timestamp': '2019-08-31T00:00:00Z', 'count': 70, 'uniques': 17}]}\n"
     ]
    }
   ],
   "source": [
    "start_date = ('08', '18', '2019')\n",
    "\n",
    "part1_08_31 = [\n",
    "    180, 320, 340, 400, 320, 250, 160, 100, 410, 230, 500, 360, 270, 70\n",
    "]\n",
    "part2_08_31 = [\n",
    "    32, 70, 65, 80, 65, 50, 35, 30, 65, 55, 70, 60, 56, 17 \n",
    "]\n",
    "\n",
    "json_obj_6 = generate_json_file(start_date, part1_08_31, part2_08_31, \n",
    "                                'views', 3884, 614)"
   ]
  },
  {
   "cell_type": "code",
   "execution_count": 9,
   "metadata": {},
   "outputs": [
    {
     "name": "stdout",
     "output_type": "stream",
     "text": [
      "{'count': '3693', 'uniques': '582', 'views': [{'timestamp': '2019-08-21T00:00:00Z', 'count': 400, 'uniques': 80}, {'timestamp': '2019-08-22T00:00:00Z', 'count': 320, 'uniques': 65}, {'timestamp': '2019-08-23T00:00:00Z', 'count': 250, 'uniques': 50}, {'timestamp': '2019-08-24T00:00:00Z', 'count': 160, 'uniques': 35}, {'timestamp': '2019-08-25T00:00:00Z', 'count': 100, 'uniques': 30}, {'timestamp': '2019-08-26T00:00:00Z', 'count': 410, 'uniques': 65}, {'timestamp': '2019-08-27T00:00:00Z', 'count': 230, 'uniques': 55}, {'timestamp': '2019-08-28T00:00:00Z', 'count': 500, 'uniques': 70}, {'timestamp': '2019-08-29T00:00:00Z', 'count': 360, 'uniques': 60}, {'timestamp': '2019-08-30T00:00:00Z', 'count': 270, 'uniques': 56}, {'timestamp': '2019-08-31T00:00:00Z', 'count': 130, 'uniques': 25}, {'timestamp': '2019-09-01T00:00:00Z', 'count': 100, 'uniques': 23}, {'timestamp': '2019-09-02T00:00:00Z', 'count': 200, 'uniques': 55}, {'timestamp': '2019-09-03T00:00:00Z', 'count': 250, 'uniques': 52}]}\n"
     ]
    }
   ],
   "source": [
    "start_date = ('08', '21', '2019')\n",
    "\n",
    "part1_09_03 = [\n",
    "    400, 320, 250, 160, 100, 410, 230, 500, 360, 270, 130, 100, 200, 250\n",
    "]\n",
    "part2_09_03 = [\n",
    "    80, 65, 50, 35, 30, 65, 55, 70, 60, 56, 25, 23, 55, 52 \n",
    "]\n",
    "\n",
    "json_obj_7 = generate_json_file(start_date, part1_09_03, part2_09_03, \n",
    "                                'views', 3693, 582)"
   ]
  },
  {
   "cell_type": "code",
   "execution_count": 10,
   "metadata": {
    "scrolled": true
   },
   "outputs": [
    {
     "name": "stdout",
     "output_type": "stream",
     "text": [
      "{'count': '3867', 'uniques': '566', 'views': [{'timestamp': '2019-08-23T00:00:00Z', 'count': 250, 'uniques': 50}, {'timestamp': '2019-08-24T00:00:00Z', 'count': 160, 'uniques': 35}, {'timestamp': '2019-08-25T00:00:00Z', 'count': 100, 'uniques': 30}, {'timestamp': '2019-08-26T00:00:00Z', 'count': 410, 'uniques': 65}, {'timestamp': '2019-08-27T00:00:00Z', 'count': 230, 'uniques': 55}, {'timestamp': '2019-08-28T00:00:00Z', 'count': 500, 'uniques': 70}, {'timestamp': '2019-08-29T00:00:00Z', 'count': 360, 'uniques': 60}, {'timestamp': '2019-08-30T00:00:00Z', 'count': 270, 'uniques': 56}, {'timestamp': '2019-08-31T00:00:00Z', 'count': 130, 'uniques': 25}, {'timestamp': '2019-09-01T00:00:00Z', 'count': 100, 'uniques': 23}, {'timestamp': '2019-09-02T00:00:00Z', 'count': 200, 'uniques': 55}, {'timestamp': '2019-09-03T00:00:00Z', 'count': 430, 'uniques': 52}, {'timestamp': '2019-09-04T00:00:00Z', 'count': 420, 'uniques': 65}, {'timestamp': '2019-09-05T00:00:00Z', 'count': 230, 'uniques': 60}]}\n"
     ]
    }
   ],
   "source": [
    "start_date = ('08', '23', '2019')\n",
    "\n",
    "part1_09_05 = [\n",
    "    250, 160, 100, 410, 230, 500, 360, 270, 130, 100, 200, 430, 420, 230\n",
    "]\n",
    "part2_09_05 = [\n",
    "    50, 35, 30, 65, 55, 70, 60, 56, 25, 23, 55, 52, 65, 60, 50\n",
    "]\n",
    "\n",
    "json_obj_8 = generate_json_file(start_date, part1_09_05, part2_09_05, \n",
    "                                'views', 3867, 566)"
   ]
  },
  {
   "cell_type": "code",
   "execution_count": 11,
   "metadata": {},
   "outputs": [
    {
     "name": "stdout",
     "output_type": "stream",
     "text": [
      "{'count': '4087', 'uniques': '561', 'views': [{'timestamp': '2019-08-27T00:00:00Z', 'count': 230, 'uniques': 55}, {'timestamp': '2019-08-28T00:00:00Z', 'count': 500, 'uniques': 70}, {'timestamp': '2019-08-29T00:00:00Z', 'count': 360, 'uniques': 60}, {'timestamp': '2019-08-30T00:00:00Z', 'count': 270, 'uniques': 56}, {'timestamp': '2019-08-31T00:00:00Z', 'count': 130, 'uniques': 25}, {'timestamp': '2019-09-01T00:00:00Z', 'count': 100, 'uniques': 23}, {'timestamp': '2019-09-02T00:00:00Z', 'count': 200, 'uniques': 55}, {'timestamp': '2019-09-03T00:00:00Z', 'count': 430, 'uniques': 52}, {'timestamp': '2019-09-04T00:00:00Z', 'count': 420, 'uniques': 65}, {'timestamp': '2019-09-05T00:00:00Z', 'count': 510, 'uniques': 60}, {'timestamp': '2019-09-06T00:00:00Z', 'count': 340, 'uniques': 75}, {'timestamp': '2019-09-07T00:00:00Z', 'count': 220, 'uniques': 65}, {'timestamp': '2019-09-08T00:00:00Z', 'count': 130, 'uniques': 33}, {'timestamp': '2019-09-09T00:00:00Z', 'count': 170, 'uniques': 30}]}\n"
     ]
    }
   ],
   "source": [
    "start_date = ('08', '27', '2019')\n",
    "\n",
    "part1_09_09 = [\n",
    "    230, 500, 360, 270, 130, 100, 200, 430, 420, 510, 340, 220, 130, 170\n",
    "]\n",
    "part2_09_09 = [\n",
    "    55, 70, 60, 56, 25, 23, 55, 52, 65, 60, 75, 65, 33, 30, 52 \n",
    "]\n",
    "\n",
    "json_obj_9 = generate_json_file(start_date, part1_09_09, part2_09_09, \n",
    "                                'views', 4087, 561)"
   ]
  },
  {
   "cell_type": "code",
   "execution_count": 12,
   "metadata": {},
   "outputs": [
    {
     "name": "stdout",
     "output_type": "stream",
     "text": [
      "{'count': '4045', 'uniques': '597', 'views': [{'timestamp': '2019-08-31T00:00:00Z', 'count': 130, 'uniques': 25}, {'timestamp': '2019-09-01T00:00:00Z', 'count': 100, 'uniques': 23}, {'timestamp': '2019-09-02T00:00:00Z', 'count': 200, 'uniques': 55}, {'timestamp': '2019-09-03T00:00:00Z', 'count': 430, 'uniques': 52}, {'timestamp': '2019-09-04T00:00:00Z', 'count': 420, 'uniques': 65}, {'timestamp': '2019-09-05T00:00:00Z', 'count': 510, 'uniques': 60}, {'timestamp': '2019-09-06T00:00:00Z', 'count': 340, 'uniques': 75}, {'timestamp': '2019-09-07T00:00:00Z', 'count': 220, 'uniques': 65}, {'timestamp': '2019-09-08T00:00:00Z', 'count': 130, 'uniques': 33}, {'timestamp': '2019-09-09T00:00:00Z', 'count': 320, 'uniques': 30}, {'timestamp': '2019-09-10T00:00:00Z', 'count': 330, 'uniques': 78}, {'timestamp': '2019-09-11T00:00:00Z', 'count': 340, 'uniques': 60}, {'timestamp': '2019-09-12T00:00:00Z', 'count': 260, 'uniques': 65}, {'timestamp': '2019-09-13T00:00:00Z', 'count': 200, 'uniques': 57}]}\n"
     ]
    }
   ],
   "source": [
    "start_date = ('08', '31', '2019')\n",
    "\n",
    "part1_09_13 = [\n",
    "    130, 100, 200, 430, 420, 510, 340, 220, 130, 320, 330, 340, 260, 200\n",
    "]\n",
    "part2_09_13 = [\n",
    "    25, 23, 55, 52, 65, 60, 75, 65, 33, 30, 78, 60, 65, 57, 55\n",
    "]\n",
    "\n",
    "json_obj_10 = generate_json_file(start_date, part1_09_13, part2_09_13, \n",
    "                                'views', 4045, 597)"
   ]
  },
  {
   "cell_type": "code",
   "execution_count": 13,
   "metadata": {},
   "outputs": [
    {
     "name": "stdout",
     "output_type": "stream",
     "text": [
      "{'count': '3936', 'uniques': '626', 'views': [{'timestamp': '2019-09-07T00:00:00Z', 'count': 220, 'uniques': 33}, {'timestamp': '2019-09-08T00:00:00Z', 'count': 130, 'uniques': 30}, {'timestamp': '2019-09-09T00:00:00Z', 'count': 330, 'uniques': 78}, {'timestamp': '2019-09-10T00:00:00Z', 'count': 340, 'uniques': 60}, {'timestamp': '2019-09-11T00:00:00Z', 'count': 350, 'uniques': 65}, {'timestamp': '2019-09-12T00:00:00Z', 'count': 300, 'uniques': 57}, {'timestamp': '2019-09-13T00:00:00Z', 'count': 350, 'uniques': 55}, {'timestamp': '2019-09-14T00:00:00Z', 'count': 70, 'uniques': 25}, {'timestamp': '2019-09-15T00:00:00Z', 'count': 310, 'uniques': 33}, {'timestamp': '2019-09-16T00:00:00Z', 'count': 360, 'uniques': 75}, {'timestamp': '2019-09-17T00:00:00Z', 'count': 310, 'uniques': 60}, {'timestamp': '2019-09-18T00:00:00Z', 'count': 300, 'uniques': 55}, {'timestamp': '2019-09-19T00:00:00Z', 'count': 410, 'uniques': 56}, {'timestamp': '2019-09-20T00:00:00Z', 'count': 320, 'uniques': 52}]}\n"
     ]
    }
   ],
   "source": [
    "start_date = ('09', '07', '2019')\n",
    "\n",
    "part1_09_20 = [\n",
    "    220, 130, 330, 340, 350, 300, 350, 70, 310, 360, 310, 300, 410, 320\n",
    "]\n",
    "part2_09_20 = [\n",
    "    33, 30, 78, 60, 65, 57, 55, 25, 33, 75, 60, 55, 56, 52\n",
    "]\n",
    "\n",
    "json_obj_11 = generate_json_file(start_date, part1_09_20, part2_09_20, \n",
    "                                'views', 3936, 626)"
   ]
  },
  {
   "cell_type": "code",
   "execution_count": null,
   "metadata": {},
   "outputs": [],
   "source": []
  },
  {
   "cell_type": "code",
   "execution_count": null,
   "metadata": {},
   "outputs": [],
   "source": []
  },
  {
   "cell_type": "code",
   "execution_count": null,
   "metadata": {},
   "outputs": [],
   "source": []
  },
  {
   "cell_type": "code",
   "execution_count": 14,
   "metadata": {},
   "outputs": [],
   "source": [
    "pd1 = pd.DataFrame(json_obj_1['views'])\n",
    "pd2 = pd.DataFrame(json_obj_2['views'])\n",
    "pd3 = pd.DataFrame(json_obj_3['views'])\n",
    "pd4 = pd.DataFrame(json_obj_4['views'])\n",
    "pd5 = pd.DataFrame(json_obj_5['views'])\n",
    "pd6 = pd.DataFrame(json_obj_6['views'])\n",
    "pd7 = pd.DataFrame(json_obj_7['views'])\n",
    "pd8 = pd.DataFrame(json_obj_8['views'])\n",
    "pd9 = pd.DataFrame(json_obj_9['views'])\n",
    "pd10 = pd.DataFrame(json_obj_10['views'])\n",
    "pd11 = pd.DataFrame(json_obj_11['views'])\n",
    "\n",
    "pds_arr = [pd1, pd2, pd3, pd4, pd5, pd6, pd7, pd8, pd9, pd10, pd11]\n",
    "\n",
    "pd_main = pd1.copy(deep=True)\n",
    "for k in pds_arr:\n",
    "    pd_main = pd_main.append(k)\n",
    "             \n",
    "pd_main = pd_main.groupby('timestamp').max().reset_index()"
   ]
  },
  {
   "cell_type": "code",
   "execution_count": 15,
   "metadata": {},
   "outputs": [],
   "source": [
    "pd_main.to_csv('old_views.csv', index=False)"
   ]
  },
  {
   "cell_type": "code",
   "execution_count": 16,
   "metadata": {},
   "outputs": [
    {
     "data": {
      "text/html": [
       "<div>\n",
       "<style scoped>\n",
       "    .dataframe tbody tr th:only-of-type {\n",
       "        vertical-align: middle;\n",
       "    }\n",
       "\n",
       "    .dataframe tbody tr th {\n",
       "        vertical-align: top;\n",
       "    }\n",
       "\n",
       "    .dataframe thead th {\n",
       "        text-align: right;\n",
       "    }\n",
       "</style>\n",
       "<table border=\"1\" class=\"dataframe\">\n",
       "  <thead>\n",
       "    <tr style=\"text-align: right;\">\n",
       "      <th></th>\n",
       "      <th>timestamp</th>\n",
       "      <th>count</th>\n",
       "      <th>uniques</th>\n",
       "    </tr>\n",
       "  </thead>\n",
       "  <tbody>\n",
       "    <tr>\n",
       "      <th>0</th>\n",
       "      <td>2019-07-27T00:00:00Z</td>\n",
       "      <td>80</td>\n",
       "      <td>25</td>\n",
       "    </tr>\n",
       "    <tr>\n",
       "      <th>1</th>\n",
       "      <td>2019-07-28T00:00:00Z</td>\n",
       "      <td>80</td>\n",
       "      <td>35</td>\n",
       "    </tr>\n",
       "    <tr>\n",
       "      <th>2</th>\n",
       "      <td>2019-07-29T00:00:00Z</td>\n",
       "      <td>170</td>\n",
       "      <td>56</td>\n",
       "    </tr>\n",
       "    <tr>\n",
       "      <th>3</th>\n",
       "      <td>2019-07-30T00:00:00Z</td>\n",
       "      <td>260</td>\n",
       "      <td>70</td>\n",
       "    </tr>\n",
       "    <tr>\n",
       "      <th>4</th>\n",
       "      <td>2019-07-31T00:00:00Z</td>\n",
       "      <td>270</td>\n",
       "      <td>50</td>\n",
       "    </tr>\n",
       "    <tr>\n",
       "      <th>5</th>\n",
       "      <td>2019-08-01T00:00:00Z</td>\n",
       "      <td>400</td>\n",
       "      <td>70</td>\n",
       "    </tr>\n",
       "    <tr>\n",
       "      <th>6</th>\n",
       "      <td>2019-08-02T00:00:00Z</td>\n",
       "      <td>260</td>\n",
       "      <td>50</td>\n",
       "    </tr>\n",
       "    <tr>\n",
       "      <th>7</th>\n",
       "      <td>2019-08-03T00:00:00Z</td>\n",
       "      <td>80</td>\n",
       "      <td>20</td>\n",
       "    </tr>\n",
       "    <tr>\n",
       "      <th>8</th>\n",
       "      <td>2019-08-04T00:00:00Z</td>\n",
       "      <td>70</td>\n",
       "      <td>19</td>\n",
       "    </tr>\n",
       "    <tr>\n",
       "      <th>9</th>\n",
       "      <td>2019-08-05T00:00:00Z</td>\n",
       "      <td>370</td>\n",
       "      <td>57</td>\n",
       "    </tr>\n",
       "    <tr>\n",
       "      <th>10</th>\n",
       "      <td>2019-08-06T00:00:00Z</td>\n",
       "      <td>450</td>\n",
       "      <td>58</td>\n",
       "    </tr>\n",
       "    <tr>\n",
       "      <th>11</th>\n",
       "      <td>2019-08-07T00:00:00Z</td>\n",
       "      <td>500</td>\n",
       "      <td>63</td>\n",
       "    </tr>\n",
       "    <tr>\n",
       "      <th>12</th>\n",
       "      <td>2019-08-08T00:00:00Z</td>\n",
       "      <td>450</td>\n",
       "      <td>72</td>\n",
       "    </tr>\n",
       "    <tr>\n",
       "      <th>13</th>\n",
       "      <td>2019-08-09T00:00:00Z</td>\n",
       "      <td>300</td>\n",
       "      <td>50</td>\n",
       "    </tr>\n",
       "    <tr>\n",
       "      <th>14</th>\n",
       "      <td>2019-08-10T00:00:00Z</td>\n",
       "      <td>240</td>\n",
       "      <td>40</td>\n",
       "    </tr>\n",
       "    <tr>\n",
       "      <th>15</th>\n",
       "      <td>2019-08-11T00:00:00Z</td>\n",
       "      <td>240</td>\n",
       "      <td>27</td>\n",
       "    </tr>\n",
       "    <tr>\n",
       "      <th>16</th>\n",
       "      <td>2019-08-12T00:00:00Z</td>\n",
       "      <td>350</td>\n",
       "      <td>63</td>\n",
       "    </tr>\n",
       "    <tr>\n",
       "      <th>17</th>\n",
       "      <td>2019-08-13T00:00:00Z</td>\n",
       "      <td>470</td>\n",
       "      <td>85</td>\n",
       "    </tr>\n",
       "    <tr>\n",
       "      <th>18</th>\n",
       "      <td>2019-08-14T00:00:00Z</td>\n",
       "      <td>350</td>\n",
       "      <td>57</td>\n",
       "    </tr>\n",
       "    <tr>\n",
       "      <th>19</th>\n",
       "      <td>2019-08-15T00:00:00Z</td>\n",
       "      <td>610</td>\n",
       "      <td>60</td>\n",
       "    </tr>\n",
       "    <tr>\n",
       "      <th>20</th>\n",
       "      <td>2019-08-16T00:00:00Z</td>\n",
       "      <td>400</td>\n",
       "      <td>72</td>\n",
       "    </tr>\n",
       "    <tr>\n",
       "      <th>21</th>\n",
       "      <td>2019-08-17T00:00:00Z</td>\n",
       "      <td>230</td>\n",
       "      <td>48</td>\n",
       "    </tr>\n",
       "    <tr>\n",
       "      <th>22</th>\n",
       "      <td>2019-08-18T00:00:00Z</td>\n",
       "      <td>180</td>\n",
       "      <td>32</td>\n",
       "    </tr>\n",
       "    <tr>\n",
       "      <th>23</th>\n",
       "      <td>2019-08-19T00:00:00Z</td>\n",
       "      <td>320</td>\n",
       "      <td>70</td>\n",
       "    </tr>\n",
       "    <tr>\n",
       "      <th>24</th>\n",
       "      <td>2019-08-20T00:00:00Z</td>\n",
       "      <td>340</td>\n",
       "      <td>65</td>\n",
       "    </tr>\n",
       "    <tr>\n",
       "      <th>25</th>\n",
       "      <td>2019-08-21T00:00:00Z</td>\n",
       "      <td>400</td>\n",
       "      <td>80</td>\n",
       "    </tr>\n",
       "    <tr>\n",
       "      <th>26</th>\n",
       "      <td>2019-08-22T00:00:00Z</td>\n",
       "      <td>320</td>\n",
       "      <td>65</td>\n",
       "    </tr>\n",
       "    <tr>\n",
       "      <th>27</th>\n",
       "      <td>2019-08-23T00:00:00Z</td>\n",
       "      <td>250</td>\n",
       "      <td>50</td>\n",
       "    </tr>\n",
       "    <tr>\n",
       "      <th>28</th>\n",
       "      <td>2019-08-24T00:00:00Z</td>\n",
       "      <td>160</td>\n",
       "      <td>35</td>\n",
       "    </tr>\n",
       "    <tr>\n",
       "      <th>29</th>\n",
       "      <td>2019-08-25T00:00:00Z</td>\n",
       "      <td>100</td>\n",
       "      <td>30</td>\n",
       "    </tr>\n",
       "    <tr>\n",
       "      <th>30</th>\n",
       "      <td>2019-08-26T00:00:00Z</td>\n",
       "      <td>410</td>\n",
       "      <td>65</td>\n",
       "    </tr>\n",
       "    <tr>\n",
       "      <th>31</th>\n",
       "      <td>2019-08-27T00:00:00Z</td>\n",
       "      <td>230</td>\n",
       "      <td>55</td>\n",
       "    </tr>\n",
       "    <tr>\n",
       "      <th>32</th>\n",
       "      <td>2019-08-28T00:00:00Z</td>\n",
       "      <td>500</td>\n",
       "      <td>70</td>\n",
       "    </tr>\n",
       "    <tr>\n",
       "      <th>33</th>\n",
       "      <td>2019-08-29T00:00:00Z</td>\n",
       "      <td>360</td>\n",
       "      <td>60</td>\n",
       "    </tr>\n",
       "    <tr>\n",
       "      <th>34</th>\n",
       "      <td>2019-08-30T00:00:00Z</td>\n",
       "      <td>270</td>\n",
       "      <td>56</td>\n",
       "    </tr>\n",
       "    <tr>\n",
       "      <th>35</th>\n",
       "      <td>2019-08-31T00:00:00Z</td>\n",
       "      <td>130</td>\n",
       "      <td>25</td>\n",
       "    </tr>\n",
       "    <tr>\n",
       "      <th>36</th>\n",
       "      <td>2019-09-01T00:00:00Z</td>\n",
       "      <td>100</td>\n",
       "      <td>23</td>\n",
       "    </tr>\n",
       "    <tr>\n",
       "      <th>37</th>\n",
       "      <td>2019-09-02T00:00:00Z</td>\n",
       "      <td>200</td>\n",
       "      <td>55</td>\n",
       "    </tr>\n",
       "    <tr>\n",
       "      <th>38</th>\n",
       "      <td>2019-09-03T00:00:00Z</td>\n",
       "      <td>430</td>\n",
       "      <td>52</td>\n",
       "    </tr>\n",
       "    <tr>\n",
       "      <th>39</th>\n",
       "      <td>2019-09-04T00:00:00Z</td>\n",
       "      <td>420</td>\n",
       "      <td>65</td>\n",
       "    </tr>\n",
       "    <tr>\n",
       "      <th>40</th>\n",
       "      <td>2019-09-05T00:00:00Z</td>\n",
       "      <td>510</td>\n",
       "      <td>60</td>\n",
       "    </tr>\n",
       "    <tr>\n",
       "      <th>41</th>\n",
       "      <td>2019-09-06T00:00:00Z</td>\n",
       "      <td>340</td>\n",
       "      <td>75</td>\n",
       "    </tr>\n",
       "    <tr>\n",
       "      <th>42</th>\n",
       "      <td>2019-09-07T00:00:00Z</td>\n",
       "      <td>220</td>\n",
       "      <td>65</td>\n",
       "    </tr>\n",
       "    <tr>\n",
       "      <th>43</th>\n",
       "      <td>2019-09-08T00:00:00Z</td>\n",
       "      <td>130</td>\n",
       "      <td>33</td>\n",
       "    </tr>\n",
       "    <tr>\n",
       "      <th>44</th>\n",
       "      <td>2019-09-09T00:00:00Z</td>\n",
       "      <td>330</td>\n",
       "      <td>78</td>\n",
       "    </tr>\n",
       "    <tr>\n",
       "      <th>45</th>\n",
       "      <td>2019-09-10T00:00:00Z</td>\n",
       "      <td>340</td>\n",
       "      <td>78</td>\n",
       "    </tr>\n",
       "    <tr>\n",
       "      <th>46</th>\n",
       "      <td>2019-09-11T00:00:00Z</td>\n",
       "      <td>350</td>\n",
       "      <td>65</td>\n",
       "    </tr>\n",
       "    <tr>\n",
       "      <th>47</th>\n",
       "      <td>2019-09-12T00:00:00Z</td>\n",
       "      <td>300</td>\n",
       "      <td>65</td>\n",
       "    </tr>\n",
       "    <tr>\n",
       "      <th>48</th>\n",
       "      <td>2019-09-13T00:00:00Z</td>\n",
       "      <td>350</td>\n",
       "      <td>57</td>\n",
       "    </tr>\n",
       "    <tr>\n",
       "      <th>49</th>\n",
       "      <td>2019-09-14T00:00:00Z</td>\n",
       "      <td>70</td>\n",
       "      <td>25</td>\n",
       "    </tr>\n",
       "    <tr>\n",
       "      <th>50</th>\n",
       "      <td>2019-09-15T00:00:00Z</td>\n",
       "      <td>310</td>\n",
       "      <td>33</td>\n",
       "    </tr>\n",
       "    <tr>\n",
       "      <th>51</th>\n",
       "      <td>2019-09-16T00:00:00Z</td>\n",
       "      <td>360</td>\n",
       "      <td>75</td>\n",
       "    </tr>\n",
       "    <tr>\n",
       "      <th>52</th>\n",
       "      <td>2019-09-17T00:00:00Z</td>\n",
       "      <td>310</td>\n",
       "      <td>60</td>\n",
       "    </tr>\n",
       "    <tr>\n",
       "      <th>53</th>\n",
       "      <td>2019-09-18T00:00:00Z</td>\n",
       "      <td>300</td>\n",
       "      <td>55</td>\n",
       "    </tr>\n",
       "    <tr>\n",
       "      <th>54</th>\n",
       "      <td>2019-09-19T00:00:00Z</td>\n",
       "      <td>410</td>\n",
       "      <td>56</td>\n",
       "    </tr>\n",
       "    <tr>\n",
       "      <th>55</th>\n",
       "      <td>2019-09-20T00:00:00Z</td>\n",
       "      <td>320</td>\n",
       "      <td>52</td>\n",
       "    </tr>\n",
       "  </tbody>\n",
       "</table>\n",
       "</div>"
      ],
      "text/plain": [
       "               timestamp  count  uniques\n",
       "0   2019-07-27T00:00:00Z     80       25\n",
       "1   2019-07-28T00:00:00Z     80       35\n",
       "2   2019-07-29T00:00:00Z    170       56\n",
       "3   2019-07-30T00:00:00Z    260       70\n",
       "4   2019-07-31T00:00:00Z    270       50\n",
       "5   2019-08-01T00:00:00Z    400       70\n",
       "6   2019-08-02T00:00:00Z    260       50\n",
       "7   2019-08-03T00:00:00Z     80       20\n",
       "8   2019-08-04T00:00:00Z     70       19\n",
       "9   2019-08-05T00:00:00Z    370       57\n",
       "10  2019-08-06T00:00:00Z    450       58\n",
       "11  2019-08-07T00:00:00Z    500       63\n",
       "12  2019-08-08T00:00:00Z    450       72\n",
       "13  2019-08-09T00:00:00Z    300       50\n",
       "14  2019-08-10T00:00:00Z    240       40\n",
       "15  2019-08-11T00:00:00Z    240       27\n",
       "16  2019-08-12T00:00:00Z    350       63\n",
       "17  2019-08-13T00:00:00Z    470       85\n",
       "18  2019-08-14T00:00:00Z    350       57\n",
       "19  2019-08-15T00:00:00Z    610       60\n",
       "20  2019-08-16T00:00:00Z    400       72\n",
       "21  2019-08-17T00:00:00Z    230       48\n",
       "22  2019-08-18T00:00:00Z    180       32\n",
       "23  2019-08-19T00:00:00Z    320       70\n",
       "24  2019-08-20T00:00:00Z    340       65\n",
       "25  2019-08-21T00:00:00Z    400       80\n",
       "26  2019-08-22T00:00:00Z    320       65\n",
       "27  2019-08-23T00:00:00Z    250       50\n",
       "28  2019-08-24T00:00:00Z    160       35\n",
       "29  2019-08-25T00:00:00Z    100       30\n",
       "30  2019-08-26T00:00:00Z    410       65\n",
       "31  2019-08-27T00:00:00Z    230       55\n",
       "32  2019-08-28T00:00:00Z    500       70\n",
       "33  2019-08-29T00:00:00Z    360       60\n",
       "34  2019-08-30T00:00:00Z    270       56\n",
       "35  2019-08-31T00:00:00Z    130       25\n",
       "36  2019-09-01T00:00:00Z    100       23\n",
       "37  2019-09-02T00:00:00Z    200       55\n",
       "38  2019-09-03T00:00:00Z    430       52\n",
       "39  2019-09-04T00:00:00Z    420       65\n",
       "40  2019-09-05T00:00:00Z    510       60\n",
       "41  2019-09-06T00:00:00Z    340       75\n",
       "42  2019-09-07T00:00:00Z    220       65\n",
       "43  2019-09-08T00:00:00Z    130       33\n",
       "44  2019-09-09T00:00:00Z    330       78\n",
       "45  2019-09-10T00:00:00Z    340       78\n",
       "46  2019-09-11T00:00:00Z    350       65\n",
       "47  2019-09-12T00:00:00Z    300       65\n",
       "48  2019-09-13T00:00:00Z    350       57\n",
       "49  2019-09-14T00:00:00Z     70       25\n",
       "50  2019-09-15T00:00:00Z    310       33\n",
       "51  2019-09-16T00:00:00Z    360       75\n",
       "52  2019-09-17T00:00:00Z    310       60\n",
       "53  2019-09-18T00:00:00Z    300       55\n",
       "54  2019-09-19T00:00:00Z    410       56\n",
       "55  2019-09-20T00:00:00Z    320       52"
      ]
     },
     "execution_count": 16,
     "metadata": {},
     "output_type": "execute_result"
    }
   ],
   "source": [
    "pd_main"
   ]
  },
  {
   "cell_type": "code",
   "execution_count": 17,
   "metadata": {},
   "outputs": [
    {
     "data": {
      "text/plain": [
       "<matplotlib.axes._subplots.AxesSubplot at 0x7ff024d27ef0>"
      ]
     },
     "execution_count": 17,
     "metadata": {},
     "output_type": "execute_result"
    },
    {
     "data": {
      "image/png": "[encoded data removed]",
      "text/plain": [
       "<Figure size 432x288 with 1 Axes>"
      ]
     },
     "metadata": {
      "needs_background": "light"
     },
     "output_type": "display_data"
    }
   ],
   "source": [
    "sns.scatterplot(data=pd_main, x=range(0, len(pd_main)), y='count')"
   ]
  },
  {
   "cell_type": "code",
   "execution_count": 18,
   "metadata": {},
   "outputs": [
    {
     "data": {
      "text/plain": [
       "<matplotlib.axes._subplots.AxesSubplot at 0x7ff024c46dd8>"
      ]
     },
     "execution_count": 18,
     "metadata": {},
     "output_type": "execute_result"
    },
    {
     "data": {
      "image/png": "[encoded data removed]",
      "text/plain": [
       "<Figure size 432x288 with 1 Axes>"
      ]
     },
     "metadata": {
      "needs_background": "light"
     },
     "output_type": "display_data"
    }
   ],
   "source": [
    "sns.scatterplot(data=pd_main, x=range(0, len(pd_main)), y='uniques')"
   ]
  },
  {
   "cell_type": "code",
   "execution_count": 19,
   "metadata": {},
   "outputs": [],
   "source": [
    "# Check\n",
    "# data = json.loads('07-27-2019_json.json')\n",
    "# counts = data['count']\n",
    "# uniques = data['uniques']\n",
    "# timestamp_data = data['views']\n",
    "# df = pd.DataFrame(timestamp_data)\n",
    "# df"
   ]
  },
  {
   "cell_type": "code",
   "execution_count": 20,
   "metadata": {},
   "outputs": [
    {
     "name": "stdout",
     "output_type": "stream",
     "text": [
      "07-27-2019_views-json.json  08-27-2019_views-json.json\r\n",
      "07-30-2019_views-json.json  08-31-2019_views-json.json\r\n",
      "08-02-2019_views-json.json  09-07-2019_views-json.json\r\n",
      "08-06-2019_views-json.json  clones\r\n",
      "08-13-2019_views-json.json  old_clones_constructor.ipynb\r\n",
      "08-18-2019_views-json.json  old_views_constructor.ipynb\r\n",
      "08-21-2019_views-json.json  old_views.csv\r\n",
      "08-23-2019_views-json.json\r\n"
     ]
    }
   ],
   "source": [
    "!ls"
   ]
  },
  {
   "cell_type": "code",
   "execution_count": null,
   "metadata": {},
   "outputs": [],
   "source": []
  }
 ],
 "metadata": {
  "kernelspec": {
   "display_name": "Python 3",
   "language": "python",
   "name": "python3"
  },
  "language_info": {
   "codemirror_mode": {
    "name": "ipython",
    "version": 3
   },
   "file_extension": ".py",
   "mimetype": "text/x-python",
   "name": "python",
   "nbconvert_exporter": "python",
   "pygments_lexer": "ipython3",
   "version": "3.6.8"
  }
 },
 "nbformat": 4,
 "nbformat_minor": 2
}
