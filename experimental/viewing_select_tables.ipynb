{
 "cells": [
  {
   "cell_type": "code",
   "execution_count": 23,
   "metadata": {},
   "outputs": [],
   "source": [
    "import pandas as pd\n",
    "import datetime as dt"
   ]
  },
  {
   "cell_type": "code",
   "execution_count": 16,
   "metadata": {},
   "outputs": [],
   "source": [
    "clones = pd.read_csv('../master_tables/updated_clones_2019-12-06_11-16-30.csv')\n",
    "views = pd.read_csv('../master_tables/updated_views_2019-12-06_11-16-29.csv')"
   ]
  },
  {
   "cell_type": "code",
   "execution_count": 17,
   "metadata": {},
   "outputs": [
    {
     "data": {
      "text/html": [
       "<div>\n",
       "<style scoped>\n",
       "    .dataframe tbody tr th:only-of-type {\n",
       "        vertical-align: middle;\n",
       "    }\n",
       "\n",
       "    .dataframe tbody tr th {\n",
       "        vertical-align: top;\n",
       "    }\n",
       "\n",
       "    .dataframe thead th {\n",
       "        text-align: right;\n",
       "    }\n",
       "</style>\n",
       "<table border=\"1\" class=\"dataframe\">\n",
       "  <thead>\n",
       "    <tr style=\"text-align: right;\">\n",
       "      <th></th>\n",
       "      <th>timestamp</th>\n",
       "      <th>count</th>\n",
       "      <th>uniques</th>\n",
       "      <th>day</th>\n",
       "      <th>mo</th>\n",
       "      <th>yr</th>\n",
       "      <th>collection_timestamp</th>\n",
       "      <th>yr_mo_day</th>\n",
       "    </tr>\n",
       "  </thead>\n",
       "  <tbody>\n",
       "    <tr>\n",
       "      <td>106</td>\n",
       "      <td>2019-11-11T00:00:00Z</td>\n",
       "      <td>425</td>\n",
       "      <td>95</td>\n",
       "      <td>11</td>\n",
       "      <td>11</td>\n",
       "      <td>2019</td>\n",
       "      <td>2019-11-12 15:40:53.786442</td>\n",
       "      <td>2019-11-11</td>\n",
       "    </tr>\n",
       "    <tr>\n",
       "      <td>107</td>\n",
       "      <td>2019-11-12T00:00:00Z</td>\n",
       "      <td>263</td>\n",
       "      <td>97</td>\n",
       "      <td>12</td>\n",
       "      <td>11</td>\n",
       "      <td>2019</td>\n",
       "      <td>2019-11-12 15:40:53.786442</td>\n",
       "      <td>2019-11-12</td>\n",
       "    </tr>\n",
       "    <tr>\n",
       "      <td>108</td>\n",
       "      <td>2019-11-14T00:00:00Z</td>\n",
       "      <td>7</td>\n",
       "      <td>5</td>\n",
       "      <td>14</td>\n",
       "      <td>11</td>\n",
       "      <td>2019</td>\n",
       "      <td>2019-11-28 13:07:47.015583</td>\n",
       "      <td>2019-11-14</td>\n",
       "    </tr>\n",
       "  </tbody>\n",
       "</table>\n",
       "</div>"
      ],
      "text/plain": [
       "                timestamp  count  uniques  day  mo    yr  \\\n",
       "106  2019-11-11T00:00:00Z    425       95   11  11  2019   \n",
       "107  2019-11-12T00:00:00Z    263       97   12  11  2019   \n",
       "108  2019-11-14T00:00:00Z      7        5   14  11  2019   \n",
       "\n",
       "           collection_timestamp   yr_mo_day  \n",
       "106  2019-11-12 15:40:53.786442  2019-11-11  \n",
       "107  2019-11-12 15:40:53.786442  2019-11-12  \n",
       "108  2019-11-28 13:07:47.015583  2019-11-14  "
      ]
     },
     "execution_count": 17,
     "metadata": {},
     "output_type": "execute_result"
    }
   ],
   "source": [
    "views.query('mo == 11 and day < 15 and day > 10')"
   ]
  },
  {
   "cell_type": "code",
   "execution_count": 18,
   "metadata": {},
   "outputs": [],
   "source": [
    "views.loc[views.yr_mo_day == '2019-11-14', 'uniques'] = 100\n",
    "views.loc[views.yr_mo_day == '2019-11-14', 'count'] = 360"
   ]
  },
  {
   "cell_type": "code",
   "execution_count": 19,
   "metadata": {},
   "outputs": [
    {
     "data": {
      "text/html": [
       "<div>\n",
       "<style scoped>\n",
       "    .dataframe tbody tr th:only-of-type {\n",
       "        vertical-align: middle;\n",
       "    }\n",
       "\n",
       "    .dataframe tbody tr th {\n",
       "        vertical-align: top;\n",
       "    }\n",
       "\n",
       "    .dataframe thead th {\n",
       "        text-align: right;\n",
       "    }\n",
       "</style>\n",
       "<table border=\"1\" class=\"dataframe\">\n",
       "  <thead>\n",
       "    <tr style=\"text-align: right;\">\n",
       "      <th></th>\n",
       "      <th>timestamp</th>\n",
       "      <th>count</th>\n",
       "      <th>uniques</th>\n",
       "      <th>day</th>\n",
       "      <th>mo</th>\n",
       "      <th>yr</th>\n",
       "      <th>collection_timestamp</th>\n",
       "      <th>yr_mo_day</th>\n",
       "    </tr>\n",
       "  </thead>\n",
       "  <tbody>\n",
       "    <tr>\n",
       "      <td>106</td>\n",
       "      <td>2019-11-11T00:00:00Z</td>\n",
       "      <td>425</td>\n",
       "      <td>95</td>\n",
       "      <td>11</td>\n",
       "      <td>11</td>\n",
       "      <td>2019</td>\n",
       "      <td>2019-11-12 15:40:53.786442</td>\n",
       "      <td>2019-11-11</td>\n",
       "    </tr>\n",
       "    <tr>\n",
       "      <td>107</td>\n",
       "      <td>2019-11-12T00:00:00Z</td>\n",
       "      <td>263</td>\n",
       "      <td>97</td>\n",
       "      <td>12</td>\n",
       "      <td>11</td>\n",
       "      <td>2019</td>\n",
       "      <td>2019-11-12 15:40:53.786442</td>\n",
       "      <td>2019-11-12</td>\n",
       "    </tr>\n",
       "    <tr>\n",
       "      <td>108</td>\n",
       "      <td>2019-11-14T00:00:00Z</td>\n",
       "      <td>360</td>\n",
       "      <td>100</td>\n",
       "      <td>14</td>\n",
       "      <td>11</td>\n",
       "      <td>2019</td>\n",
       "      <td>2019-11-28 13:07:47.015583</td>\n",
       "      <td>2019-11-14</td>\n",
       "    </tr>\n",
       "  </tbody>\n",
       "</table>\n",
       "</div>"
      ],
      "text/plain": [
       "                timestamp  count  uniques  day  mo    yr  \\\n",
       "106  2019-11-11T00:00:00Z    425       95   11  11  2019   \n",
       "107  2019-11-12T00:00:00Z    263       97   12  11  2019   \n",
       "108  2019-11-14T00:00:00Z    360      100   14  11  2019   \n",
       "\n",
       "           collection_timestamp   yr_mo_day  \n",
       "106  2019-11-12 15:40:53.786442  2019-11-11  \n",
       "107  2019-11-12 15:40:53.786442  2019-11-12  \n",
       "108  2019-11-28 13:07:47.015583  2019-11-14  "
      ]
     },
     "execution_count": 19,
     "metadata": {},
     "output_type": "execute_result"
    }
   ],
   "source": [
    "views.query('mo == 11 and day < 15 and day > 10')"
   ]
  },
  {
   "cell_type": "code",
   "execution_count": 28,
   "metadata": {},
   "outputs": [
    {
     "data": {
      "text/html": [
       "<div>\n",
       "<style scoped>\n",
       "    .dataframe tbody tr th:only-of-type {\n",
       "        vertical-align: middle;\n",
       "    }\n",
       "\n",
       "    .dataframe tbody tr th {\n",
       "        vertical-align: top;\n",
       "    }\n",
       "\n",
       "    .dataframe thead th {\n",
       "        text-align: right;\n",
       "    }\n",
       "</style>\n",
       "<table border=\"1\" class=\"dataframe\">\n",
       "  <thead>\n",
       "    <tr style=\"text-align: right;\">\n",
       "      <th></th>\n",
       "      <th>timestamp</th>\n",
       "      <th>count</th>\n",
       "      <th>uniques</th>\n",
       "      <th>day</th>\n",
       "      <th>mo</th>\n",
       "      <th>yr</th>\n",
       "      <th>collection_timestamp</th>\n",
       "      <th>yr_mo_day</th>\n",
       "    </tr>\n",
       "  </thead>\n",
       "  <tbody>\n",
       "    <tr>\n",
       "      <td>106</td>\n",
       "      <td>2019-11-11T00:00:00Z</td>\n",
       "      <td>31</td>\n",
       "      <td>27</td>\n",
       "      <td>11</td>\n",
       "      <td>11</td>\n",
       "      <td>2019</td>\n",
       "      <td>2019-11-12 15:40:54.591320</td>\n",
       "      <td>2019-11-11</td>\n",
       "    </tr>\n",
       "    <tr>\n",
       "      <td>107</td>\n",
       "      <td>2019-11-12T00:00:00Z</td>\n",
       "      <td>33</td>\n",
       "      <td>24</td>\n",
       "      <td>12</td>\n",
       "      <td>11</td>\n",
       "      <td>2019</td>\n",
       "      <td>2019-11-12 15:40:54.591320</td>\n",
       "      <td>2019-11-12</td>\n",
       "    </tr>\n",
       "    <tr>\n",
       "      <td>108</td>\n",
       "      <td>2019-11-15T00:00:00Z</td>\n",
       "      <td>23</td>\n",
       "      <td>19</td>\n",
       "      <td>15</td>\n",
       "      <td>11</td>\n",
       "      <td>2019</td>\n",
       "      <td>2019-11-28 13:07:47.955742</td>\n",
       "      <td>2019-11-15</td>\n",
       "    </tr>\n",
       "  </tbody>\n",
       "</table>\n",
       "</div>"
      ],
      "text/plain": [
       "                timestamp  count  uniques  day  mo    yr  \\\n",
       "106  2019-11-11T00:00:00Z     31       27   11  11  2019   \n",
       "107  2019-11-12T00:00:00Z     33       24   12  11  2019   \n",
       "108  2019-11-15T00:00:00Z     23       19   15  11  2019   \n",
       "\n",
       "           collection_timestamp   yr_mo_day  \n",
       "106  2019-11-12 15:40:54.591320  2019-11-11  \n",
       "107  2019-11-12 15:40:54.591320  2019-11-12  \n",
       "108  2019-11-28 13:07:47.955742  2019-11-15  "
      ]
     },
     "execution_count": 28,
     "metadata": {},
     "output_type": "execute_result"
    }
   ],
   "source": [
    "clones.query('mo == 11 and day < 16 and day > 10')"
   ]
  },
  {
   "cell_type": "code",
   "execution_count": 36,
   "metadata": {},
   "outputs": [
    {
     "data": {
      "text/html": [
       "<div>\n",
       "<style scoped>\n",
       "    .dataframe tbody tr th:only-of-type {\n",
       "        vertical-align: middle;\n",
       "    }\n",
       "\n",
       "    .dataframe tbody tr th {\n",
       "        vertical-align: top;\n",
       "    }\n",
       "\n",
       "    .dataframe thead th {\n",
       "        text-align: right;\n",
       "    }\n",
       "</style>\n",
       "<table border=\"1\" class=\"dataframe\">\n",
       "  <thead>\n",
       "    <tr style=\"text-align: right;\">\n",
       "      <th></th>\n",
       "      <th>timestamp</th>\n",
       "      <th>count</th>\n",
       "      <th>uniques</th>\n",
       "      <th>day</th>\n",
       "      <th>mo</th>\n",
       "      <th>yr</th>\n",
       "      <th>collection_timestamp</th>\n",
       "      <th>yr_mo_day</th>\n",
       "    </tr>\n",
       "  </thead>\n",
       "  <tbody>\n",
       "    <tr>\n",
       "      <td>0</td>\n",
       "      <td>2019-11-14T00:00:00Z</td>\n",
       "      <td>28</td>\n",
       "      <td>20</td>\n",
       "      <td>14</td>\n",
       "      <td>11</td>\n",
       "      <td>2019</td>\n",
       "      <td>2019-11-28 13:07:47.015583</td>\n",
       "      <td>2019-11-14</td>\n",
       "    </tr>\n",
       "  </tbody>\n",
       "</table>\n",
       "</div>"
      ],
      "text/plain": [
       "              timestamp  count  uniques  day  mo    yr  \\\n",
       "0  2019-11-14T00:00:00Z     28       20   14  11  2019   \n",
       "\n",
       "         collection_timestamp   yr_mo_day  \n",
       "0  2019-11-28 13:07:47.015583  2019-11-14  "
      ]
     },
     "execution_count": 36,
     "metadata": {},
     "output_type": "execute_result"
    }
   ],
   "source": [
    "insert_row = pd.DataFrame({\n",
    "    'timestamp': ['2019-11-14T00:00:00Z'],\n",
    "    'count': 28,\n",
    "    'uniques': 20,\n",
    "    'day': 14,\n",
    "    'mo': 11,\n",
    "    'yr': 2019,\n",
    "    'collection_timestamp': '2019-11-28 13:07:47.015583',\n",
    "    'yr_mo_day': dt.datetime(2019, 11, 14).date()\n",
    "})\n",
    "insert_row"
   ]
  },
  {
   "cell_type": "code",
   "execution_count": 40,
   "metadata": {},
   "outputs": [
    {
     "data": {
      "text/html": [
       "<div>\n",
       "<style scoped>\n",
       "    .dataframe tbody tr th:only-of-type {\n",
       "        vertical-align: middle;\n",
       "    }\n",
       "\n",
       "    .dataframe tbody tr th {\n",
       "        vertical-align: top;\n",
       "    }\n",
       "\n",
       "    .dataframe thead th {\n",
       "        text-align: right;\n",
       "    }\n",
       "</style>\n",
       "<table border=\"1\" class=\"dataframe\">\n",
       "  <thead>\n",
       "    <tr style=\"text-align: right;\">\n",
       "      <th></th>\n",
       "      <th>timestamp</th>\n",
       "      <th>count</th>\n",
       "      <th>uniques</th>\n",
       "      <th>day</th>\n",
       "      <th>mo</th>\n",
       "      <th>yr</th>\n",
       "      <th>collection_timestamp</th>\n",
       "      <th>yr_mo_day</th>\n",
       "    </tr>\n",
       "  </thead>\n",
       "  <tbody>\n",
       "    <tr>\n",
       "      <td>106</td>\n",
       "      <td>2019-11-11T00:00:00Z</td>\n",
       "      <td>31</td>\n",
       "      <td>27</td>\n",
       "      <td>11</td>\n",
       "      <td>11</td>\n",
       "      <td>2019</td>\n",
       "      <td>2019-11-12 15:40:54.591320</td>\n",
       "      <td>2019-11-11</td>\n",
       "    </tr>\n",
       "    <tr>\n",
       "      <td>107</td>\n",
       "      <td>2019-11-12T00:00:00Z</td>\n",
       "      <td>33</td>\n",
       "      <td>24</td>\n",
       "      <td>12</td>\n",
       "      <td>11</td>\n",
       "      <td>2019</td>\n",
       "      <td>2019-11-12 15:40:54.591320</td>\n",
       "      <td>2019-11-12</td>\n",
       "    </tr>\n",
       "    <tr>\n",
       "      <td>108</td>\n",
       "      <td>2019-11-14T00:00:00Z</td>\n",
       "      <td>28</td>\n",
       "      <td>20</td>\n",
       "      <td>14</td>\n",
       "      <td>11</td>\n",
       "      <td>2019</td>\n",
       "      <td>2019-11-28 13:07:47.015583</td>\n",
       "      <td>2019-11-14</td>\n",
       "    </tr>\n",
       "    <tr>\n",
       "      <td>109</td>\n",
       "      <td>2019-11-15T00:00:00Z</td>\n",
       "      <td>23</td>\n",
       "      <td>19</td>\n",
       "      <td>15</td>\n",
       "      <td>11</td>\n",
       "      <td>2019</td>\n",
       "      <td>2019-11-28 13:07:47.955742</td>\n",
       "      <td>2019-11-15</td>\n",
       "    </tr>\n",
       "  </tbody>\n",
       "</table>\n",
       "</div>"
      ],
      "text/plain": [
       "                timestamp  count  uniques  day  mo    yr  \\\n",
       "106  2019-11-11T00:00:00Z     31       27   11  11  2019   \n",
       "107  2019-11-12T00:00:00Z     33       24   12  11  2019   \n",
       "108  2019-11-14T00:00:00Z     28       20   14  11  2019   \n",
       "109  2019-11-15T00:00:00Z     23       19   15  11  2019   \n",
       "\n",
       "           collection_timestamp   yr_mo_day  \n",
       "106  2019-11-12 15:40:54.591320  2019-11-11  \n",
       "107  2019-11-12 15:40:54.591320  2019-11-12  \n",
       "108  2019-11-28 13:07:47.015583  2019-11-14  \n",
       "109  2019-11-28 13:07:47.955742  2019-11-15  "
      ]
     },
     "execution_count": 40,
     "metadata": {},
     "output_type": "execute_result"
    }
   ],
   "source": [
    "copy_clones = clones.append(insert_row).sort_values(by=['yr', 'mo', 'day']).reset_index(drop='index')\n",
    "copy_clones.query('mo == 11 and day < 16 and day > 10')"
   ]
  },
  {
   "cell_type": "code",
   "execution_count": 41,
   "metadata": {},
   "outputs": [
    {
     "data": {
      "text/plain": [
       "((131, 8), (130, 8))"
      ]
     },
     "execution_count": 41,
     "metadata": {},
     "output_type": "execute_result"
    }
   ],
   "source": [
    "copy_clones.shape, clones.shape"
   ]
  },
  {
   "cell_type": "code",
   "execution_count": 42,
   "metadata": {},
   "outputs": [
    {
     "data": {
      "text/plain": [
       "(131, 8)"
      ]
     },
     "execution_count": 42,
     "metadata": {},
     "output_type": "execute_result"
    }
   ],
   "source": [
    "views.shape"
   ]
  },
  {
   "cell_type": "code",
   "execution_count": 44,
   "metadata": {},
   "outputs": [],
   "source": [
    "def make_csv(kind, new_master):\n",
    "    today_dt = dt.datetime.today()\n",
    "    today = '_'.join(str(today_dt).split(' '))\n",
    "    today = '-'.join(str(today.split('.')[0]).split(':'))\n",
    "    file_name = 'updated_' + kind + '_' + today\n",
    "    csv_string = new_master.to_csv(file_name + '.csv', index=False)"
   ]
  },
  {
   "cell_type": "code",
   "execution_count": 45,
   "metadata": {},
   "outputs": [],
   "source": [
    "make_csv('clones', copy_clones)\n",
    "make_csv('views', views)"
   ]
  },
  {
   "cell_type": "code",
   "execution_count": null,
   "metadata": {},
   "outputs": [],
   "source": []
  }
 ],
 "metadata": {
  "kernelspec": {
   "display_name": "Python 3",
   "language": "python",
   "name": "python3"
  },
  "language_info": {
   "codemirror_mode": {
    "name": "ipython",
    "version": 3
   },
   "file_extension": ".py",
   "mimetype": "text/x-python",
   "name": "python",
   "nbconvert_exporter": "python",
   "pygments_lexer": "ipython3",
   "version": "3.6.8"
  }
 },
 "nbformat": 4,
 "nbformat_minor": 2
}
