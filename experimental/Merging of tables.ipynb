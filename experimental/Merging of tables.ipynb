{
 "cells": [
  {
   "cell_type": "code",
   "execution_count": 2,
   "metadata": {},
   "outputs": [],
   "source": [
    "import pandas as pd"
   ]
  },
  {
   "cell_type": "code",
   "execution_count": 3,
   "metadata": {},
   "outputs": [
    {
     "data": {
      "text/html": [
       "<div>\n",
       "<style scoped>\n",
       "    .dataframe tbody tr th:only-of-type {\n",
       "        vertical-align: middle;\n",
       "    }\n",
       "\n",
       "    .dataframe tbody tr th {\n",
       "        vertical-align: top;\n",
       "    }\n",
       "\n",
       "    .dataframe thead th {\n",
       "        text-align: right;\n",
       "    }\n",
       "</style>\n",
       "<table border=\"1\" class=\"dataframe\">\n",
       "  <thead>\n",
       "    <tr style=\"text-align: right;\">\n",
       "      <th></th>\n",
       "      <th>timestamp</th>\n",
       "      <th>count</th>\n",
       "      <th>uniques</th>\n",
       "      <th>day</th>\n",
       "      <th>mo</th>\n",
       "      <th>yr</th>\n",
       "      <th>collection_timestamp</th>\n",
       "      <th>yr_mo_day</th>\n",
       "    </tr>\n",
       "  </thead>\n",
       "  <tbody>\n",
       "    <tr>\n",
       "      <th>0</th>\n",
       "      <td>2019-07-27T00:00:00Z</td>\n",
       "      <td>80</td>\n",
       "      <td>25</td>\n",
       "      <td>27</td>\n",
       "      <td>7</td>\n",
       "      <td>2019</td>\n",
       "      <td>2019-10-26 23:31:03.990125</td>\n",
       "      <td>2019-07-27</td>\n",
       "    </tr>\n",
       "    <tr>\n",
       "      <th>1</th>\n",
       "      <td>2019-07-28T00:00:00Z</td>\n",
       "      <td>80</td>\n",
       "      <td>35</td>\n",
       "      <td>28</td>\n",
       "      <td>7</td>\n",
       "      <td>2019</td>\n",
       "      <td>2019-10-26 23:31:03.990125</td>\n",
       "      <td>2019-07-28</td>\n",
       "    </tr>\n",
       "    <tr>\n",
       "      <th>2</th>\n",
       "      <td>2019-07-29T00:00:00Z</td>\n",
       "      <td>170</td>\n",
       "      <td>56</td>\n",
       "      <td>29</td>\n",
       "      <td>7</td>\n",
       "      <td>2019</td>\n",
       "      <td>2019-10-26 23:31:03.990125</td>\n",
       "      <td>2019-07-29</td>\n",
       "    </tr>\n",
       "    <tr>\n",
       "      <th>3</th>\n",
       "      <td>2019-07-30T00:00:00Z</td>\n",
       "      <td>260</td>\n",
       "      <td>70</td>\n",
       "      <td>30</td>\n",
       "      <td>7</td>\n",
       "      <td>2019</td>\n",
       "      <td>2019-10-26 23:31:03.990125</td>\n",
       "      <td>2019-07-30</td>\n",
       "    </tr>\n",
       "    <tr>\n",
       "      <th>4</th>\n",
       "      <td>2019-07-31T00:00:00Z</td>\n",
       "      <td>270</td>\n",
       "      <td>50</td>\n",
       "      <td>31</td>\n",
       "      <td>7</td>\n",
       "      <td>2019</td>\n",
       "      <td>2019-10-26 23:31:03.990125</td>\n",
       "      <td>2019-07-31</td>\n",
       "    </tr>\n",
       "  </tbody>\n",
       "</table>\n",
       "</div>"
      ],
      "text/plain": [
       "              timestamp  count  uniques  day  mo    yr  \\\n",
       "0  2019-07-27T00:00:00Z     80       25   27   7  2019   \n",
       "1  2019-07-28T00:00:00Z     80       35   28   7  2019   \n",
       "2  2019-07-29T00:00:00Z    170       56   29   7  2019   \n",
       "3  2019-07-30T00:00:00Z    260       70   30   7  2019   \n",
       "4  2019-07-31T00:00:00Z    270       50   31   7  2019   \n",
       "\n",
       "         collection_timestamp   yr_mo_day  \n",
       "0  2019-10-26 23:31:03.990125  2019-07-27  \n",
       "1  2019-10-26 23:31:03.990125  2019-07-28  \n",
       "2  2019-10-26 23:31:03.990125  2019-07-29  \n",
       "3  2019-10-26 23:31:03.990125  2019-07-30  \n",
       "4  2019-10-26 23:31:03.990125  2019-07-31  "
      ]
     },
     "execution_count": 3,
     "metadata": {},
     "output_type": "execute_result"
    }
   ],
   "source": [
    "df1 = pd.read_csv('../master_tables/updated_views_2020-01-03_22-54-19.csv')\n",
    "df2 = pd.read_csv('../master_tables/updated_clones_2020-01-03_22-54-20.csv')\n",
    "df1.head()"
   ]
  },
  {
   "cell_type": "code",
   "execution_count": 4,
   "metadata": {},
   "outputs": [
    {
     "data": {
      "text/html": [
       "<div>\n",
       "<style scoped>\n",
       "    .dataframe tbody tr th:only-of-type {\n",
       "        vertical-align: middle;\n",
       "    }\n",
       "\n",
       "    .dataframe tbody tr th {\n",
       "        vertical-align: top;\n",
       "    }\n",
       "\n",
       "    .dataframe thead th {\n",
       "        text-align: right;\n",
       "    }\n",
       "</style>\n",
       "<table border=\"1\" class=\"dataframe\">\n",
       "  <thead>\n",
       "    <tr style=\"text-align: right;\">\n",
       "      <th></th>\n",
       "      <th>timestamp</th>\n",
       "      <th>count</th>\n",
       "      <th>uniques</th>\n",
       "      <th>day</th>\n",
       "      <th>mo</th>\n",
       "      <th>yr</th>\n",
       "      <th>collection_timestamp</th>\n",
       "      <th>yr_mo_day</th>\n",
       "    </tr>\n",
       "  </thead>\n",
       "  <tbody>\n",
       "    <tr>\n",
       "      <th>0</th>\n",
       "      <td>2019-07-27T00:00:00Z</td>\n",
       "      <td>11</td>\n",
       "      <td>7</td>\n",
       "      <td>27</td>\n",
       "      <td>7</td>\n",
       "      <td>2019</td>\n",
       "      <td>2019-10-26 23:31:03.990125</td>\n",
       "      <td>2019-07-27</td>\n",
       "    </tr>\n",
       "    <tr>\n",
       "      <th>1</th>\n",
       "      <td>2019-07-28T00:00:00Z</td>\n",
       "      <td>4</td>\n",
       "      <td>4</td>\n",
       "      <td>28</td>\n",
       "      <td>7</td>\n",
       "      <td>2019</td>\n",
       "      <td>2019-10-26 23:31:03.990125</td>\n",
       "      <td>2019-07-28</td>\n",
       "    </tr>\n",
       "    <tr>\n",
       "      <th>2</th>\n",
       "      <td>2019-07-29T00:00:00Z</td>\n",
       "      <td>17</td>\n",
       "      <td>10</td>\n",
       "      <td>29</td>\n",
       "      <td>7</td>\n",
       "      <td>2019</td>\n",
       "      <td>2019-10-26 23:31:03.990125</td>\n",
       "      <td>2019-07-29</td>\n",
       "    </tr>\n",
       "    <tr>\n",
       "      <th>3</th>\n",
       "      <td>2019-07-30T00:00:00Z</td>\n",
       "      <td>28</td>\n",
       "      <td>16</td>\n",
       "      <td>30</td>\n",
       "      <td>7</td>\n",
       "      <td>2019</td>\n",
       "      <td>2019-10-26 23:31:03.990125</td>\n",
       "      <td>2019-07-30</td>\n",
       "    </tr>\n",
       "    <tr>\n",
       "      <th>4</th>\n",
       "      <td>2019-07-31T00:00:00Z</td>\n",
       "      <td>16</td>\n",
       "      <td>10</td>\n",
       "      <td>31</td>\n",
       "      <td>7</td>\n",
       "      <td>2019</td>\n",
       "      <td>2019-10-26 23:31:03.990125</td>\n",
       "      <td>2019-07-31</td>\n",
       "    </tr>\n",
       "  </tbody>\n",
       "</table>\n",
       "</div>"
      ],
      "text/plain": [
       "              timestamp  count  uniques  day  mo    yr  \\\n",
       "0  2019-07-27T00:00:00Z     11        7   27   7  2019   \n",
       "1  2019-07-28T00:00:00Z      4        4   28   7  2019   \n",
       "2  2019-07-29T00:00:00Z     17       10   29   7  2019   \n",
       "3  2019-07-30T00:00:00Z     28       16   30   7  2019   \n",
       "4  2019-07-31T00:00:00Z     16       10   31   7  2019   \n",
       "\n",
       "         collection_timestamp   yr_mo_day  \n",
       "0  2019-10-26 23:31:03.990125  2019-07-27  \n",
       "1  2019-10-26 23:31:03.990125  2019-07-28  \n",
       "2  2019-10-26 23:31:03.990125  2019-07-29  \n",
       "3  2019-10-26 23:31:03.990125  2019-07-30  \n",
       "4  2019-10-26 23:31:03.990125  2019-07-31  "
      ]
     },
     "execution_count": 4,
     "metadata": {},
     "output_type": "execute_result"
    }
   ],
   "source": [
    "df2.head()"
   ]
  },
  {
   "cell_type": "code",
   "execution_count": 5,
   "metadata": {},
   "outputs": [
    {
     "data": {
      "text/plain": [
       "(160, 160)"
      ]
     },
     "execution_count": 5,
     "metadata": {},
     "output_type": "execute_result"
    }
   ],
   "source": [
    "len(df1), len(df2)"
   ]
  },
  {
   "cell_type": "code",
   "execution_count": 8,
   "metadata": {},
   "outputs": [
    {
     "data": {
      "text/plain": [
       "160"
      ]
     },
     "execution_count": 8,
     "metadata": {},
     "output_type": "execute_result"
    }
   ],
   "source": [
    "t1 = df1['timestamp'].unique()\n",
    "len(t1)"
   ]
  },
  {
   "cell_type": "code",
   "execution_count": 12,
   "metadata": {},
   "outputs": [
    {
     "data": {
      "text/plain": [
       "160"
      ]
     },
     "execution_count": 12,
     "metadata": {},
     "output_type": "execute_result"
    }
   ],
   "source": [
    "t2 = df2['timestamp'].unique()"
   ]
  },
  {
   "cell_type": "code",
   "execution_count": 30,
   "metadata": {},
   "outputs": [
    {
     "data": {
      "text/html": [
       "<div>\n",
       "<style scoped>\n",
       "    .dataframe tbody tr th:only-of-type {\n",
       "        vertical-align: middle;\n",
       "    }\n",
       "\n",
       "    .dataframe tbody tr th {\n",
       "        vertical-align: top;\n",
       "    }\n",
       "\n",
       "    .dataframe thead th {\n",
       "        text-align: right;\n",
       "    }\n",
       "</style>\n",
       "<table border=\"1\" class=\"dataframe\">\n",
       "  <thead>\n",
       "    <tr style=\"text-align: right;\">\n",
       "      <th></th>\n",
       "      <th>timestamp</th>\n",
       "      <th>count_views</th>\n",
       "      <th>uniques_views</th>\n",
       "      <th>count_clones</th>\n",
       "      <th>uniques_clones</th>\n",
       "      <th>day</th>\n",
       "      <th>mo</th>\n",
       "      <th>yr</th>\n",
       "      <th>collection_timestamp</th>\n",
       "      <th>yr_mo_day</th>\n",
       "    </tr>\n",
       "  </thead>\n",
       "  <tbody>\n",
       "    <tr>\n",
       "      <th>0</th>\n",
       "      <td>2019-07-27T00:00:00Z</td>\n",
       "      <td>80</td>\n",
       "      <td>25</td>\n",
       "      <td>11</td>\n",
       "      <td>7</td>\n",
       "      <td>27</td>\n",
       "      <td>7</td>\n",
       "      <td>2019</td>\n",
       "      <td>2019-10-26 23:31:03.990125</td>\n",
       "      <td>2019-07-27</td>\n",
       "    </tr>\n",
       "    <tr>\n",
       "      <th>1</th>\n",
       "      <td>2019-07-28T00:00:00Z</td>\n",
       "      <td>80</td>\n",
       "      <td>35</td>\n",
       "      <td>4</td>\n",
       "      <td>4</td>\n",
       "      <td>28</td>\n",
       "      <td>7</td>\n",
       "      <td>2019</td>\n",
       "      <td>2019-10-26 23:31:03.990125</td>\n",
       "      <td>2019-07-28</td>\n",
       "    </tr>\n",
       "    <tr>\n",
       "      <th>2</th>\n",
       "      <td>2019-07-29T00:00:00Z</td>\n",
       "      <td>170</td>\n",
       "      <td>56</td>\n",
       "      <td>17</td>\n",
       "      <td>10</td>\n",
       "      <td>29</td>\n",
       "      <td>7</td>\n",
       "      <td>2019</td>\n",
       "      <td>2019-10-26 23:31:03.990125</td>\n",
       "      <td>2019-07-29</td>\n",
       "    </tr>\n",
       "    <tr>\n",
       "      <th>3</th>\n",
       "      <td>2019-07-30T00:00:00Z</td>\n",
       "      <td>260</td>\n",
       "      <td>70</td>\n",
       "      <td>28</td>\n",
       "      <td>16</td>\n",
       "      <td>30</td>\n",
       "      <td>7</td>\n",
       "      <td>2019</td>\n",
       "      <td>2019-10-26 23:31:03.990125</td>\n",
       "      <td>2019-07-30</td>\n",
       "    </tr>\n",
       "    <tr>\n",
       "      <th>4</th>\n",
       "      <td>2019-07-31T00:00:00Z</td>\n",
       "      <td>270</td>\n",
       "      <td>50</td>\n",
       "      <td>16</td>\n",
       "      <td>10</td>\n",
       "      <td>31</td>\n",
       "      <td>7</td>\n",
       "      <td>2019</td>\n",
       "      <td>2019-10-26 23:31:03.990125</td>\n",
       "      <td>2019-07-31</td>\n",
       "    </tr>\n",
       "  </tbody>\n",
       "</table>\n",
       "</div>"
      ],
      "text/plain": [
       "              timestamp  count_views  uniques_views  count_clones  \\\n",
       "0  2019-07-27T00:00:00Z           80             25            11   \n",
       "1  2019-07-28T00:00:00Z           80             35             4   \n",
       "2  2019-07-29T00:00:00Z          170             56            17   \n",
       "3  2019-07-30T00:00:00Z          260             70            28   \n",
       "4  2019-07-31T00:00:00Z          270             50            16   \n",
       "\n",
       "   uniques_clones  day  mo    yr        collection_timestamp   yr_mo_day  \n",
       "0               7   27   7  2019  2019-10-26 23:31:03.990125  2019-07-27  \n",
       "1               4   28   7  2019  2019-10-26 23:31:03.990125  2019-07-28  \n",
       "2              10   29   7  2019  2019-10-26 23:31:03.990125  2019-07-29  \n",
       "3              16   30   7  2019  2019-10-26 23:31:03.990125  2019-07-30  \n",
       "4              10   31   7  2019  2019-10-26 23:31:03.990125  2019-07-31  "
      ]
     },
     "execution_count": 30,
     "metadata": {},
     "output_type": "execute_result"
    }
   ],
   "source": [
    "df3 = df1.merge(df2, how='outer', left_on='timestamp', right_on='timestamp', suffixes=['_views', '_clones'])\n",
    "df3 = df3.drop(columns=['mo_views', 'yr_views', 'day_views', 'collection_timestamp_views', 'yr_mo_day_views'])\n",
    "df3 = df3.rename(columns={'mo_clones': 'mo', 'yr_clones': 'yr', 'day_clones': 'day', \n",
    "                         'collection_timestamp_clones': 'collection_timestamp', 'yr_mo_day_clones': 'yr_mo_day'})\n",
    "df3.head()"
   ]
  },
  {
   "cell_type": "code",
   "execution_count": 31,
   "metadata": {},
   "outputs": [],
   "source": [
    "df3.to_csv('./updated_views_and_clones_2019-01-04', index=False)"
   ]
  },
  {
   "cell_type": "code",
   "execution_count": null,
   "metadata": {},
   "outputs": [],
   "source": []
  }
 ],
 "metadata": {
  "kernelspec": {
   "display_name": "Python 3",
   "language": "python",
   "name": "python3"
  },
  "language_info": {
   "codemirror_mode": {
    "name": "ipython",
    "version": 3
   },
   "file_extension": ".py",
   "mimetype": "text/x-python",
   "name": "python",
   "nbconvert_exporter": "python",
   "pygments_lexer": "ipython3",
   "version": "3.6.8"
  }
 },
 "nbformat": 4,
 "nbformat_minor": 2
}
