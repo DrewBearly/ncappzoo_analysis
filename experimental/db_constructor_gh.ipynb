{
 "cells": [
  {
   "cell_type": "code",
   "execution_count": 3,
   "metadata": {},
   "outputs": [],
   "source": [
    "import github as gh\n",
    "import pandas as pd\n",
    "import json\n",
    "import datetime as dt"
   ]
  },
  {
   "cell_type": "code",
   "execution_count": 4,
   "metadata": {},
   "outputs": [],
   "source": [
    "keys = open('../keys.txt')\n",
    "read_list = keys.readlines()\n",
    "for i in range(len(read_list)):\n",
    "    text = read_list[i]\n",
    "    read_list[i] = text.rstrip()\n",
    "user, token = read_list"
   ]
  },
  {
   "cell_type": "code",
   "execution_count": 5,
   "metadata": {},
   "outputs": [],
   "source": [
    "g = gh.Github(user, token)"
   ]
  },
  {
   "cell_type": "code",
   "execution_count": 6,
   "metadata": {},
   "outputs": [],
   "source": [
    "repo = g.get_repo('movidius/ncappzoo')"
   ]
  },
  {
   "cell_type": "code",
   "execution_count": 7,
   "metadata": {},
   "outputs": [],
   "source": [
    "clones = repo.get_clones_traffic()\n",
    "views = repo.get_views_traffic()"
   ]
  },
  {
   "cell_type": "code",
   "execution_count": 8,
   "metadata": {},
   "outputs": [
    {
     "data": {
      "text/plain": [
       "{'count': 3868,\n",
       " 'uniques': 899,\n",
       " 'views': [View(uniques=55, timestamp=2019-10-14 00:00:00, count=199),\n",
       "  View(uniques=89, timestamp=2019-10-15 00:00:00, count=291),\n",
       "  View(uniques=93, timestamp=2019-10-16 00:00:00, count=267),\n",
       "  View(uniques=99, timestamp=2019-10-17 00:00:00, count=285),\n",
       "  View(uniques=93, timestamp=2019-10-18 00:00:00, count=367),\n",
       "  View(uniques=49, timestamp=2019-10-19 00:00:00, count=189),\n",
       "  View(uniques=55, timestamp=2019-10-20 00:00:00, count=200),\n",
       "  View(uniques=114, timestamp=2019-10-21 00:00:00, count=444),\n",
       "  View(uniques=87, timestamp=2019-10-22 00:00:00, count=305),\n",
       "  View(uniques=92, timestamp=2019-10-23 00:00:00, count=390),\n",
       "  View(uniques=92, timestamp=2019-10-24 00:00:00, count=297),\n",
       "  View(uniques=73, timestamp=2019-10-25 00:00:00, count=273),\n",
       "  View(uniques=46, timestamp=2019-10-26 00:00:00, count=140),\n",
       "  View(uniques=47, timestamp=2019-10-27 00:00:00, count=144),\n",
       "  View(uniques=23, timestamp=2019-10-28 00:00:00, count=77)]}"
      ]
     },
     "execution_count": 8,
     "metadata": {},
     "output_type": "execute_result"
    }
   ],
   "source": [
    "views"
   ]
  },
  {
   "cell_type": "code",
   "execution_count": 9,
   "metadata": {},
   "outputs": [
    {
     "data": {
      "text/plain": [
       "{'count': 395,\n",
       " 'uniques': 266,\n",
       " 'clones': [Clones(uniques=13, timestamp=2019-10-14 00:00:00, count=24),\n",
       "  Clones(uniques=26, timestamp=2019-10-15 00:00:00, count=31),\n",
       "  Clones(uniques=24, timestamp=2019-10-16 00:00:00, count=26),\n",
       "  Clones(uniques=15, timestamp=2019-10-17 00:00:00, count=18),\n",
       "  Clones(uniques=24, timestamp=2019-10-18 00:00:00, count=34),\n",
       "  Clones(uniques=16, timestamp=2019-10-19 00:00:00, count=24),\n",
       "  Clones(uniques=18, timestamp=2019-10-20 00:00:00, count=23),\n",
       "  Clones(uniques=22, timestamp=2019-10-21 00:00:00, count=26),\n",
       "  Clones(uniques=25, timestamp=2019-10-22 00:00:00, count=30),\n",
       "  Clones(uniques=28, timestamp=2019-10-23 00:00:00, count=33),\n",
       "  Clones(uniques=35, timestamp=2019-10-24 00:00:00, count=44),\n",
       "  Clones(uniques=20, timestamp=2019-10-25 00:00:00, count=24),\n",
       "  Clones(uniques=24, timestamp=2019-10-26 00:00:00, count=37),\n",
       "  Clones(uniques=10, timestamp=2019-10-27 00:00:00, count=15),\n",
       "  Clones(uniques=5, timestamp=2019-10-28 00:00:00, count=6)]}"
      ]
     },
     "execution_count": 9,
     "metadata": {},
     "output_type": "execute_result"
    }
   ],
   "source": [
    "clones"
   ]
  },
  {
   "cell_type": "code",
   "execution_count": 20,
   "metadata": {},
   "outputs": [
    {
     "data": {
      "text/plain": [
       "{'count': 403,\n",
       " 'uniques': 268,\n",
       " 'clones': [{'uniques': '15',\n",
       "   'count': '32',\n",
       "   'timestamp': '2019-10-14T00:00:00Z'},\n",
       "  {'uniques': '26', 'count': '31', 'timestamp': '2019-10-15T00:00:00Z'},\n",
       "  {'uniques': '24', 'count': '26', 'timestamp': '2019-10-16T00:00:00Z'},\n",
       "  {'uniques': '15', 'count': '18', 'timestamp': '2019-10-17T00:00:00Z'},\n",
       "  {'uniques': '24', 'count': '34', 'timestamp': '2019-10-18T00:00:00Z'},\n",
       "  {'uniques': '16', 'count': '24', 'timestamp': '2019-10-19T00:00:00Z'},\n",
       "  {'uniques': '18', 'count': '23', 'timestamp': '2019-10-20T00:00:00Z'},\n",
       "  {'uniques': '22', 'count': '26', 'timestamp': '2019-10-21T00:00:00Z'},\n",
       "  {'uniques': '25', 'count': '30', 'timestamp': '2019-10-22T00:00:00Z'},\n",
       "  {'uniques': '28', 'count': '33', 'timestamp': '2019-10-23T00:00:00Z'},\n",
       "  {'uniques': '35', 'count': '44', 'timestamp': '2019-10-24T00:00:00Z'},\n",
       "  {'uniques': '20', 'count': '24', 'timestamp': '2019-10-25T00:00:00Z'},\n",
       "  {'uniques': '24', 'count': '37', 'timestamp': '2019-10-26T00:00:00Z'},\n",
       "  {'uniques': '10', 'count': '15', 'timestamp': '2019-10-27T00:00:00Z'},\n",
       "  {'uniques': '5', 'count': '6', 'timestamp': '2019-10-28T00:00:00Z'}]}"
      ]
     },
     "execution_count": 20,
     "metadata": {},
     "output_type": "execute_result"
    }
   ],
   "source": [
    "json_data = {\n",
    "    'count': contents['count'],\n",
    "    'uniques': contents['uniques'],\n",
    "    'clones': [{\n",
    "        'uniques': str(x.uniques), \n",
    "        'count': str(x.count),\n",
    "        'timestamp': str(x.timestamp.isoformat()) + 'Z'}\n",
    "    for x in contents['clones']]\n",
    "}\n",
    "json_data"
   ]
  },
  {
   "cell_type": "code",
   "execution_count": 23,
   "metadata": {},
   "outputs": [],
   "source": [
    "json_string = json.dumps(json_data, indent=4, sort_keys=True)\n",
    "f = open('test.json', 'a')\n",
    "f.write(json_string)\n",
    "f.close()"
   ]
  },
  {
   "cell_type": "code",
   "execution_count": 24,
   "metadata": {},
   "outputs": [
    {
     "name": "stdout",
     "output_type": "stream",
     "text": [
      "db_constructor_gh.ipynb  test.json\r\n"
     ]
    }
   ],
   "source": [
    "!ls"
   ]
  }
 ],
 "metadata": {
  "kernelspec": {
   "display_name": "Python 3",
   "language": "python",
   "name": "python3"
  },
  "language_info": {
   "codemirror_mode": {
    "name": "ipython",
    "version": 3
   },
   "file_extension": ".py",
   "mimetype": "text/x-python",
   "name": "python",
   "nbconvert_exporter": "python",
   "pygments_lexer": "ipython3",
   "version": "3.6.8"
  }
 },
 "nbformat": 4,
 "nbformat_minor": 2
}
