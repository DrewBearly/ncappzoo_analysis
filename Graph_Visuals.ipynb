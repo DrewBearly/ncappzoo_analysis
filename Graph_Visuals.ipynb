{
 "cells": [
  {
   "cell_type": "code",
   "execution_count": null,
   "metadata": {},
   "outputs": [],
   "source": [
    "import requests\n",
    "import pandas as pd\n",
    "import datetime as dt\n",
    "import os\n",
    "import plotly.graph_objects as go\n",
    "from scipy.stats import pearsonr\n",
    "from sklearn.linear_model import LinearRegression\n",
    "from scipy.interpolate import interp1d\n",
    "import statsmodels.api as sm\n",
    "import numpy as np"
   ]
  },
  {
   "cell_type": "code",
   "execution_count": null,
   "metadata": {},
   "outputs": [],
   "source": [
    "# Change the file names to \n",
    "viewsfile = 'current_views.csv'\n",
    "clonesfile = 'master_tables/updated_clones_2020-02-10_08-58-15.csv'\n",
    "views = pd.read_csv(viewsfile)\n",
    "clones = pd.read_csv(clonesfile)"
   ]
  },
  {
   "cell_type": "code",
   "execution_count": null,
   "metadata": {},
   "outputs": [],
   "source": [
    "def reg_line_pts(df, col2):\n",
    "    xaxis = [x for x in range(len(df))]\n",
    "    yaxis = df[col2].values\n",
    "    \n",
    "    # calculation of slope using pearsonr for non-gaussian distributions\n",
    "    corr, _ = pearsonr(xaxis, yaxis)\n",
    "    m = corr * (np.std(yaxis) / np.std(xaxis))\n",
    "    \n",
    "    # calculation of y-intercept based on means\n",
    "    yint = np.mean(yaxis) - m * np.mean(xaxis)\n",
    "    \n",
    "    predictions = [m*i + yint for i in xaxis]\n",
    "    return predictions\n",
    "\n",
    "def reg_line_pts2(df, col2):\n",
    "    data = pd.DataFrame({\n",
    "        'x': [x for x in range(len(df))],\n",
    "        'y': [x for x in df[col2].values]\n",
    "    })\n",
    "    X = data.iloc[:, 0].values.reshape(-1, 1)\n",
    "    Y = data.iloc[:, 1].values.reshape(-1, 1)\n",
    "    reg = LinearRegression()\n",
    "    reg.fit(X, Y)\n",
    "    return reg.predict(X).T[0]\n",
    "\n",
    "def lowess_line_pts(df, col2):\n",
    "    data = pd.DataFrame({\n",
    "        'x': [x for x in range(len(df))],\n",
    "        'y': [x for x in df[col2].values]\n",
    "    })\n",
    "    X = data.iloc[:, 0].values\n",
    "    Y = data.iloc[:, 1].values\n",
    "    \n",
    "    # lowess will return our \"smoothed\" data with a y value for at every x-value\n",
    "    lowess = sm.nonparametric.lowess(Y, X, frac=.2)\n",
    "\n",
    "    # unpack the lowess smoothed points to their values\n",
    "    lowess_x = list(zip(*lowess))[0]\n",
    "    lowess_y = list(zip(*lowess))[1]\n",
    "    \n",
    "    # Interpolation\n",
    "    f = interp1d(lowess_x, lowess_y, bounds_error=False)\n",
    "    xnew = [x/10. for x in X]\n",
    "    ynew = f(xnew)\n",
    "    return lowess_y"
   ]
  },
  {
   "cell_type": "code",
   "execution_count": null,
   "metadata": {},
   "outputs": [],
   "source": [
    "fig = go.Figure()\n",
    "fig.add_trace(go.Scatter(x=views['yr_mo_day'], y=views['count'],\n",
    "                         mode='lines+markers', name='Actual Points'))\n",
    "fig.add_trace(go.Scatter(x=views['yr_mo_day'], y=reg_line_pts2(views, 'count'), \n",
    "                         mode='lines+markers', name='Regression'))\n",
    "fig.add_trace(go.Scatter(x=views['yr_mo_day'], y=lowess_line_pts(views, 'count'), \n",
    "                         mode='lines+markers', name='LOWESS'))\n",
    "fig.update_layout(title='Views Per Day', xaxis_title='Date', yaxis_title='Count')\n",
    "fig.show()"
   ]
  },
  {
   "cell_type": "code",
   "execution_count": null,
   "metadata": {},
   "outputs": [],
   "source": [
    "fig = go.Figure()\n",
    "fig.add_trace(go.Scatter(x=views['yr_mo_day'], y=views['uniques'],\n",
    "                         mode='lines+markers', name='Actual Points'))\n",
    "fig.add_trace(go.Scatter(x=views['yr_mo_day'], y=reg_line_pts2(views, 'uniques'), \n",
    "                         mode='lines+markers', name='Trendline'))\n",
    "fig.add_trace(go.Scatter(x=views['yr_mo_day'], y=lowess_line_pts(views, 'uniques'), \n",
    "                         mode='lines+markers', name='LOWESS'))\n",
    "fig.update_layout(title='Unique Views Per Day', xaxis_title='Date', yaxis_title='Unique Count')\n",
    "fig.show()"
   ]
  },
  {
   "cell_type": "code",
   "execution_count": null,
   "metadata": {},
   "outputs": [],
   "source": [
    "fig = go.Figure()\n",
    "fig.add_trace(go.Scatter(x=clones['yr_mo_day'], y=clones['count'],\n",
    "                         mode='lines+markers', name='Actual Points'))\n",
    "fig.add_trace(go.Scatter(x=clones['yr_mo_day'], y=reg_line_pts2(clones, 'count'), \n",
    "                         mode='lines+markers', name='Trendline'))\n",
    "fig.add_trace(go.Scatter(x=views['yr_mo_day'], y=lowess_line_pts(clones, 'count'), \n",
    "                         mode='lines+markers', name='LOWESS'))\n",
    "fig.update_layout(title='Clones Per Day', xaxis_title='Date', yaxis_title='Counts')\n",
    "fig.show()"
   ]
  },
  {
   "cell_type": "code",
   "execution_count": null,
   "metadata": {},
   "outputs": [],
   "source": [
    "fig = go.Figure()\n",
    "fig.add_trace(go.Scatter(x=clones['yr_mo_day'], y=clones['uniques'],\n",
    "                         mode='lines+markers', name='Actual Points'))\n",
    "fig.add_trace(go.Scatter(x=clones['yr_mo_day'], y=reg_line_pts2(clones, 'uniques'), \n",
    "                         mode='lines+markers', name='Trendline'))\n",
    "fig.add_trace(go.Scatter(x=views['yr_mo_day'], y=lowess_line_pts(clones, 'uniques'), \n",
    "                         mode='lines+markers', name='LOWESS'))\n",
    "fig.update_layout(title='Unique Clones Per Day', xaxis_title='Date', yaxis_title='Unique Counts')\n",
    "fig.show()"
   ]
  },
  {
   "cell_type": "code",
   "execution_count": null,
   "metadata": {},
   "outputs": [],
   "source": []
  }
 ],
 "metadata": {
  "kernelspec": {
   "display_name": "Python 3",
   "language": "python",
   "name": "python3"
  },
  "language_info": {
   "codemirror_mode": {
    "name": "ipython",
    "version": 3
   },
   "file_extension": ".py",
   "mimetype": "text/x-python",
   "name": "python",
   "nbconvert_exporter": "python",
   "pygments_lexer": "ipython3",
   "version": "3.8.0-final"
  }
 },
 "nbformat": 4,
 "nbformat_minor": 2
}