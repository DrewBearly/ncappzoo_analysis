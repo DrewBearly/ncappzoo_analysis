{
 "cells": [
  {
   "cell_type": "code",
   "execution_count": null,
   "metadata": {},
   "outputs": [],
   "source": [
    "import requests\n",
    "import pandas as pd\n",
    "import datetime as dt\n",
    "import subprocess\n",
    "import json\n",
    "import os"
   ]
  },
  {
   "cell_type": "code",
   "execution_count": null,
   "metadata": {},
   "outputs": [],
   "source": [
    "auth = '___:___'\n",
    "url = 'https://api.github.com/repos/movidius/ncappzoo/traffic/views'\n",
    "folder_name = 'ncappzoo_views_' + today\n",
    "file_name = folder_name + '/' + 'ncappzoo_views_' + today\n",
    "today"
   ]
  },
  {
   "cell_type": "code",
   "execution_count": null,
   "metadata": {},
   "outputs": [],
   "source": [
    "today = '_'.join(str(dt.datetime.today()).split(' '))\n",
    "today = '-'.join(str(today.split('.')[0]).split(':'))\n",
    "\n",
    "os.mkdir(folder_name)\n",
    "test = subprocess.Popen([\"curl\", \"-u\", auth, url, \">\", file_name], stdout=subprocess.PIPE)\n",
    "out, err = test.communicate()\n",
    "decoded_string = out.decode(\"utf-8\").replace(\"'\", '\"\"').replace('\\n', '')\n",
    "data = json.loads(decoded_string)\n",
    "\n",
    "counts = data['count']\n",
    "uniques = data['uniques']\n",
    "timestamp_data = data['views']"
   ]
  },
  {
   "cell_type": "code",
   "execution_count": null,
   "metadata": {},
   "outputs": [],
   "source": [
    "df = pd.DataFrame(timestamp_data)\n",
    "df"
   ]
  },
  {
   "cell_type": "code",
   "execution_count": null,
   "metadata": {},
   "outputs": [],
   "source": [
    "timestamps = [x.split('T')[0] for x in df['timestamp'].values]\n",
    "df['day'] = [x.split('-')[2] for x in timestamps]\n",
    "df['mo'] = [x.split('-')[1] for x in timestamps]\n",
    "df['yr'] = [x.split('-')[0] for x in timestamps]\n",
    "df"
   ]
  },
  {
   "cell_type": "code",
   "execution_count": null,
   "metadata": {},
   "outputs": [],
   "source": [
    "json_string = json.dumps(data, indent=4, sort_keys=True)\n",
    "f = open(file_name + '.json', 'a')\n",
    "f.write(json_string)\n",
    "f.close()\n",
    "csv_string = df.to_csv(file_name + '.csv', index=False)"
   ]
  }
 ],
 "metadata": {
  "kernelspec": {
   "display_name": "Python 3",
   "language": "python",
   "name": "python3"
  },
  "language_info": {
   "codemirror_mode": {
    "name": "ipython",
    "version": 3
   },
   "file_extension": ".py",
   "mimetype": "text/x-python",
   "name": "python",
   "nbconvert_exporter": "python",
   "pygments_lexer": "ipython3",
   "version": "3.6.8"
  }
 },
 "nbformat": 4,
 "nbformat_minor": 2
}
