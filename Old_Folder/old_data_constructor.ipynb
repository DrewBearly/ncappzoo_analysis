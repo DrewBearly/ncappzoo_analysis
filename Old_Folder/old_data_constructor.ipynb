{
 "cells": [
  {
   "cell_type": "code",
   "execution_count": 18,
   "metadata": {},
   "outputs": [],
   "source": [
    "import requests\n",
    "import pandas as pd\n",
    "import datetime as dt\n",
    "from datetime import timedelta\n",
    "import subprocess\n",
    "import json\n",
    "import os\n",
    "import re\n",
    "import seaborn as sns\n",
    "import numpy as np\n",
    "import matplotlib.pyplot as plt\n",
    "import dateutil.parser"
   ]
  },
  {
   "cell_type": "markdown",
   "metadata": {},
   "source": [
    "columns: <br/>\n",
    "timestamp\tcount\tuniques\tday\tmo\tyr\tcollection_timestamp yr_mo_day"
   ]
  },
  {
   "cell_type": "code",
   "execution_count": 14,
   "metadata": {},
   "outputs": [],
   "source": [
    "def data_json_maker(kind, count, unique, data):\n",
    "    return {\n",
    "        'count': count,\n",
    "        'uniques': unique,\n",
    "        kind: data\n",
    "    }"
   ]
  },
  {
   "cell_type": "markdown",
   "metadata": {},
   "source": [
    "Example data: <br/>\n",
    "'timestamp': '2019-10-07T00:00:00Z', 'count': 18, 'uniques': 1"
   ]
  },
  {
   "cell_type": "code",
   "execution_count": 26,
   "metadata": {},
   "outputs": [],
   "source": [
    "def string_date(month, day, year):\n",
    "    return year + '-' + month + '-' + day + 'T00:00:00Z'\n",
    "\n",
    "def generate_14_days(month, day, year):\n",
    "    start_date = string_date(month, day, year)\n",
    "    start = dateutil.parser.parse(start_date)\n",
    "    return [start + timedelta(hours=24*i) for i in range(14)]\n",
    "\n",
    "def generate_data(start, part1, part2):\n",
    "    mo, dy, yr = start\n",
    "    days = generate_14_days(mo, dy, yr)\n",
    "    ret_arr = []\n",
    "    for i in range(14):\n",
    "        ret_arr.append({\n",
    "            'timestamp': days[i], \n",
    "            'count': part1[i],\n",
    "            'uniques': part2[i]\n",
    "        })\n",
    "    return ret_arr"
   ]
  },
  {
   "cell_type": "code",
   "execution_count": 27,
   "metadata": {},
   "outputs": [
    {
     "data": {
      "text/plain": [
       "[datetime.datetime(2019, 7, 27, 0, 0, tzinfo=tzutc()),\n",
       " datetime.datetime(2019, 7, 28, 0, 0, tzinfo=tzutc()),\n",
       " datetime.datetime(2019, 7, 29, 0, 0, tzinfo=tzutc()),\n",
       " datetime.datetime(2019, 7, 30, 0, 0, tzinfo=tzutc()),\n",
       " datetime.datetime(2019, 7, 31, 0, 0, tzinfo=tzutc()),\n",
       " datetime.datetime(2019, 8, 1, 0, 0, tzinfo=tzutc()),\n",
       " datetime.datetime(2019, 8, 2, 0, 0, tzinfo=tzutc()),\n",
       " datetime.datetime(2019, 8, 3, 0, 0, tzinfo=tzutc()),\n",
       " datetime.datetime(2019, 8, 4, 0, 0, tzinfo=tzutc()),\n",
       " datetime.datetime(2019, 8, 5, 0, 0, tzinfo=tzutc()),\n",
       " datetime.datetime(2019, 8, 6, 0, 0, tzinfo=tzutc()),\n",
       " datetime.datetime(2019, 8, 7, 0, 0, tzinfo=tzutc()),\n",
       " datetime.datetime(2019, 8, 8, 0, 0, tzinfo=tzutc()),\n",
       " datetime.datetime(2019, 8, 9, 0, 0, tzinfo=tzutc())]"
      ]
     },
     "execution_count": 27,
     "metadata": {},
     "output_type": "execute_result"
    }
   ],
   "source": [
    "generate_14_days('07', '27', '2019')"
   ]
  },
  {
   "cell_type": "code",
   "execution_count": 25,
   "metadata": {},
   "outputs": [
    {
     "data": {
      "text/plain": [
       "14"
      ]
     },
     "execution_count": 25,
     "metadata": {},
     "output_type": "execute_result"
    }
   ],
   "source": [
    "part1_08_08 = [\n",
    "    11, 4, 17, 28, 16, 28, 10, 16, 10, 30, 29, 32, 26, 0\n",
    "]\n",
    "part2_08_08 = [\n",
    "    7, 4, 10, 16, 10, 14, 7, 8, 7, 14, 15, 17, 15, 0\n",
    "]\n",
    "generate_data(())"
   ]
  },
  {
   "cell_type": "code",
   "execution_count": null,
   "metadata": {},
   "outputs": [],
   "source": []
  }
 ],
 "metadata": {
  "kernelspec": {
   "display_name": "Python 3",
   "language": "python",
   "name": "python3"
  },
  "language_info": {
   "codemirror_mode": {
    "name": "ipython",
    "version": 3
   },
   "file_extension": ".py",
   "mimetype": "text/x-python",
   "name": "python",
   "nbconvert_exporter": "python",
   "pygments_lexer": "ipython3",
   "version": "3.6.8"
  }
 },
 "nbformat": 4,
 "nbformat_minor": 2
}
