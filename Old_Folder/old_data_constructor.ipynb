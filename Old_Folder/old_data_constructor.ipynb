{
 "cells": [
  {
   "cell_type": "code",
   "execution_count": 3,
   "metadata": {},
   "outputs": [],
   "source": [
    "import requests\n",
    "import pandas as pd\n",
    "import datetime as dt\n",
    "from datetime import timedelta\n",
    "import subprocess\n",
    "import json\n",
    "import os\n",
    "import re\n",
    "# import seaborn as sns\n",
    "import numpy as np\n",
    "import matplotlib.pyplot as plt\n",
    "import dateutil.parser"
   ]
  },
  {
   "cell_type": "markdown",
   "metadata": {},
   "source": [
    "columns: <br/>\n",
    "timestamp\tcount\tuniques\tday\tmo\tyr\tcollection_timestamp yr_mo_day"
   ]
  },
  {
   "cell_type": "markdown",
   "metadata": {},
   "source": [
    "Example data: <br/>\n",
    "'timestamp': '2019-10-07T00:00:00Z', 'count': 18, 'uniques': 1"
   ]
  },
  {
   "cell_type": "code",
   "execution_count": 11,
   "metadata": {},
   "outputs": [],
   "source": [
    "def string_date(month, day, year):\n",
    "    return year + '-' + month + '-' + day + 'T00:00:00Z'\n",
    "\n",
    "def generate_14_days(month, day, year):\n",
    "    start_date = string_date(month, day, year)\n",
    "    start = dateutil.parser.parse(start_date)\n",
    "    return [start + timedelta(hours=24*i) for i in range(14)]\n",
    "\n",
    "def generate_data(start, part1, part2):\n",
    "    mo, dy, yr = start\n",
    "    days = generate_14_days(mo, dy, yr)\n",
    "    ret_arr = []\n",
    "    for i in range(14):\n",
    "        ret_arr.append({\n",
    "            'timestamp': days[i].isoformat()[:10] + 'T00:00:00Z', \n",
    "            'count': part1[i],\n",
    "            'uniques': part2[i]\n",
    "        })\n",
    "    return ret_arr\n",
    "\n",
    "def data_json_maker(kind, count, unique, data):\n",
    "    return {\n",
    "        'count': str(count),\n",
    "        'uniques': str(unique),\n",
    "        kind: data\n",
    "    }\n",
    "\n",
    "def generate_json_file(start, part1, part2, kind, count, unique):\n",
    "    data = generate_data(start, part1, part2)\n",
    "    json_format = data_json_maker(kind, count, unique, data)\n",
    "    yr, mo, dy = start\n",
    "    file_name = yr + '-' + mo + '-' + dy + '_json.json'\n",
    "    print(json_format)\n",
    "    with open(file_name, 'w') as outfile:\n",
    "        json.dump(json_format, outfile, indent=4)\n",
    "    return json_format"
   ]
  },
  {
   "cell_type": "code",
   "execution_count": 14,
   "metadata": {},
   "outputs": [
    {
     "name": "stdout",
     "output_type": "stream",
     "text": [
      "{'count': '238', 'uniques': '133', 'clones': [{'timestamp': '2019-07-27T00:00:00Z', 'count': 11, 'uniques': 7}, {'timestamp': '2019-07-28T00:00:00Z', 'count': 4, 'uniques': 4}, {'timestamp': '2019-07-29T00:00:00Z', 'count': 17, 'uniques': 10}, {'timestamp': '2019-07-30T00:00:00Z', 'count': 28, 'uniques': 16}, {'timestamp': '2019-07-31T00:00:00Z', 'count': 16, 'uniques': 10}, {'timestamp': '2019-08-01T00:00:00Z', 'count': 28, 'uniques': 14}, {'timestamp': '2019-08-02T00:00:00Z', 'count': 10, 'uniques': 7}, {'timestamp': '2019-08-03T00:00:00Z', 'count': 16, 'uniques': 8}, {'timestamp': '2019-08-04T00:00:00Z', 'count': 10, 'uniques': 7}, {'timestamp': '2019-08-05T00:00:00Z', 'count': 30, 'uniques': 14}, {'timestamp': '2019-08-06T00:00:00Z', 'count': 29, 'uniques': 15}, {'timestamp': '2019-08-07T00:00:00Z', 'count': 32, 'uniques': 17}, {'timestamp': '2019-08-08T00:00:00Z', 'count': 21, 'uniques': 15}, {'timestamp': '2019-08-09T00:00:00Z', 'count': 0, 'uniques': 0}]}\n"
     ]
    }
   ],
   "source": [
    "# generate_data(('07', '27', '2019'), part1_08_08, part2_08_08)\n",
    "start_date = ('07', '27', '2019')\n",
    "part1_08_08 = [\n",
    "    11, 4, 17, 28, 16, 28, 10, 16, 10, 30, 29, 32, 21, 0\n",
    "]\n",
    "part2_08_08 = [\n",
    "    7, 4, 10, 16, 10, 14, 7, 8, 7, 14, 15, 17, 15, 0\n",
    "]\n",
    "\n",
    "# August 27th 2019\n",
    "json_obj_1 = generate_json_file(start_date, part1_08_08, part2_08_08, \n",
    "                   'clones', 238, 133)"
   ]
  },
  {
   "cell_type": "code",
   "execution_count": 15,
   "metadata": {},
   "outputs": [
    {
     "name": "stdout",
     "output_type": "stream",
     "text": [
      "{'count': '332', 'uniques': '168', 'clones': [{'timestamp': '2019-07-30T00:00:00Z', 'count': 28, 'uniques': 16}, {'timestamp': '2019-07-31T00:00:00Z', 'count': 16, 'uniques': 10}, {'timestamp': '2019-08-01T00:00:00Z', 'count': 28, 'uniques': 14}, {'timestamp': '2019-08-02T00:00:00Z', 'count': 10, 'uniques': 7}, {'timestamp': '2019-08-03T00:00:00Z', 'count': 16, 'uniques': 8}, {'timestamp': '2019-08-04T00:00:00Z', 'count': 10, 'uniques': 7}, {'timestamp': '2019-08-05T00:00:00Z', 'count': 30, 'uniques': 14}, {'timestamp': '2019-08-06T00:00:00Z', 'count': 29, 'uniques': 15}, {'timestamp': '2019-08-07T00:00:00Z', 'count': 32, 'uniques': 17}, {'timestamp': '2019-08-08T00:00:00Z', 'count': 21, 'uniques': 15}, {'timestamp': '2019-08-09T00:00:00Z', 'count': 34, 'uniques': 17}, {'timestamp': '2019-08-10T00:00:00Z', 'count': 34, 'uniques': 18}, {'timestamp': '2019-08-11T00:00:00Z', 'count': 33, 'uniques': 19}, {'timestamp': '2019-08-12T00:00:00Z', 'count': 25, 'uniques': 15}]}\n"
     ]
    }
   ],
   "source": [
    "start_date = ('07', '30', '2019')\n",
    "\n",
    "part1_08_12 = [\n",
    "    28, 16, 28, 10, 16, 10, 30, 29, 32, 21, 34, 34, 33, 25\n",
    "]\n",
    "part2_08_12 = [\n",
    "    16, 10, 14, 7, 8, 7, 14, 15, 17, 15, 17, 18, 19, 15\n",
    "]\n",
    "\n",
    "json_obj_2 = generate_json_file(start_date, part1_08_12, part2_08_12, 'clones', \n",
    "                  332, 168)"
   ]
  },
  {
   "cell_type": "code",
   "execution_count": 16,
   "metadata": {},
   "outputs": [
    {
     "name": "stdout",
     "output_type": "stream",
     "text": [
      "{'count': '409', 'uniques': '193', 'clones': [{'timestamp': '2019-08-02T00:00:00Z', 'count': 10, 'uniques': 7}, {'timestamp': '2019-08-03T00:00:00Z', 'count': 16, 'uniques': 8}, {'timestamp': '2019-08-04T00:00:00Z', 'count': 10, 'uniques': 7}, {'timestamp': '2019-08-05T00:00:00Z', 'count': 30, 'uniques': 14}, {'timestamp': '2019-08-06T00:00:00Z', 'count': 29, 'uniques': 15}, {'timestamp': '2019-08-07T00:00:00Z', 'count': 32, 'uniques': 17}, {'timestamp': '2019-08-08T00:00:00Z', 'count': 21, 'uniques': 15}, {'timestamp': '2019-08-09T00:00:00Z', 'count': 34, 'uniques': 17}, {'timestamp': '2019-08-10T00:00:00Z', 'count': 34, 'uniques': 18}, {'timestamp': '2019-08-11T00:00:00Z', 'count': 33, 'uniques': 19}, {'timestamp': '2019-08-12T00:00:00Z', 'count': 44, 'uniques': 22}, {'timestamp': '2019-08-13T00:00:00Z', 'count': 48, 'uniques': 20}, {'timestamp': '2019-08-14T00:00:00Z', 'count': 48, 'uniques': 23}, {'timestamp': '2019-08-15T00:00:00Z', 'count': 42, 'uniques': 22}]}\n"
     ]
    }
   ],
   "source": [
    "start_date = ('08', '02', '2019')\n",
    "\n",
    "part1_08_15 = [\n",
    "    10, 16, 10, 30, 29, 32, 21, 34, 34, 33, 44, 48, 48, 42\n",
    "]\n",
    "part2_08_15 = [\n",
    "    7, 8, 7, 14, 15, 17, 15, 17, 18, 19, 22, 20, 23, 22\n",
    "]\n",
    "\n",
    "json_obj_3 = generate_json_file(start_date, part1_08_15, part2_08_15, 'clones', \n",
    "                  409, 193)"
   ]
  },
  {
   "cell_type": "code",
   "execution_count": 28,
   "metadata": {},
   "outputs": [
    {
     "name": "stdout",
     "output_type": "stream",
     "text": [
      "{'count': '427', 'uniques': '210', 'clones': [{'timestamp': '2019-08-06T00:00:00Z', 'count': 29, 'uniques': 15}, {'timestamp': '2019-08-07T00:00:00Z', 'count': 32, 'uniques': 17}, {'timestamp': '2019-08-08T00:00:00Z', 'count': 21, 'uniques': 15}, {'timestamp': '2019-08-09T00:00:00Z', 'count': 34, 'uniques': 17}, {'timestamp': '2019-08-10T00:00:00Z', 'count': 34, 'uniques': 18}, {'timestamp': '2019-08-11T00:00:00Z', 'count': 33, 'uniques': 19}, {'timestamp': '2019-08-12T00:00:00Z', 'count': 44, 'uniques': 22}, {'timestamp': '2019-08-13T00:00:00Z', 'count': 48, 'uniques': 20}, {'timestamp': '2019-08-14T00:00:00Z', 'count': 48, 'uniques': 23}, {'timestamp': '2019-08-15T00:00:00Z', 'count': 42, 'uniques': 22}, {'timestamp': '2019-08-16T00:00:00Z', 'count': 33, 'uniques': 20}, {'timestamp': '2019-08-17T00:00:00Z', 'count': 24, 'uniques': 18}, {'timestamp': '2019-08-18T00:00:00Z', 'count': 20, 'uniques': 13}, {'timestamp': '2019-08-19T00:00:00Z', 'count': 13, 'uniques': 10}]}\n"
     ]
    }
   ],
   "source": [
    "start_date = ('08', '06', '2019')\n",
    "\n",
    "part1_08_19 = [\n",
    "    29, 32, 21, 34, 34, 33, 44, 48, 48, 42, 33, 24, 20, 13\n",
    "]\n",
    "part2_08_19 = [\n",
    "    15, 17, 15, 17, 18, 19, 22, 20, 23, 22, 20, 18, 13, 10\n",
    "]\n",
    "\n",
    "json_obj_4 = generate_json_file(start_date, part1_08_19, part2_08_19, 'clones', \n",
    "                  427, 210)"
   ]
  },
  {
   "cell_type": "code",
   "execution_count": null,
   "metadata": {},
   "outputs": [],
   "source": []
  },
  {
   "cell_type": "code",
   "execution_count": null,
   "metadata": {},
   "outputs": [],
   "source": []
  },
  {
   "cell_type": "code",
   "execution_count": null,
   "metadata": {},
   "outputs": [],
   "source": []
  },
  {
   "cell_type": "code",
   "execution_count": null,
   "metadata": {},
   "outputs": [],
   "source": []
  },
  {
   "cell_type": "code",
   "execution_count": 29,
   "metadata": {},
   "outputs": [],
   "source": [
    "pd1 = pd.DataFrame(json_obj_1['clones'])\n",
    "pd2 = pd.DataFrame(json_obj_2['clones'])\n",
    "pd3 = pd.DataFrame(json_obj_3['clones'])\n",
    "pd4 = pd.DataFrame(json_obj_4['clones'])\n",
    "pd_main = pd1.append(pd2).append(pd3).append(pd4).groupby('timestamp').max().reset_index()"
   ]
  },
  {
   "cell_type": "code",
   "execution_count": 30,
   "metadata": {},
   "outputs": [
    {
     "data": {
      "text/html": [
       "<div>\n",
       "<style scoped>\n",
       "    .dataframe tbody tr th:only-of-type {\n",
       "        vertical-align: middle;\n",
       "    }\n",
       "\n",
       "    .dataframe tbody tr th {\n",
       "        vertical-align: top;\n",
       "    }\n",
       "\n",
       "    .dataframe thead th {\n",
       "        text-align: right;\n",
       "    }\n",
       "</style>\n",
       "<table border=\"1\" class=\"dataframe\">\n",
       "  <thead>\n",
       "    <tr style=\"text-align: right;\">\n",
       "      <th></th>\n",
       "      <th>timestamp</th>\n",
       "      <th>count</th>\n",
       "      <th>uniques</th>\n",
       "    </tr>\n",
       "  </thead>\n",
       "  <tbody>\n",
       "    <tr>\n",
       "      <th>0</th>\n",
       "      <td>2019-07-27T00:00:00Z</td>\n",
       "      <td>11</td>\n",
       "      <td>7</td>\n",
       "    </tr>\n",
       "    <tr>\n",
       "      <th>1</th>\n",
       "      <td>2019-07-28T00:00:00Z</td>\n",
       "      <td>4</td>\n",
       "      <td>4</td>\n",
       "    </tr>\n",
       "    <tr>\n",
       "      <th>2</th>\n",
       "      <td>2019-07-29T00:00:00Z</td>\n",
       "      <td>17</td>\n",
       "      <td>10</td>\n",
       "    </tr>\n",
       "    <tr>\n",
       "      <th>3</th>\n",
       "      <td>2019-07-30T00:00:00Z</td>\n",
       "      <td>28</td>\n",
       "      <td>16</td>\n",
       "    </tr>\n",
       "    <tr>\n",
       "      <th>4</th>\n",
       "      <td>2019-07-31T00:00:00Z</td>\n",
       "      <td>16</td>\n",
       "      <td>10</td>\n",
       "    </tr>\n",
       "    <tr>\n",
       "      <th>5</th>\n",
       "      <td>2019-08-01T00:00:00Z</td>\n",
       "      <td>28</td>\n",
       "      <td>14</td>\n",
       "    </tr>\n",
       "    <tr>\n",
       "      <th>6</th>\n",
       "      <td>2019-08-02T00:00:00Z</td>\n",
       "      <td>10</td>\n",
       "      <td>7</td>\n",
       "    </tr>\n",
       "    <tr>\n",
       "      <th>7</th>\n",
       "      <td>2019-08-03T00:00:00Z</td>\n",
       "      <td>16</td>\n",
       "      <td>8</td>\n",
       "    </tr>\n",
       "    <tr>\n",
       "      <th>8</th>\n",
       "      <td>2019-08-04T00:00:00Z</td>\n",
       "      <td>10</td>\n",
       "      <td>7</td>\n",
       "    </tr>\n",
       "    <tr>\n",
       "      <th>9</th>\n",
       "      <td>2019-08-05T00:00:00Z</td>\n",
       "      <td>30</td>\n",
       "      <td>14</td>\n",
       "    </tr>\n",
       "    <tr>\n",
       "      <th>10</th>\n",
       "      <td>2019-08-06T00:00:00Z</td>\n",
       "      <td>29</td>\n",
       "      <td>15</td>\n",
       "    </tr>\n",
       "    <tr>\n",
       "      <th>11</th>\n",
       "      <td>2019-08-07T00:00:00Z</td>\n",
       "      <td>32</td>\n",
       "      <td>17</td>\n",
       "    </tr>\n",
       "    <tr>\n",
       "      <th>12</th>\n",
       "      <td>2019-08-08T00:00:00Z</td>\n",
       "      <td>21</td>\n",
       "      <td>15</td>\n",
       "    </tr>\n",
       "    <tr>\n",
       "      <th>13</th>\n",
       "      <td>2019-08-09T00:00:00Z</td>\n",
       "      <td>34</td>\n",
       "      <td>17</td>\n",
       "    </tr>\n",
       "    <tr>\n",
       "      <th>14</th>\n",
       "      <td>2019-08-10T00:00:00Z</td>\n",
       "      <td>34</td>\n",
       "      <td>18</td>\n",
       "    </tr>\n",
       "    <tr>\n",
       "      <th>15</th>\n",
       "      <td>2019-08-11T00:00:00Z</td>\n",
       "      <td>33</td>\n",
       "      <td>19</td>\n",
       "    </tr>\n",
       "    <tr>\n",
       "      <th>16</th>\n",
       "      <td>2019-08-12T00:00:00Z</td>\n",
       "      <td>44</td>\n",
       "      <td>22</td>\n",
       "    </tr>\n",
       "    <tr>\n",
       "      <th>17</th>\n",
       "      <td>2019-08-13T00:00:00Z</td>\n",
       "      <td>48</td>\n",
       "      <td>20</td>\n",
       "    </tr>\n",
       "    <tr>\n",
       "      <th>18</th>\n",
       "      <td>2019-08-14T00:00:00Z</td>\n",
       "      <td>48</td>\n",
       "      <td>23</td>\n",
       "    </tr>\n",
       "    <tr>\n",
       "      <th>19</th>\n",
       "      <td>2019-08-15T00:00:00Z</td>\n",
       "      <td>42</td>\n",
       "      <td>22</td>\n",
       "    </tr>\n",
       "    <tr>\n",
       "      <th>20</th>\n",
       "      <td>2019-08-16T00:00:00Z</td>\n",
       "      <td>33</td>\n",
       "      <td>20</td>\n",
       "    </tr>\n",
       "    <tr>\n",
       "      <th>21</th>\n",
       "      <td>2019-08-17T00:00:00Z</td>\n",
       "      <td>24</td>\n",
       "      <td>18</td>\n",
       "    </tr>\n",
       "    <tr>\n",
       "      <th>22</th>\n",
       "      <td>2019-08-18T00:00:00Z</td>\n",
       "      <td>20</td>\n",
       "      <td>13</td>\n",
       "    </tr>\n",
       "    <tr>\n",
       "      <th>23</th>\n",
       "      <td>2019-08-19T00:00:00Z</td>\n",
       "      <td>13</td>\n",
       "      <td>10</td>\n",
       "    </tr>\n",
       "  </tbody>\n",
       "</table>\n",
       "</div>"
      ],
      "text/plain": [
       "               timestamp  count  uniques\n",
       "0   2019-07-27T00:00:00Z     11        7\n",
       "1   2019-07-28T00:00:00Z      4        4\n",
       "2   2019-07-29T00:00:00Z     17       10\n",
       "3   2019-07-30T00:00:00Z     28       16\n",
       "4   2019-07-31T00:00:00Z     16       10\n",
       "5   2019-08-01T00:00:00Z     28       14\n",
       "6   2019-08-02T00:00:00Z     10        7\n",
       "7   2019-08-03T00:00:00Z     16        8\n",
       "8   2019-08-04T00:00:00Z     10        7\n",
       "9   2019-08-05T00:00:00Z     30       14\n",
       "10  2019-08-06T00:00:00Z     29       15\n",
       "11  2019-08-07T00:00:00Z     32       17\n",
       "12  2019-08-08T00:00:00Z     21       15\n",
       "13  2019-08-09T00:00:00Z     34       17\n",
       "14  2019-08-10T00:00:00Z     34       18\n",
       "15  2019-08-11T00:00:00Z     33       19\n",
       "16  2019-08-12T00:00:00Z     44       22\n",
       "17  2019-08-13T00:00:00Z     48       20\n",
       "18  2019-08-14T00:00:00Z     48       23\n",
       "19  2019-08-15T00:00:00Z     42       22\n",
       "20  2019-08-16T00:00:00Z     33       20\n",
       "21  2019-08-17T00:00:00Z     24       18\n",
       "22  2019-08-18T00:00:00Z     20       13\n",
       "23  2019-08-19T00:00:00Z     13       10"
      ]
     },
     "execution_count": 30,
     "metadata": {},
     "output_type": "execute_result"
    }
   ],
   "source": [
    "pd_main"
   ]
  },
  {
   "cell_type": "code",
   "execution_count": 23,
   "metadata": {},
   "outputs": [],
   "source": [
    "# Check\n",
    "# data = json.loads('07-27-2019_json.json')\n",
    "# counts = data['count']\n",
    "# uniques = data['uniques']\n",
    "# timestamp_data = data['clones']\n",
    "# df = pd.DataFrame(timestamp_data)\n",
    "# df"
   ]
  },
  {
   "cell_type": "code",
   "execution_count": 24,
   "metadata": {},
   "outputs": [
    {
     "name": "stdout",
     "output_type": "stream",
     "text": [
      "07-27-2019_json.json  08-02-2019_json.json\r\n",
      "07-30-2019_json.json  old_data_constructor.ipynb\r\n"
     ]
    }
   ],
   "source": [
    "!ls"
   ]
  },
  {
   "cell_type": "code",
   "execution_count": null,
   "metadata": {},
   "outputs": [],
   "source": []
  }
 ],
 "metadata": {
  "kernelspec": {
   "display_name": "Python 3",
   "language": "python",
   "name": "python3"
  },
  "language_info": {
   "codemirror_mode": {
    "name": "ipython",
    "version": 3
   },
   "file_extension": ".py",
   "mimetype": "text/x-python",
   "name": "python",
   "nbconvert_exporter": "python",
   "pygments_lexer": "ipython3",
   "version": "3.6.8"
  }
 },
 "nbformat": 4,
 "nbformat_minor": 2
}
